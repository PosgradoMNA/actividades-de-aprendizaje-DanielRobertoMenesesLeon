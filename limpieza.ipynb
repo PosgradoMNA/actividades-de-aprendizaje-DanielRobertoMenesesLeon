{
  "cells": [
    {
      "cell_type": "markdown",
      "metadata": {
        "id": "fOOlgJNH2cpv"
      },
      "source": [
        "# Actividad 1- Semana3\n",
        "## Limpieza de datos"
      ]
    },
    {
      "cell_type": "markdown",
      "metadata": {
        "id": "7N8p5jpd5Inf"
      },
      "source": [
        "La limpieza de datos implica observar más de cerca los problemas en los datos que ha seleccionado incluir en el análisis.\n",
        "\n",
        "### Problema de datos "
      ]
    },
    {
      "cell_type": "code",
      "execution_count": null,
      "metadata": {
        "id": "TovbM7qJXFGF"
      },
      "outputs": [
        {
          "ename": "",
          "evalue": "",
          "output_type": "error",
          "traceback": [
            "\u001b[1;31mNo se pudo iniciar el Kernel. \n",
            "\u001b[1;31mEl servidor de Jupyter se bloqueó. No se puede conectar. \n",
            "\u001b[1;31mCódigo de error de Jupyter: 1\n",
            "\u001b[1;31mTraceback (most recent call last):\n",
            "\u001b[1;31m  File \"/Library/Frameworks/Python.framework/Versions/2.7/lib/python2.7/runpy.py\", line 174, in _run_module_as_main\n",
            "\u001b[1;31m    \"__main__\", fname, loader, pkg_name)\n",
            "\u001b[1;31m\n",
            "\u001b[1;31m  File \"/Library/Frameworks/Python.framework/Versions/2.7/lib/python2.7/runpy.py\", line 72, in _run_code\n",
            "\u001b[1;31m    exec code in run_globals\n",
            "\u001b[1;31m  File \"/Users/dmeneses/Library/Python/2.7/lib/python/site-packages/jupyter.py\", line 10, in <module>\n",
            "\u001b[1;31m    run_module('jupyter_core')\n",
            "\u001b[1;31m  File \"/Library/Frameworks/Python.framework/Versions/2.7/lib/python2.7/runpy.py\", line 192, in run_module\n",
            "\u001b[1;31m    fname, loader, pkg_name)\n",
            "\u001b[1;31m  File \"/Library/Frameworks/Python.framework/Versions/2.7/lib/python2.7/runpy.py\", line 72, in _run_code\n",
            "\u001b[1;31m    exec code in run_globals\n",
            "\u001b[1;31m  File \"/Users/dmeneses/Library/Python/2.7/lib/python/site-packages/jupyter_core/__main__.py\", line 3, in <module>\n",
            "\u001b[1;31m    main()\n",
            "\u001b[1;31m  File \"/Users/dmeneses/Library/Python/2.7/lib/python/site-packages/jupyter_core/command.py\", line 247, in main\n",
            "\u001b[1;31m    command = _jupyter_abspath(subcommand)\n",
            "\u001b[1;31m  File \"/Users/dmeneses/Library/Python/2.7/lib/python/site-packages/jupyter_core/command.py\", line 134, in _jupyter_abspath\n",
            "\u001b[1;31m    'Jupyter command `{}` not found.'.format(jupyter_subcommand)\n",
            "\u001b[1;31mException\n",
            "\u001b[1;31m: Jupyter command `jupyter-notebook` not found. \n",
            "\u001b[1;31mVea el [registro] de Jupyter (command:jupyter.viewOutput) para obtener más detalles."
          ]
        }
      ],
      "source": [
        "import pandas as pd\n",
        "import numpy as np"
      ]
    },
    {
      "cell_type": "markdown",
      "metadata": {
        "id": "sBPpvD3A-kY8"
      },
      "source": [
        "Podemos crear un base de datos (DataFrame):"
      ]
    },
    {
      "cell_type": "code",
      "execution_count": null,
      "metadata": {
        "id": "2GC7dWBwTh1W"
      },
      "outputs": [
        {
          "ename": "",
          "evalue": "",
          "output_type": "error",
          "traceback": [
            "\u001b[1;31mNo se pudo iniciar el Kernel. \n",
            "\u001b[1;31mEl servidor de Jupyter se bloqueó. No se puede conectar. \n",
            "\u001b[1;31mCódigo de error de Jupyter: 1\n",
            "\u001b[1;31mTraceback (most recent call last):\n",
            "\u001b[1;31m  File \"/Library/Frameworks/Python.framework/Versions/2.7/lib/python2.7/runpy.py\", line 174, in _run_module_as_main\n",
            "\u001b[1;31m\n",
            "\u001b[1;31m    \"__main__\", fname, loader, pkg_name)\n",
            "\u001b[1;31m  File \"/Library/Frameworks/Python.framework/Versions/2.7/lib/python2.7/runpy.py\", line 72, in _run_code\n",
            "\u001b[1;31m    exec code in run_globals\n",
            "\u001b[1;31m  File \"/Users/dmeneses/Library/Python/2.7/lib/python/site-packages/jupyter.py\", line 10, in <module>\n",
            "\u001b[1;31m    run_module('jupyter_core')\n",
            "\u001b[1;31m  File \"/Library/Frameworks/Python.framework/Versions/2.7/lib/python2.7/runpy.py\", line 192, in run_module\n",
            "\u001b[1;31m    fname, loader, pkg_name)\n",
            "\u001b[1;31m  File \"/Library/Frameworks/Python.framework/Versions/2.7/lib/python2.7/runpy.py\", line 72, in _run_code\n",
            "\u001b[1;31m    exec code in run_globals\n",
            "\u001b[1;31m  File \"/Users/dmeneses/Library/Python/2.7/lib/python/site-packages/jupyter_core/__main__.py\", line 3, in <module>\n",
            "\u001b[1;31m    main()\n",
            "\u001b[1;31m  File \"/Users/dmeneses/Library/Python/2.7/lib/python/site-packages/jupyter_core/command.py\", line 247, in main\n",
            "\u001b[1;31m\n",
            "\u001b[1;31m    command = _jupyter_abspath(subcommand)\n",
            "\u001b[1;31m  File \"/Users/dmeneses/Library/Python/2.7/lib/python/site-packages/jupyter_core/command.py\", line 134, in _jupyter_abspath\n",
            "\u001b[1;31m    'Jupyter command `{}` not found.'.format(jupyter_subcommand)\n",
            "\u001b[1;31mException: Jupyter command `jupyter-notebook` not found. \n",
            "\u001b[1;31mVea el [registro] de Jupyter (command:jupyter.viewOutput) para obtener más detalles."
          ]
        }
      ],
      "source": [
        "x = {'Company': ['Ford', 'Ford', 'VW', 'BMW', 'Cooper', 'Cooper'], \n",
        "     'Stars' : [1, 2, np.nan, 2, 1, 1], \n",
        "     'Weight' : [2, 4, 2, 2, 3, None], \n",
        "     'Origin' : ['China', 'Mexico', 'Mexico', None, 'China', np.nan], \n",
        "     'Length': [40, 50, 30, np.nan, 45, pd.NaT]\n",
        "}"
      ]
    },
    {
      "cell_type": "code",
      "execution_count": null,
      "metadata": {
        "colab": {
          "base_uri": "https://localhost:8080/",
          "height": 231
        },
        "id": "OFQ-JyePXD_g",
        "outputId": "2de25f0a-0125-4831-d1f4-9b807e44b5fd"
      },
      "outputs": [
        {
          "ename": "",
          "evalue": "",
          "output_type": "error",
          "traceback": [
            "\u001b[1;31mNo se pudo iniciar el Kernel. \n",
            "\u001b[1;31mEl servidor de Jupyter se bloqueó. No se puede conectar. \n",
            "\u001b[1;31mCódigo de error de Jupyter: 1\n",
            "\u001b[1;31mTraceback (most recent call last):\n",
            "\u001b[1;31m  File \"/Library/Frameworks/Python.framework/Versions/2.7/lib/python2.7/runpy.py\", line 174, in _run_module_as_main\n",
            "\u001b[1;31m\n",
            "\u001b[1;31m    \"__main__\", fname, loader, pkg_name)\n",
            "\u001b[1;31m  File \"/Library/Frameworks/Python.framework/Versions/2.7/lib/python2.7/runpy.py\", line 72, in _run_code\n",
            "\u001b[1;31m    exec code in run_globals\n",
            "\u001b[1;31m  File \"/Users/dmeneses/Library/Python/2.7/lib/python/site-packages/jupyter.py\", line 10, in <module>\n",
            "\u001b[1;31m    run_module('jupyter_core')\n",
            "\u001b[1;31m  File \"/Library/Frameworks/Python.framework/Versions/2.7/lib/python2.7/runpy.py\", line 192, in run_module\n",
            "\u001b[1;31m    fname, loader, pkg_name)\n",
            "\u001b[1;31m  File \"/Library/Frameworks/Python.framework/Versions/2.7/lib/python2.7/runpy.py\", line 72, in _run_code\n",
            "\u001b[1;31m    exec code in run_globals\n",
            "\u001b[1;31m  File \"/Users/dmeneses/Library/Python/2.7/lib/python/site-packages/jupyter_core/__main__.py\", line 3, in <module>\n",
            "\u001b[1;31m    main()\n",
            "\u001b[1;31m  File \"/Users/dmeneses/Library/Python/2.7/lib/python/site-packages/jupyter_core/command.py\", line 247, in main\n",
            "\u001b[1;31m\n",
            "\u001b[1;31m    command = _jupyter_abspath(subcommand)\n",
            "\u001b[1;31m  File \"/Users/dmeneses/Library/Python/2.7/lib/python/site-packages/jupyter_core/command.py\", line 134, in _jupyter_abspath\n",
            "\u001b[1;31m    'Jupyter command `{}` not found.'.format(jupyter_subcommand)\n",
            "\u001b[1;31mException: Jupyter command `jupyter-notebook` not found. \n",
            "\u001b[1;31mVea el [registro] de Jupyter (command:jupyter.viewOutput) para obtener más detalles."
          ]
        }
      ],
      "source": [
        "df  = pd.read_cvs('https://raw.githubusercontent.com/PosgradoMNA/Actividades_Aprendizaje-/main/default%20of%20credit%20card%20clients.csv')\n",
        "\n",
        "df"
      ]
    },
    {
      "cell_type": "markdown",
      "metadata": {
        "id": "e9cdTkWX-xj5"
      },
      "source": [
        "Guardamos en un archivo CSV (coma separated value)"
      ]
    },
    {
      "cell_type": "code",
      "execution_count": null,
      "metadata": {
        "id": "HznSD5BI-vcN"
      },
      "outputs": [
        {
          "ename": "",
          "evalue": "",
          "output_type": "error",
          "traceback": [
            "\u001b[1;31mNo se pudo iniciar el Kernel. \n",
            "\u001b[1;31mEl servidor de Jupyter se bloqueó. No se puede conectar. \n",
            "\u001b[1;31mCódigo de error de Jupyter: 1\n",
            "\u001b[1;31mTraceback (most recent call last):\n",
            "\u001b[1;31m  File \"/Library/Frameworks/Python.framework/Versions/2.7/lib/python2.7/runpy.py\", line 174, in _run_module_as_main\n",
            "\u001b[1;31m\n",
            "\u001b[1;31m    \"__main__\", fname, loader, pkg_name)\n",
            "\u001b[1;31m  File \"/Library/Frameworks/Python.framework/Versions/2.7/lib/python2.7/runpy.py\", line 72, in _run_code\n",
            "\u001b[1;31m    exec code in run_globals\n",
            "\u001b[1;31m  File \"/Users/dmeneses/Library/Python/2.7/lib/python/site-packages/jupyter.py\", line 10, in <module>\n",
            "\u001b[1;31m    run_module('jupyter_core')\n",
            "\u001b[1;31m  File \"/Library/Frameworks/Python.framework/Versions/2.7/lib/python2.7/runpy.py\", line 192, in run_module\n",
            "\u001b[1;31m    fname, loader, pkg_name)\n",
            "\u001b[1;31m  File \"/Library/Frameworks/Python.framework/Versions/2.7/lib/python2.7/runpy.py\", line 72, in _run_code\n",
            "\u001b[1;31m    exec code in run_globals\n",
            "\u001b[1;31m  File \"/Users/dmeneses/Library/Python/2.7/lib/python/site-packages/jupyter_core/__main__.py\", line 3, in <module>\n",
            "\u001b[1;31m    main()\n",
            "\u001b[1;31m  File \"/Users/dmeneses/Library/Python/2.7/lib/python/site-packages/jupyter_core/command.py\", line 247, in main\n",
            "\u001b[1;31m\n",
            "\u001b[1;31m    command = _jupyter_abspath(subcommand)\n",
            "\u001b[1;31m  File \"/Users/dmeneses/Library/Python/2.7/lib/python/site-packages/jupyter_core/command.py\", line 134, in _jupyter_abspath\n",
            "\u001b[1;31m    'Jupyter command `{}` not found.'.format(jupyter_subcommand)\n",
            "\u001b[1;31mException: Jupyter command `jupyter-notebook` not found. \n",
            "\u001b[1;31mVea el [registro] de Jupyter (command:jupyter.viewOutput) para obtener más detalles."
          ]
        }
      ],
      "source": [
        "df.to_csv('data.csv')"
      ]
    },
    {
      "cell_type": "markdown",
      "metadata": {
        "id": "ZKh13NpO-564"
      },
      "source": [
        "Alternativamente, podemos leer un conjunto de datos ya disponible:"
      ]
    },
    {
      "cell_type": "code",
      "execution_count": null,
      "metadata": {
        "colab": {
          "base_uri": "https://localhost:8080/",
          "height": 231
        },
        "id": "77HABkN9-BHz",
        "outputId": "41743253-6aa5-4ac9-8557-f50971e4810f"
      },
      "outputs": [
        {
          "ename": "",
          "evalue": "",
          "output_type": "error",
          "traceback": [
            "\u001b[1;31mNo se pudo iniciar el Kernel. \n",
            "\u001b[1;31mEl servidor de Jupyter se bloqueó. No se puede conectar. \n",
            "\u001b[1;31mCódigo de error de Jupyter: 1\n",
            "\u001b[1;31mTraceback (most recent call last):\n",
            "\u001b[1;31m  File \"/Library/Frameworks/Python.framework/Versions/2.7/lib/python2.7/runpy.py\", line 174, in _run_module_as_main\n",
            "\u001b[1;31m\n",
            "\u001b[1;31m    \"__main__\", fname, loader, pkg_name)\n",
            "\u001b[1;31m  File \"/Library/Frameworks/Python.framework/Versions/2.7/lib/python2.7/runpy.py\", line 72, in _run_code\n",
            "\u001b[1;31m    exec code in run_globals\n",
            "\u001b[1;31m  File \"/Users/dmeneses/Library/Python/2.7/lib/python/site-packages/jupyter.py\", line 10, in <module>\n",
            "\u001b[1;31m    run_module('jupyter_core')\n",
            "\u001b[1;31m  File \"/Library/Frameworks/Python.framework/Versions/2.7/lib/python2.7/runpy.py\", line 192, in run_module\n",
            "\u001b[1;31m    fname, loader, pkg_name)\n",
            "\u001b[1;31m  File \"/Library/Frameworks/Python.framework/Versions/2.7/lib/python2.7/runpy.py\", line 72, in _run_code\n",
            "\u001b[1;31m    exec code in run_globals\n",
            "\u001b[1;31m  File \"/Users/dmeneses/Library/Python/2.7/lib/python/site-packages/jupyter_core/__main__.py\", line 3, in <module>\n",
            "\u001b[1;31m    main()\n",
            "\u001b[1;31m  File \"/Users/dmeneses/Library/Python/2.7/lib/python/site-packages/jupyter_core/command.py\", line 247, in main\n",
            "\u001b[1;31m\n",
            "\u001b[1;31m    command = _jupyter_abspath(subcommand)\n",
            "\u001b[1;31m  File \"/Users/dmeneses/Library/Python/2.7/lib/python/site-packages/jupyter_core/command.py\", line 134, in _jupyter_abspath\n",
            "\u001b[1;31m    'Jupyter command `{}` not found.'.format(jupyter_subcommand)\n",
            "\u001b[1;31mException: Jupyter command `jupyter-notebook` not found. \n",
            "\u001b[1;31mVea el [registro] de Jupyter (command:jupyter.viewOutput) para obtener más detalles."
          ]
        }
      ],
      "source": [
        "df = pd.read_csv('/content/data.csv', index_col=0)\n",
        "df"
      ]
    },
    {
      "cell_type": "markdown",
      "metadata": {
        "id": "dKpA0GXt_OBn"
      },
      "source": [
        "Para verificar, ¿falta algún dato?:"
      ]
    },
    {
      "cell_type": "code",
      "execution_count": null,
      "metadata": {
        "colab": {
          "base_uri": "https://localhost:8080/"
        },
        "id": "A0GdxAaDXUmu",
        "outputId": "55c3d399-e0af-42e0-960f-6dd2b711b2b0"
      },
      "outputs": [
        {
          "ename": "",
          "evalue": "",
          "output_type": "error",
          "traceback": [
            "\u001b[1;31mNo se pudo iniciar el Kernel. \n",
            "\u001b[1;31mEl servidor de Jupyter se bloqueó. No se puede conectar. \n",
            "\u001b[1;31mCódigo de error de Jupyter: 1\n",
            "\u001b[1;31mTraceback (most recent call last):\n",
            "\u001b[1;31m  File \"/Library/Frameworks/Python.framework/Versions/2.7/lib/python2.7/runpy.py\", line 174, in _run_module_as_main\n",
            "\u001b[1;31m\n",
            "\u001b[1;31m    \"__main__\", fname, loader, pkg_name)\n",
            "\u001b[1;31m  File \"/Library/Frameworks/Python.framework/Versions/2.7/lib/python2.7/runpy.py\", line 72, in _run_code\n",
            "\u001b[1;31m    exec code in run_globals\n",
            "\u001b[1;31m  File \"/Users/dmeneses/Library/Python/2.7/lib/python/site-packages/jupyter.py\", line 10, in <module>\n",
            "\u001b[1;31m    run_module('jupyter_core')\n",
            "\u001b[1;31m  File \"/Library/Frameworks/Python.framework/Versions/2.7/lib/python2.7/runpy.py\", line 192, in run_module\n",
            "\u001b[1;31m    fname, loader, pkg_name)\n",
            "\u001b[1;31m  File \"/Library/Frameworks/Python.framework/Versions/2.7/lib/python2.7/runpy.py\", line 72, in _run_code\n",
            "\u001b[1;31m    exec code in run_globals\n",
            "\u001b[1;31m  File \"/Users/dmeneses/Library/Python/2.7/lib/python/site-packages/jupyter_core/__main__.py\", line 3, in <module>\n",
            "\u001b[1;31m    main()\n",
            "\u001b[1;31m  File \"/Users/dmeneses/Library/Python/2.7/lib/python/site-packages/jupyter_core/command.py\", line 247, in main\n",
            "\u001b[1;31m\n",
            "\u001b[1;31m    command = _jupyter_abspath(subcommand)\n",
            "\u001b[1;31m  File \"/Users/dmeneses/Library/Python/2.7/lib/python/site-packages/jupyter_core/command.py\", line 134, in _jupyter_abspath\n",
            "\u001b[1;31m    'Jupyter command `{}` not found.'.format(jupyter_subcommand)\n",
            "\u001b[1;31mException: Jupyter command `jupyter-notebook` not found. \n",
            "\u001b[1;31mVea el [registro] de Jupyter (command:jupyter.viewOutput) para obtener más detalles."
          ]
        }
      ],
      "source": [
        "df.isnull().values.any()"
      ]
    },
    {
      "cell_type": "code",
      "execution_count": null,
      "metadata": {
        "colab": {
          "base_uri": "https://localhost:8080/"
        },
        "id": "h7AZVyHraY6N",
        "outputId": "31e10cba-3f98-458c-c9ad-675527191388"
      },
      "outputs": [
        {
          "ename": "",
          "evalue": "",
          "output_type": "error",
          "traceback": [
            "\u001b[1;31mNo se pudo iniciar el Kernel. \n",
            "\u001b[1;31mEl servidor de Jupyter se bloqueó. No se puede conectar. \n",
            "\u001b[1;31mCódigo de error de Jupyter: 1\n",
            "\u001b[1;31mTraceback (most recent call last):\n",
            "\u001b[1;31m  File \"/Library/Frameworks/Python.framework/Versions/2.7/lib/python2.7/runpy.py\", line 174, in _run_module_as_main\n",
            "\u001b[1;31m\n",
            "\u001b[1;31m    \"__main__\", fname, loader, pkg_name)\n",
            "\u001b[1;31m  File \"/Library/Frameworks/Python.framework/Versions/2.7/lib/python2.7/runpy.py\", line 72, in _run_code\n",
            "\u001b[1;31m    exec code in run_globals\n",
            "\u001b[1;31m  File \"/Users/dmeneses/Library/Python/2.7/lib/python/site-packages/jupyter.py\", line 10, in <module>\n",
            "\u001b[1;31m    run_module('jupyter_core')\n",
            "\u001b[1;31m  File \"/Library/Frameworks/Python.framework/Versions/2.7/lib/python2.7/runpy.py\", line 192, in run_module\n",
            "\u001b[1;31m    fname, loader, pkg_name)\n",
            "\u001b[1;31m  File \"/Library/Frameworks/Python.framework/Versions/2.7/lib/python2.7/runpy.py\", line 72, in _run_code\n",
            "\u001b[1;31m    exec code in run_globals\n",
            "\u001b[1;31m  File \"/Users/dmeneses/Library/Python/2.7/lib/python/site-packages/jupyter_core/__main__.py\", line 3, in <module>\n",
            "\u001b[1;31m    main()\n",
            "\u001b[1;31m  File \"/Users/dmeneses/Library/Python/2.7/lib/python/site-packages/jupyter_core/command.py\", line 247, in main\n",
            "\u001b[1;31m\n",
            "\u001b[1;31m    command = _jupyter_abspath(subcommand)\n",
            "\u001b[1;31m  File \"/Users/dmeneses/Library/Python/2.7/lib/python/site-packages/jupyter_core/command.py\", line 134, in _jupyter_abspath\n",
            "\u001b[1;31m    'Jupyter command `{}` not found.'.format(jupyter_subcommand)\n",
            "\u001b[1;31mException: Jupyter command `jupyter-notebook` not found. \n",
            "\u001b[1;31mVea el [registro] de Jupyter (command:jupyter.viewOutput) para obtener más detalles."
          ]
        }
      ],
      "source": [
        "df.isnull().any()"
      ]
    },
    {
      "cell_type": "markdown",
      "metadata": {
        "id": "NNGpDgWP_QPj"
      },
      "source": [
        "alternativamente:"
      ]
    },
    {
      "cell_type": "code",
      "execution_count": null,
      "metadata": {
        "colab": {
          "base_uri": "https://localhost:8080/"
        },
        "id": "Rhws9Sa-ajZB",
        "outputId": "b63a47ca-2829-488e-c393-4796404f88ce"
      },
      "outputs": [
        {
          "ename": "",
          "evalue": "",
          "output_type": "error",
          "traceback": [
            "\u001b[1;31mNo se pudo iniciar el Kernel. \n",
            "\u001b[1;31mEl servidor de Jupyter se bloqueó. No se puede conectar. \n",
            "\u001b[1;31mCódigo de error de Jupyter: 1\n",
            "\u001b[1;31mTraceback (most recent call last):\n",
            "\u001b[1;31m  File \"/Library/Frameworks/Python.framework/Versions/2.7/lib/python2.7/runpy.py\", line 174, in _run_module_as_main\n",
            "\u001b[1;31m\n",
            "\u001b[1;31m    \"__main__\", fname, loader, pkg_name)\n",
            "\u001b[1;31m  File \"/Library/Frameworks/Python.framework/Versions/2.7/lib/python2.7/runpy.py\", line 72, in _run_code\n",
            "\u001b[1;31m    exec code in run_globals\n",
            "\u001b[1;31m  File \"/Users/dmeneses/Library/Python/2.7/lib/python/site-packages/jupyter.py\", line 10, in <module>\n",
            "\u001b[1;31m    run_module('jupyter_core')\n",
            "\u001b[1;31m  File \"/Library/Frameworks/Python.framework/Versions/2.7/lib/python2.7/runpy.py\", line 192, in run_module\n",
            "\u001b[1;31m    fname, loader, pkg_name)\n",
            "\u001b[1;31m  File \"/Library/Frameworks/Python.framework/Versions/2.7/lib/python2.7/runpy.py\", line 72, in _run_code\n",
            "\u001b[1;31m    exec code in run_globals\n",
            "\u001b[1;31m  File \"/Users/dmeneses/Library/Python/2.7/lib/python/site-packages/jupyter_core/__main__.py\", line 3, in <module>\n",
            "\u001b[1;31m    main()\n",
            "\u001b[1;31m  File \"/Users/dmeneses/Library/Python/2.7/lib/python/site-packages/jupyter_core/command.py\", line 247, in main\n",
            "\u001b[1;31m\n",
            "\u001b[1;31m    command = _jupyter_abspath(subcommand)\n",
            "\u001b[1;31m  File \"/Users/dmeneses/Library/Python/2.7/lib/python/site-packages/jupyter_core/command.py\", line 134, in _jupyter_abspath\n",
            "\u001b[1;31m    'Jupyter command `{}` not found.'.format(jupyter_subcommand)\n",
            "\u001b[1;31mException: Jupyter command `jupyter-notebook` not found. \n",
            "\u001b[1;31mVea el [registro] de Jupyter (command:jupyter.viewOutput) para obtener más detalles."
          ]
        }
      ],
      "source": [
        "df.isna().values.any()"
      ]
    },
    {
      "cell_type": "code",
      "execution_count": null,
      "metadata": {
        "colab": {
          "base_uri": "https://localhost:8080/"
        },
        "id": "qAQve11na8aR",
        "outputId": "3399670f-32cd-44db-e5b2-baf7fb75bf2a"
      },
      "outputs": [
        {
          "ename": "",
          "evalue": "",
          "output_type": "error",
          "traceback": [
            "\u001b[1;31mNo se pudo iniciar el Kernel. \n",
            "\u001b[1;31mEl servidor de Jupyter se bloqueó. No se puede conectar. \n",
            "\u001b[1;31mCódigo de error de Jupyter: 1\n",
            "\u001b[1;31mTraceback (most recent call last):\n",
            "\u001b[1;31m  File \"/Library/Frameworks/Python.framework/Versions/2.7/lib/python2.7/runpy.py\", line 174, in _run_module_as_main\n",
            "\u001b[1;31m\n",
            "\u001b[1;31m    \"__main__\", fname, loader, pkg_name)\n",
            "\u001b[1;31m  File \"/Library/Frameworks/Python.framework/Versions/2.7/lib/python2.7/runpy.py\", line 72, in _run_code\n",
            "\u001b[1;31m    exec code in run_globals\n",
            "\u001b[1;31m  File \"/Users/dmeneses/Library/Python/2.7/lib/python/site-packages/jupyter.py\", line 10, in <module>\n",
            "\u001b[1;31m    run_module('jupyter_core')\n",
            "\u001b[1;31m  File \"/Library/Frameworks/Python.framework/Versions/2.7/lib/python2.7/runpy.py\", line 192, in run_module\n",
            "\u001b[1;31m    fname, loader, pkg_name)\n",
            "\u001b[1;31m  File \"/Library/Frameworks/Python.framework/Versions/2.7/lib/python2.7/runpy.py\", line 72, in _run_code\n",
            "\u001b[1;31m    exec code in run_globals\n",
            "\u001b[1;31m  File \"/Users/dmeneses/Library/Python/2.7/lib/python/site-packages/jupyter_core/__main__.py\", line 3, in <module>\n",
            "\u001b[1;31m    main()\n",
            "\u001b[1;31m  File \"/Users/dmeneses/Library/Python/2.7/lib/python/site-packages/jupyter_core/command.py\", line 247, in main\n",
            "\u001b[1;31m\n",
            "\u001b[1;31m    command = _jupyter_abspath(subcommand)\n",
            "\u001b[1;31m  File \"/Users/dmeneses/Library/Python/2.7/lib/python/site-packages/jupyter_core/command.py\", line 134, in _jupyter_abspath\n",
            "\u001b[1;31m    'Jupyter command `{}` not found.'.format(jupyter_subcommand)\n",
            "\u001b[1;31mException: Jupyter command `jupyter-notebook` not found. \n",
            "\u001b[1;31mVea el [registro] de Jupyter (command:jupyter.viewOutput) para obtener más detalles."
          ]
        }
      ],
      "source": [
        "df.isna().any()"
      ]
    },
    {
      "cell_type": "code",
      "execution_count": null,
      "metadata": {
        "colab": {
          "base_uri": "https://localhost:8080/",
          "height": 231
        },
        "id": "Fw_kn2tsbD-5",
        "outputId": "5b66934f-7d9a-45f1-8234-c065f9f57e51"
      },
      "outputs": [
        {
          "ename": "",
          "evalue": "",
          "output_type": "error",
          "traceback": [
            "\u001b[1;31mNo se pudo iniciar el Kernel. \n",
            "\u001b[1;31mEl servidor de Jupyter se bloqueó. No se puede conectar. \n",
            "\u001b[1;31mCódigo de error de Jupyter: 1\n",
            "\u001b[1;31mTraceback (most recent call last):\n",
            "\u001b[1;31m  File \"/Library/Frameworks/Python.framework/Versions/2.7/lib/python2.7/runpy.py\", line 174, in _run_module_as_main\n",
            "\u001b[1;31m\n",
            "\u001b[1;31m    \"__main__\", fname, loader, pkg_name)\n",
            "\u001b[1;31m  File \"/Library/Frameworks/Python.framework/Versions/2.7/lib/python2.7/runpy.py\", line 72, in _run_code\n",
            "\u001b[1;31m    exec code in run_globals\n",
            "\u001b[1;31m  File \"/Users/dmeneses/Library/Python/2.7/lib/python/site-packages/jupyter.py\", line 10, in <module>\n",
            "\u001b[1;31m    run_module('jupyter_core')\n",
            "\u001b[1;31m  File \"/Library/Frameworks/Python.framework/Versions/2.7/lib/python2.7/runpy.py\", line 192, in run_module\n",
            "\u001b[1;31m    fname, loader, pkg_name)\n",
            "\u001b[1;31m  File \"/Library/Frameworks/Python.framework/Versions/2.7/lib/python2.7/runpy.py\", line 72, in _run_code\n",
            "\u001b[1;31m    exec code in run_globals\n",
            "\u001b[1;31m  File \"/Users/dmeneses/Library/Python/2.7/lib/python/site-packages/jupyter_core/__main__.py\", line 3, in <module>\n",
            "\u001b[1;31m    main()\n",
            "\u001b[1;31m  File \"/Users/dmeneses/Library/Python/2.7/lib/python/site-packages/jupyter_core/command.py\", line 247, in main\n",
            "\u001b[1;31m\n",
            "\u001b[1;31m    command = _jupyter_abspath(subcommand)\n",
            "\u001b[1;31m  File \"/Users/dmeneses/Library/Python/2.7/lib/python/site-packages/jupyter_core/command.py\", line 134, in _jupyter_abspath\n",
            "\u001b[1;31m    'Jupyter command `{}` not found.'.format(jupyter_subcommand)\n",
            "\u001b[1;31mException: Jupyter command `jupyter-notebook` not found. \n",
            "\u001b[1;31mVea el [registro] de Jupyter (command:jupyter.viewOutput) para obtener más detalles."
          ]
        }
      ],
      "source": [
        "df"
      ]
    },
    {
      "cell_type": "markdown",
      "metadata": {
        "id": "jDBUTePP_i09"
      },
      "source": [
        "### Solucion 1: \n",
        "\n",
        "Descartar las observaciones con valores faltantes"
      ]
    },
    {
      "cell_type": "code",
      "execution_count": null,
      "metadata": {
        "id": "emd31KUTbQkR"
      },
      "outputs": [
        {
          "ename": "",
          "evalue": "",
          "output_type": "error",
          "traceback": [
            "\u001b[1;31mNo se pudo iniciar el Kernel. \n",
            "\u001b[1;31mEl servidor de Jupyter se bloqueó. No se puede conectar. \n",
            "\u001b[1;31mCódigo de error de Jupyter: 1\n",
            "\u001b[1;31mTraceback (most recent call last):\n",
            "\u001b[1;31m  File \"/Library/Frameworks/Python.framework/Versions/2.7/lib/python2.7/runpy.py\", line 174, in _run_module_as_main\n",
            "\u001b[1;31m\n",
            "\u001b[1;31m    \"__main__\", fname, loader, pkg_name)\n",
            "\u001b[1;31m  File \"/Library/Frameworks/Python.framework/Versions/2.7/lib/python2.7/runpy.py\", line 72, in _run_code\n",
            "\u001b[1;31m    exec code in run_globals\n",
            "\u001b[1;31m  File \"/Users/dmeneses/Library/Python/2.7/lib/python/site-packages/jupyter.py\", line 10, in <module>\n",
            "\u001b[1;31m    run_module('jupyter_core')\n",
            "\u001b[1;31m  File \"/Library/Frameworks/Python.framework/Versions/2.7/lib/python2.7/runpy.py\", line 192, in run_module\n",
            "\u001b[1;31m    fname, loader, pkg_name)\n",
            "\u001b[1;31m  File \"/Library/Frameworks/Python.framework/Versions/2.7/lib/python2.7/runpy.py\", line 72, in _run_code\n",
            "\u001b[1;31m    exec code in run_globals\n",
            "\u001b[1;31m  File \"/Users/dmeneses/Library/Python/2.7/lib/python/site-packages/jupyter_core/__main__.py\", line 3, in <module>\n",
            "\u001b[1;31m    main()\n",
            "\u001b[1;31m  File \"/Users/dmeneses/Library/Python/2.7/lib/python/site-packages/jupyter_core/command.py\", line 247, in main\n",
            "\u001b[1;31m\n",
            "\u001b[1;31m    command = _jupyter_abspath(subcommand)\n",
            "\u001b[1;31m  File \"/Users/dmeneses/Library/Python/2.7/lib/python/site-packages/jupyter_core/command.py\", line 134, in _jupyter_abspath\n",
            "\u001b[1;31m    'Jupyter command `{}` not found.'.format(jupyter_subcommand)\n",
            "\u001b[1;31mException: Jupyter command `jupyter-notebook` not found. \n",
            "\u001b[1;31mVea el [registro] de Jupyter (command:jupyter.viewOutput) para obtener más detalles."
          ]
        }
      ],
      "source": [
        "df.dropna(inplace = True)"
      ]
    },
    {
      "cell_type": "code",
      "execution_count": null,
      "metadata": {
        "colab": {
          "base_uri": "https://localhost:8080/"
        },
        "id": "bhVOp7OGbVCt",
        "outputId": "bd5826f4-f45c-4833-b498-eb280580c7d2"
      },
      "outputs": [
        {
          "ename": "",
          "evalue": "",
          "output_type": "error",
          "traceback": [
            "\u001b[1;31mNo se pudo iniciar el Kernel. \n",
            "\u001b[1;31mEl servidor de Jupyter se bloqueó. No se puede conectar. \n",
            "\u001b[1;31mCódigo de error de Jupyter: 1\n",
            "\u001b[1;31mTraceback (most recent call last):\n",
            "\u001b[1;31m  File \"/Library/Frameworks/Python.framework/Versions/2.7/lib/python2.7/runpy.py\", line 174, in _run_module_as_main\n",
            "\u001b[1;31m\n",
            "\u001b[1;31m    \"__main__\", fname, loader, pkg_name)\n",
            "\u001b[1;31m  File \"/Library/Frameworks/Python.framework/Versions/2.7/lib/python2.7/runpy.py\", line 72, in _run_code\n",
            "\u001b[1;31m    exec code in run_globals\n",
            "\u001b[1;31m  File \"/Users/dmeneses/Library/Python/2.7/lib/python/site-packages/jupyter.py\", line 10, in <module>\n",
            "\u001b[1;31m    run_module('jupyter_core')\n",
            "\u001b[1;31m  File \"/Library/Frameworks/Python.framework/Versions/2.7/lib/python2.7/runpy.py\", line 192, in run_module\n",
            "\u001b[1;31m    fname, loader, pkg_name)\n",
            "\u001b[1;31m  File \"/Library/Frameworks/Python.framework/Versions/2.7/lib/python2.7/runpy.py\", line 72, in _run_code\n",
            "\u001b[1;31m    exec code in run_globals\n",
            "\u001b[1;31m  File \"/Users/dmeneses/Library/Python/2.7/lib/python/site-packages/jupyter_core/__main__.py\", line 3, in <module>\n",
            "\u001b[1;31m    main()\n",
            "\u001b[1;31m  File \"/Users/dmeneses/Library/Python/2.7/lib/python/site-packages/jupyter_core/command.py\", line 247, in main\n",
            "\u001b[1;31m\n",
            "\u001b[1;31m    command = _jupyter_abspath(subcommand)\n",
            "\u001b[1;31m  File \"/Users/dmeneses/Library/Python/2.7/lib/python/site-packages/jupyter_core/command.py\", line 134, in _jupyter_abspath\n",
            "\u001b[1;31m    'Jupyter command `{}` not found.'.format(jupyter_subcommand)\n",
            "\u001b[1;31mException: Jupyter command `jupyter-notebook` not found. \n",
            "\u001b[1;31mVea el [registro] de Jupyter (command:jupyter.viewOutput) para obtener más detalles."
          ]
        }
      ],
      "source": [
        "df.isna().values.any()"
      ]
    },
    {
      "cell_type": "code",
      "execution_count": null,
      "metadata": {
        "colab": {
          "base_uri": "https://localhost:8080/",
          "height": 203
        },
        "id": "31t_x7JKbZ0O",
        "outputId": "2d5bbda4-c61e-461b-a8c4-490e8804daaa"
      },
      "outputs": [
        {
          "ename": "",
          "evalue": "",
          "output_type": "error",
          "traceback": [
            "\u001b[1;31mNo se pudo iniciar el Kernel. \n",
            "\u001b[1;31mEl servidor de Jupyter se bloqueó. No se puede conectar. \n",
            "\u001b[1;31mCódigo de error de Jupyter: 1\n",
            "\u001b[1;31mTraceback (most recent call last):\n",
            "\u001b[1;31m  File \"/Library/Frameworks/Python.framework/Versions/2.7/lib/python2.7/runpy.py\", line 174, in _run_module_as_main\n",
            "\u001b[1;31m\n",
            "\u001b[1;31m    \"__main__\", fname, loader, pkg_name)\n",
            "\u001b[1;31m  File \"/Library/Frameworks/Python.framework/Versions/2.7/lib/python2.7/runpy.py\", line 72, in _run_code\n",
            "\u001b[1;31m    exec code in run_globals\n",
            "\u001b[1;31m  File \"/Users/dmeneses/Library/Python/2.7/lib/python/site-packages/jupyter.py\", line 10, in <module>\n",
            "\u001b[1;31m    run_module('jupyter_core')\n",
            "\u001b[1;31m  File \"/Library/Frameworks/Python.framework/Versions/2.7/lib/python2.7/runpy.py\", line 192, in run_module\n",
            "\u001b[1;31m    fname, loader, pkg_name)\n",
            "\u001b[1;31m  File \"/Library/Frameworks/Python.framework/Versions/2.7/lib/python2.7/runpy.py\", line 72, in _run_code\n",
            "\u001b[1;31m    exec code in run_globals\n",
            "\u001b[1;31m  File \"/Users/dmeneses/Library/Python/2.7/lib/python/site-packages/jupyter_core/__main__.py\", line 3, in <module>\n",
            "\u001b[1;31m    main()\n",
            "\u001b[1;31m  File \"/Users/dmeneses/Library/Python/2.7/lib/python/site-packages/jupyter_core/command.py\", line 247, in main\n",
            "\u001b[1;31m\n",
            "\u001b[1;31m    command = _jupyter_abspath(subcommand)\n",
            "\u001b[1;31m  File \"/Users/dmeneses/Library/Python/2.7/lib/python/site-packages/jupyter_core/command.py\", line 134, in _jupyter_abspath\n",
            "\u001b[1;31m    'Jupyter command `{}` not found.'.format(jupyter_subcommand)\n",
            "\u001b[1;31mException: Jupyter command `jupyter-notebook` not found. \n",
            "\u001b[1;31mVea el [registro] de Jupyter (command:jupyter.viewOutput) para obtener más detalles."
          ]
        }
      ],
      "source": [
        "df"
      ]
    },
    {
      "cell_type": "markdown",
      "metadata": {
        "id": "Lr1VwxjX_1XP"
      },
      "source": [
        "El problema con esta estrategia es que, \n",
        ">> si falta algún dato en todo el conjunto de datos, la fila correspondiente se elimina."
      ]
    },
    {
      "cell_type": "code",
      "execution_count": null,
      "metadata": {
        "colab": {
          "base_uri": "https://localhost:8080/"
        },
        "id": "MCOKbvrdAy5f",
        "outputId": "07b191d1-48a1-4cff-b5f6-4f61b842d7bc"
      },
      "outputs": [
        {
          "ename": "",
          "evalue": "",
          "output_type": "error",
          "traceback": [
            "\u001b[1;31mNo se pudo iniciar el Kernel. \n",
            "\u001b[1;31mEl servidor de Jupyter se bloqueó. No se puede conectar. \n",
            "\u001b[1;31mCódigo de error de Jupyter: 1\n",
            "\u001b[1;31mTraceback (most recent call last):\n",
            "\u001b[1;31m  File \"/Library/Frameworks/Python.framework/Versions/2.7/lib/python2.7/runpy.py\", line 174, in _run_module_as_main\n",
            "\u001b[1;31m\n",
            "\u001b[1;31m    \"__main__\", fname, loader, pkg_name)\n",
            "\u001b[1;31m  File \"/Library/Frameworks/Python.framework/Versions/2.7/lib/python2.7/runpy.py\", line 72, in _run_code\n",
            "\u001b[1;31m    exec code in run_globals\n",
            "\u001b[1;31m  File \"/Users/dmeneses/Library/Python/2.7/lib/python/site-packages/jupyter.py\", line 10, in <module>\n",
            "\u001b[1;31m    run_module('jupyter_core')\n",
            "\u001b[1;31m  File \"/Library/Frameworks/Python.framework/Versions/2.7/lib/python2.7/runpy.py\", line 192, in run_module\n",
            "\u001b[1;31m    fname, loader, pkg_name)\n",
            "\u001b[1;31m  File \"/Library/Frameworks/Python.framework/Versions/2.7/lib/python2.7/runpy.py\", line 72, in _run_code\n",
            "\u001b[1;31m    exec code in run_globals\n",
            "\u001b[1;31m  File \"/Users/dmeneses/Library/Python/2.7/lib/python/site-packages/jupyter_core/__main__.py\", line 3, in <module>\n",
            "\u001b[1;31m    main()\n",
            "\u001b[1;31m  File \"/Users/dmeneses/Library/Python/2.7/lib/python/site-packages/jupyter_core/command.py\", line 247, in main\n",
            "\u001b[1;31m\n",
            "\u001b[1;31m    command = _jupyter_abspath(subcommand)\n",
            "\u001b[1;31m  File \"/Users/dmeneses/Library/Python/2.7/lib/python/site-packages/jupyter_core/command.py\", line 134, in _jupyter_abspath\n",
            "\u001b[1;31m    'Jupyter command `{}` not found.'.format(jupyter_subcommand)\n",
            "\u001b[1;31mException: Jupyter command `jupyter-notebook` not found. \n",
            "\u001b[1;31mVea el [registro] de Jupyter (command:jupyter.viewOutput) para obtener más detalles."
          ]
        }
      ],
      "source": [
        "df = pd.read_csv('/content/data.csv', index_col=0)\n",
        "df.isna().any()"
      ]
    },
    {
      "cell_type": "code",
      "execution_count": null,
      "metadata": {
        "colab": {
          "base_uri": "https://localhost:8080/",
          "height": 295
        },
        "id": "CDBCh_e-A-9j",
        "outputId": "7599a1e6-0252-4fea-f9e3-1e9a5316ba86"
      },
      "outputs": [
        {
          "ename": "",
          "evalue": "",
          "output_type": "error",
          "traceback": [
            "\u001b[1;31mNo se pudo iniciar el Kernel. \n",
            "\u001b[1;31mEl servidor de Jupyter se bloqueó. No se puede conectar. \n",
            "\u001b[1;31mCódigo de error de Jupyter: 1\n",
            "\u001b[1;31mTraceback (most recent call last):\n",
            "\u001b[1;31m  File \"/Library/Frameworks/Python.framework/Versions/2.7/lib/python2.7/runpy.py\", line 174, in _run_module_as_main\n",
            "\u001b[1;31m\n",
            "\u001b[1;31m    \"__main__\", fname, loader, pkg_name)\n",
            "\u001b[1;31m  File \"/Library/Frameworks/Python.framework/Versions/2.7/lib/python2.7/runpy.py\", line 72, in _run_code\n",
            "\u001b[1;31m    exec code in run_globals\n",
            "\u001b[1;31m  File \"/Users/dmeneses/Library/Python/2.7/lib/python/site-packages/jupyter.py\", line 10, in <module>\n",
            "\u001b[1;31m    run_module('jupyter_core')\n",
            "\u001b[1;31m  File \"/Library/Frameworks/Python.framework/Versions/2.7/lib/python2.7/runpy.py\", line 192, in run_module\n",
            "\u001b[1;31m    fname, loader, pkg_name)\n",
            "\u001b[1;31m  File \"/Library/Frameworks/Python.framework/Versions/2.7/lib/python2.7/runpy.py\", line 72, in _run_code\n",
            "\u001b[1;31m    exec code in run_globals\n",
            "\u001b[1;31m  File \"/Users/dmeneses/Library/Python/2.7/lib/python/site-packages/jupyter_core/__main__.py\", line 3, in <module>\n",
            "\u001b[1;31m    main()\n",
            "\u001b[1;31m  File \"/Users/dmeneses/Library/Python/2.7/lib/python/site-packages/jupyter_core/command.py\", line 247, in main\n",
            "\u001b[1;31m\n",
            "\u001b[1;31m    command = _jupyter_abspath(subcommand)\n",
            "\u001b[1;31m  File \"/Users/dmeneses/Library/Python/2.7/lib/python/site-packages/jupyter_core/command.py\", line 134, in _jupyter_abspath\n",
            "\u001b[1;31m    'Jupyter command `{}` not found.'.format(jupyter_subcommand)\n",
            "\u001b[1;31mException: Jupyter command `jupyter-notebook` not found. \n",
            "\u001b[1;31mVea el [registro] de Jupyter (command:jupyter.viewOutput) para obtener más detalles."
          ]
        }
      ],
      "source": [
        "ndf = df.copy()\n",
        "ndf"
      ]
    },
    {
      "cell_type": "markdown",
      "metadata": {
        "id": "yjYu-zzdCoDx"
      },
      "source": [
        "Suelte las columnas donde falta al menos un elemento."
      ]
    },
    {
      "cell_type": "code",
      "execution_count": null,
      "metadata": {
        "colab": {
          "base_uri": "https://localhost:8080/",
          "height": 295
        },
        "id": "eNNLbhvTCZiJ",
        "outputId": "44c4af52-effe-4487-9a97-a3db0b8d499a"
      },
      "outputs": [
        {
          "ename": "",
          "evalue": "",
          "output_type": "error",
          "traceback": [
            "\u001b[1;31mNo se pudo iniciar el Kernel. \n",
            "\u001b[1;31mEl servidor de Jupyter se bloqueó. No se puede conectar. \n",
            "\u001b[1;31mCódigo de error de Jupyter: 1\n",
            "\u001b[1;31mTraceback (most recent call last):\n",
            "\u001b[1;31m  File \"/Library/Frameworks/Python.framework/Versions/2.7/lib/python2.7/runpy.py\", line 174, in _run_module_as_main\n",
            "\u001b[1;31m\n",
            "\u001b[1;31m    \"__main__\", fname, loader, pkg_name)\n",
            "\u001b[1;31m  File \"/Library/Frameworks/Python.framework/Versions/2.7/lib/python2.7/runpy.py\", line 72, in _run_code\n",
            "\u001b[1;31m    exec code in run_globals\n",
            "\u001b[1;31m  File \"/Users/dmeneses/Library/Python/2.7/lib/python/site-packages/jupyter.py\", line 10, in <module>\n",
            "\u001b[1;31m    run_module('jupyter_core')\n",
            "\u001b[1;31m  File \"/Library/Frameworks/Python.framework/Versions/2.7/lib/python2.7/runpy.py\", line 192, in run_module\n",
            "\u001b[1;31m    fname, loader, pkg_name)\n",
            "\u001b[1;31m  File \"/Library/Frameworks/Python.framework/Versions/2.7/lib/python2.7/runpy.py\", line 72, in _run_code\n",
            "\u001b[1;31m    exec code in run_globals\n",
            "\u001b[1;31m  File \"/Users/dmeneses/Library/Python/2.7/lib/python/site-packages/jupyter_core/__main__.py\", line 3, in <module>\n",
            "\u001b[1;31m    main()\n",
            "\u001b[1;31m  File \"/Users/dmeneses/Library/Python/2.7/lib/python/site-packages/jupyter_core/command.py\", line 247, in main\n",
            "\u001b[1;31m\n",
            "\u001b[1;31m    command = _jupyter_abspath(subcommand)\n",
            "\u001b[1;31m  File \"/Users/dmeneses/Library/Python/2.7/lib/python/site-packages/jupyter_core/command.py\", line 134, in _jupyter_abspath\n",
            "\u001b[1;31m    'Jupyter command `{}` not found.'.format(jupyter_subcommand)\n",
            "\u001b[1;31mException: Jupyter command `jupyter-notebook` not found. \n",
            "\u001b[1;31mVea el [registro] de Jupyter (command:jupyter.viewOutput) para obtener más detalles."
          ]
        }
      ],
      "source": [
        "ndf.dropna(axis = 1, inplace = True) # axis 1 is columns / axis 0 is rows. \n",
        "ndf"
      ]
    },
    {
      "cell_type": "code",
      "execution_count": null,
      "metadata": {
        "colab": {
          "base_uri": "https://localhost:8080/",
          "height": 295
        },
        "id": "a5lyr_eICw1O",
        "outputId": "13f2b2fb-4efe-46be-94b5-629a65d6fb93"
      },
      "outputs": [
        {
          "ename": "",
          "evalue": "",
          "output_type": "error",
          "traceback": [
            "\u001b[1;31mNo se pudo iniciar el Kernel. \n",
            "\u001b[1;31mEl servidor de Jupyter se bloqueó. No se puede conectar. \n",
            "\u001b[1;31mCódigo de error de Jupyter: 1\n",
            "\u001b[1;31mTraceback (most recent call last):\n",
            "\u001b[1;31m  File \"/Library/Frameworks/Python.framework/Versions/2.7/lib/python2.7/runpy.py\", line 174, in _run_module_as_main\n",
            "\u001b[1;31m\n",
            "\u001b[1;31m    \"__main__\", fname, loader, pkg_name)\n",
            "\u001b[1;31m  File \"/Library/Frameworks/Python.framework/Versions/2.7/lib/python2.7/runpy.py\", line 72, in _run_code\n",
            "\u001b[1;31m    exec code in run_globals\n",
            "\u001b[1;31m  File \"/Users/dmeneses/Library/Python/2.7/lib/python/site-packages/jupyter.py\", line 10, in <module>\n",
            "\u001b[1;31m    run_module('jupyter_core')\n",
            "\u001b[1;31m  File \"/Library/Frameworks/Python.framework/Versions/2.7/lib/python2.7/runpy.py\", line 192, in run_module\n",
            "\u001b[1;31m    fname, loader, pkg_name)\n",
            "\u001b[1;31m  File \"/Library/Frameworks/Python.framework/Versions/2.7/lib/python2.7/runpy.py\", line 72, in _run_code\n",
            "\u001b[1;31m    exec code in run_globals\n",
            "\u001b[1;31m  File \"/Users/dmeneses/Library/Python/2.7/lib/python/site-packages/jupyter_core/__main__.py\", line 3, in <module>\n",
            "\u001b[1;31m    main()\n",
            "\u001b[1;31m  File \"/Users/dmeneses/Library/Python/2.7/lib/python/site-packages/jupyter_core/command.py\", line 247, in main\n",
            "\u001b[1;31m\n",
            "\u001b[1;31m    command = _jupyter_abspath(subcommand)\n",
            "\u001b[1;31m  File \"/Users/dmeneses/Library/Python/2.7/lib/python/site-packages/jupyter_core/command.py\", line 134, in _jupyter_abspath\n",
            "\u001b[1;31m    'Jupyter command `{}` not found.'.format(jupyter_subcommand)\n",
            "\u001b[1;31mException: Jupyter command `jupyter-notebook` not found. \n",
            "\u001b[1;31mVea el [registro] de Jupyter (command:jupyter.viewOutput) para obtener más detalles."
          ]
        }
      ],
      "source": [
        "ndf = df.copy()\n",
        "ndf"
      ]
    },
    {
      "cell_type": "markdown",
      "metadata": {
        "id": "__egBqraC41S"
      },
      "source": [
        "Drop the rows where all elements are missing."
      ]
    },
    {
      "cell_type": "code",
      "execution_count": null,
      "metadata": {
        "colab": {
          "base_uri": "https://localhost:8080/",
          "height": 295
        },
        "id": "DYRJhRlPC8yd",
        "outputId": "afff1478-73d9-47c0-b29f-a3e35e1dfbb3"
      },
      "outputs": [
        {
          "ename": "",
          "evalue": "",
          "output_type": "error",
          "traceback": [
            "\u001b[1;31mNo se pudo iniciar el Kernel. \n",
            "\u001b[1;31mEl servidor de Jupyter se bloqueó. No se puede conectar. \n",
            "\u001b[1;31mCódigo de error de Jupyter: 1\n",
            "\u001b[1;31mTraceback (most recent call last):\n",
            "\u001b[1;31m  File \"/Library/Frameworks/Python.framework/Versions/2.7/lib/python2.7/runpy.py\", line 174, in _run_module_as_main\n",
            "\u001b[1;31m\n",
            "\u001b[1;31m    \"__main__\", fname, loader, pkg_name)\n",
            "\u001b[1;31m  File \"/Library/Frameworks/Python.framework/Versions/2.7/lib/python2.7/runpy.py\", line 72, in _run_code\n",
            "\u001b[1;31m    exec code in run_globals\n",
            "\u001b[1;31m  File \"/Users/dmeneses/Library/Python/2.7/lib/python/site-packages/jupyter.py\", line 10, in <module>\n",
            "\u001b[1;31m    run_module('jupyter_core')\n",
            "\u001b[1;31m  File \"/Library/Frameworks/Python.framework/Versions/2.7/lib/python2.7/runpy.py\", line 192, in run_module\n",
            "\u001b[1;31m    fname, loader, pkg_name)\n",
            "\u001b[1;31m  File \"/Library/Frameworks/Python.framework/Versions/2.7/lib/python2.7/runpy.py\", line 72, in _run_code\n",
            "\u001b[1;31m    exec code in run_globals\n",
            "\u001b[1;31m  File \"/Users/dmeneses/Library/Python/2.7/lib/python/site-packages/jupyter_core/__main__.py\", line 3, in <module>\n",
            "\u001b[1;31m    main()\n",
            "\u001b[1;31m  File \"/Users/dmeneses/Library/Python/2.7/lib/python/site-packages/jupyter_core/command.py\", line 247, in main\n",
            "\u001b[1;31m\n",
            "\u001b[1;31m    command = _jupyter_abspath(subcommand)\n",
            "\u001b[1;31m  File \"/Users/dmeneses/Library/Python/2.7/lib/python/site-packages/jupyter_core/command.py\", line 134, in _jupyter_abspath\n",
            "\u001b[1;31m    'Jupyter command `{}` not found.'.format(jupyter_subcommand)\n",
            "\u001b[1;31mException: Jupyter command `jupyter-notebook` not found. \n",
            "\u001b[1;31mVea el [registro] de Jupyter (command:jupyter.viewOutput) para obtener más detalles."
          ]
        }
      ],
      "source": [
        "ndf.dropna(how='all', inplace = True)\n",
        "ndf"
      ]
    },
    {
      "cell_type": "markdown",
      "metadata": {
        "id": "fO5YjZyVBESQ"
      },
      "source": [
        "Alternativamente: usamos Threshold. \n",
        "\n",
        "Mantenga solo las filas con al menos 2 valores que  **NO SEAN** `nan`\n"
      ]
    },
    {
      "cell_type": "code",
      "execution_count": null,
      "metadata": {
        "colab": {
          "base_uri": "https://localhost:8080/",
          "height": 295
        },
        "id": "BkU6Ek10EHGJ",
        "outputId": "3e25b430-1f6f-4f2b-b4f4-bbee40161822"
      },
      "outputs": [
        {
          "ename": "",
          "evalue": "",
          "output_type": "error",
          "traceback": [
            "\u001b[1;31mNo se pudo iniciar el Kernel. \n",
            "\u001b[1;31mEl servidor de Jupyter se bloqueó. No se puede conectar. \n",
            "\u001b[1;31mCódigo de error de Jupyter: 1\n",
            "\u001b[1;31mTraceback (most recent call last):\n",
            "\u001b[1;31m  File \"/Library/Frameworks/Python.framework/Versions/2.7/lib/python2.7/runpy.py\", line 174, in _run_module_as_main\n",
            "\u001b[1;31m\n",
            "\u001b[1;31m    \"__main__\", fname, loader, pkg_name)\n",
            "\u001b[1;31m  File \"/Library/Frameworks/Python.framework/Versions/2.7/lib/python2.7/runpy.py\", line 72, in _run_code\n",
            "\u001b[1;31m    exec code in run_globals\n",
            "\u001b[1;31m  File \"/Users/dmeneses/Library/Python/2.7/lib/python/site-packages/jupyter.py\", line 10, in <module>\n",
            "\u001b[1;31m    run_module('jupyter_core')\n",
            "\u001b[1;31m  File \"/Library/Frameworks/Python.framework/Versions/2.7/lib/python2.7/runpy.py\", line 192, in run_module\n",
            "\u001b[1;31m    fname, loader, pkg_name)\n",
            "\u001b[1;31m  File \"/Library/Frameworks/Python.framework/Versions/2.7/lib/python2.7/runpy.py\", line 72, in _run_code\n",
            "\u001b[1;31m    exec code in run_globals\n",
            "\u001b[1;31m  File \"/Users/dmeneses/Library/Python/2.7/lib/python/site-packages/jupyter_core/__main__.py\", line 3, in <module>\n",
            "\u001b[1;31m    main()\n",
            "\u001b[1;31m  File \"/Users/dmeneses/Library/Python/2.7/lib/python/site-packages/jupyter_core/command.py\", line 247, in main\n",
            "\u001b[1;31m\n",
            "\u001b[1;31m    command = _jupyter_abspath(subcommand)\n",
            "\u001b[1;31m  File \"/Users/dmeneses/Library/Python/2.7/lib/python/site-packages/jupyter_core/command.py\", line 134, in _jupyter_abspath\n",
            "\u001b[1;31m    'Jupyter command `{}` not found.'.format(jupyter_subcommand)\n",
            "\u001b[1;31mException: Jupyter command `jupyter-notebook` not found. \n",
            "\u001b[1;31mVea el [registro] de Jupyter (command:jupyter.viewOutput) para obtener más detalles."
          ]
        }
      ],
      "source": [
        "ndf = df.copy()\n",
        "ndf"
      ]
    },
    {
      "cell_type": "code",
      "execution_count": null,
      "metadata": {
        "colab": {
          "base_uri": "https://localhost:8080/",
          "height": 234
        },
        "id": "yEgUhF6WBC7g",
        "outputId": "5f4cba23-c77f-458a-e6c4-117c0dd9e688"
      },
      "outputs": [
        {
          "ename": "",
          "evalue": "",
          "output_type": "error",
          "traceback": [
            "\u001b[1;31mNo se pudo iniciar el Kernel. \n",
            "\u001b[1;31mEl servidor de Jupyter se bloqueó. No se puede conectar. \n",
            "\u001b[1;31mCódigo de error de Jupyter: 1\n",
            "\u001b[1;31mTraceback (most recent call last):\n",
            "\u001b[1;31m  File \"/Library/Frameworks/Python.framework/Versions/2.7/lib/python2.7/runpy.py\", line 174, in _run_module_as_main\n",
            "\u001b[1;31m\n",
            "\u001b[1;31m    \"__main__\", fname, loader, pkg_name)\n",
            "\u001b[1;31m  File \"/Library/Frameworks/Python.framework/Versions/2.7/lib/python2.7/runpy.py\", line 72, in _run_code\n",
            "\u001b[1;31m    exec code in run_globals\n",
            "\u001b[1;31m  File \"/Users/dmeneses/Library/Python/2.7/lib/python/site-packages/jupyter.py\", line 10, in <module>\n",
            "\u001b[1;31m    run_module('jupyter_core')\n",
            "\u001b[1;31m  File \"/Library/Frameworks/Python.framework/Versions/2.7/lib/python2.7/runpy.py\", line 192, in run_module\n",
            "\u001b[1;31m    fname, loader, pkg_name)\n",
            "\u001b[1;31m  File \"/Library/Frameworks/Python.framework/Versions/2.7/lib/python2.7/runpy.py\", line 72, in _run_code\n",
            "\u001b[1;31m    exec code in run_globals\n",
            "\u001b[1;31m  File \"/Users/dmeneses/Library/Python/2.7/lib/python/site-packages/jupyter_core/__main__.py\", line 3, in <module>\n",
            "\u001b[1;31m    main()\n",
            "\u001b[1;31m  File \"/Users/dmeneses/Library/Python/2.7/lib/python/site-packages/jupyter_core/command.py\", line 247, in main\n",
            "\u001b[1;31m\n",
            "\u001b[1;31m    command = _jupyter_abspath(subcommand)\n",
            "\u001b[1;31m  File \"/Users/dmeneses/Library/Python/2.7/lib/python/site-packages/jupyter_core/command.py\", line 134, in _jupyter_abspath\n",
            "\u001b[1;31m    'Jupyter command `{}` not found.'.format(jupyter_subcommand)\n",
            "\u001b[1;31mException: Jupyter command `jupyter-notebook` not found. \n",
            "\u001b[1;31mVea el [registro] de Jupyter (command:jupyter.viewOutput) para obtener más detalles."
          ]
        }
      ],
      "source": [
        "ndf.dropna(thresh=4, inplace = True) # In a row, it needs at least 4 nan values is needed, to maintain in df\n",
        "ndf # in case of column  add   axis=1 "
      ]
    },
    {
      "cell_type": "markdown",
      "metadata": {
        "id": "A5Wn2-FWG7I-"
      },
      "source": [
        "Defina en qué columnas buscar valores faltantes."
      ]
    },
    {
      "cell_type": "code",
      "execution_count": null,
      "metadata": {
        "colab": {
          "base_uri": "https://localhost:8080/",
          "height": 295
        },
        "id": "D1FRfrxeG6Zn",
        "outputId": "0efde259-4faa-43a5-aee6-f7e390149a15"
      },
      "outputs": [
        {
          "ename": "",
          "evalue": "",
          "output_type": "error",
          "traceback": [
            "\u001b[1;31mNo se pudo iniciar el Kernel. \n",
            "\u001b[1;31mEl servidor de Jupyter se bloqueó. No se puede conectar. \n",
            "\u001b[1;31mCódigo de error de Jupyter: 1\n",
            "\u001b[1;31mTraceback (most recent call last):\n",
            "\u001b[1;31m  File \"/Library/Frameworks/Python.framework/Versions/2.7/lib/python2.7/runpy.py\", line 174, in _run_module_as_main\n",
            "\u001b[1;31m\n",
            "\u001b[1;31m    \"__main__\", fname, loader, pkg_name)\n",
            "\u001b[1;31m  File \"/Library/Frameworks/Python.framework/Versions/2.7/lib/python2.7/runpy.py\", line 72, in _run_code\n",
            "\u001b[1;31m    exec code in run_globals\n",
            "\u001b[1;31m  File \"/Users/dmeneses/Library/Python/2.7/lib/python/site-packages/jupyter.py\", line 10, in <module>\n",
            "\u001b[1;31m    run_module('jupyter_core')\n",
            "\u001b[1;31m  File \"/Library/Frameworks/Python.framework/Versions/2.7/lib/python2.7/runpy.py\", line 192, in run_module\n",
            "\u001b[1;31m    fname, loader, pkg_name)\n",
            "\u001b[1;31m  File \"/Library/Frameworks/Python.framework/Versions/2.7/lib/python2.7/runpy.py\", line 72, in _run_code\n",
            "\u001b[1;31m    exec code in run_globals\n",
            "\u001b[1;31m  File \"/Users/dmeneses/Library/Python/2.7/lib/python/site-packages/jupyter_core/__main__.py\", line 3, in <module>\n",
            "\u001b[1;31m    main()\n",
            "\u001b[1;31m  File \"/Users/dmeneses/Library/Python/2.7/lib/python/site-packages/jupyter_core/command.py\", line 247, in main\n",
            "\u001b[1;31m\n",
            "\u001b[1;31m    command = _jupyter_abspath(subcommand)\n",
            "\u001b[1;31m  File \"/Users/dmeneses/Library/Python/2.7/lib/python/site-packages/jupyter_core/command.py\", line 134, in _jupyter_abspath\n",
            "\u001b[1;31m    'Jupyter command `{}` not found.'.format(jupyter_subcommand)\n",
            "\u001b[1;31mException: Jupyter command `jupyter-notebook` not found. \n",
            "\u001b[1;31mVea el [registro] de Jupyter (command:jupyter.viewOutput) para obtener más detalles."
          ]
        }
      ],
      "source": [
        "ndf = df.copy()\n",
        "ndf"
      ]
    },
    {
      "cell_type": "code",
      "execution_count": null,
      "metadata": {
        "colab": {
          "base_uri": "https://localhost:8080/",
          "height": 295
        },
        "id": "Z2CplmlWHHyf",
        "outputId": "bf87c3be-c3dc-49c1-971d-57c3b215d2e2"
      },
      "outputs": [
        {
          "ename": "",
          "evalue": "",
          "output_type": "error",
          "traceback": [
            "\u001b[1;31mNo se pudo iniciar el Kernel. \n",
            "\u001b[1;31mEl servidor de Jupyter se bloqueó. No se puede conectar. \n",
            "\u001b[1;31mCódigo de error de Jupyter: 1\n",
            "\u001b[1;31mTraceback (most recent call last):\n",
            "\u001b[1;31m  File \"/Library/Frameworks/Python.framework/Versions/2.7/lib/python2.7/runpy.py\", line 174, in _run_module_as_main\n",
            "\u001b[1;31m\n",
            "\u001b[1;31m    \"__main__\", fname, loader, pkg_name)\n",
            "\u001b[1;31m  File \"/Library/Frameworks/Python.framework/Versions/2.7/lib/python2.7/runpy.py\", line 72, in _run_code\n",
            "\u001b[1;31m    exec code in run_globals\n",
            "\u001b[1;31m  File \"/Users/dmeneses/Library/Python/2.7/lib/python/site-packages/jupyter.py\", line 10, in <module>\n",
            "\u001b[1;31m    run_module('jupyter_core')\n",
            "\u001b[1;31m  File \"/Library/Frameworks/Python.framework/Versions/2.7/lib/python2.7/runpy.py\", line 192, in run_module\n",
            "\u001b[1;31m    fname, loader, pkg_name)\n",
            "\u001b[1;31m  File \"/Library/Frameworks/Python.framework/Versions/2.7/lib/python2.7/runpy.py\", line 72, in _run_code\n",
            "\u001b[1;31m    exec code in run_globals\n",
            "\u001b[1;31m  File \"/Users/dmeneses/Library/Python/2.7/lib/python/site-packages/jupyter_core/__main__.py\", line 3, in <module>\n",
            "\u001b[1;31m    main()\n",
            "\u001b[1;31m  File \"/Users/dmeneses/Library/Python/2.7/lib/python/site-packages/jupyter_core/command.py\", line 247, in main\n",
            "\u001b[1;31m\n",
            "\u001b[1;31m    command = _jupyter_abspath(subcommand)\n",
            "\u001b[1;31m  File \"/Users/dmeneses/Library/Python/2.7/lib/python/site-packages/jupyter_core/command.py\", line 134, in _jupyter_abspath\n",
            "\u001b[1;31m    'Jupyter command `{}` not found.'.format(jupyter_subcommand)\n",
            "\u001b[1;31mException: Jupyter command `jupyter-notebook` not found. \n",
            "\u001b[1;31mVea el [registro] de Jupyter (command:jupyter.viewOutput) para obtener más detalles."
          ]
        }
      ],
      "source": [
        "ndf.dropna(thresh = 5,  #if there is not 5 nan values, the column will be eliminated \n",
        "           axis = 1, \n",
        "           inplace = True\n",
        "           ) \n",
        "ndf "
      ]
    },
    {
      "cell_type": "markdown",
      "metadata": {
        "id": "l0zfi1RjAmfE"
      },
      "source": [
        "Para saber mas: \n",
        "\n",
        "https://pandas.pydata.org/docs/reference/api/pandas.DataFrame.dropna.html"
      ]
    },
    {
      "cell_type": "markdown",
      "metadata": {
        "id": "4yVrVyYdAeca"
      },
      "source": [
        "### Solucion 2: \n",
        "\n"
      ]
    },
    {
      "cell_type": "code",
      "execution_count": null,
      "metadata": {
        "id": "DSygVPcaXUH7"
      },
      "outputs": [
        {
          "ename": "",
          "evalue": "",
          "output_type": "error",
          "traceback": [
            "\u001b[1;31mNo se pudo iniciar el Kernel. \n",
            "\u001b[1;31mEl servidor de Jupyter se bloqueó. No se puede conectar. \n",
            "\u001b[1;31mCódigo de error de Jupyter: 1\n",
            "\u001b[1;31mTraceback (most recent call last):\n",
            "\u001b[1;31m  File \"/Library/Frameworks/Python.framework/Versions/2.7/lib/python2.7/runpy.py\", line 174, in _run_module_as_main\n",
            "\u001b[1;31m\n",
            "\u001b[1;31m    \"__main__\", fname, loader, pkg_name)\n",
            "\u001b[1;31m  File \"/Library/Frameworks/Python.framework/Versions/2.7/lib/python2.7/runpy.py\", line 72, in _run_code\n",
            "\u001b[1;31m    exec code in run_globals\n",
            "\u001b[1;31m  File \"/Users/dmeneses/Library/Python/2.7/lib/python/site-packages/jupyter.py\", line 10, in <module>\n",
            "\u001b[1;31m    run_module('jupyter_core')\n",
            "\u001b[1;31m  File \"/Library/Frameworks/Python.framework/Versions/2.7/lib/python2.7/runpy.py\", line 192, in run_module\n",
            "\u001b[1;31m    fname, loader, pkg_name)\n",
            "\u001b[1;31m  File \"/Library/Frameworks/Python.framework/Versions/2.7/lib/python2.7/runpy.py\", line 72, in _run_code\n",
            "\u001b[1;31m    exec code in run_globals\n",
            "\u001b[1;31m  File \"/Users/dmeneses/Library/Python/2.7/lib/python/site-packages/jupyter_core/__main__.py\", line 3, in <module>\n",
            "\u001b[1;31m    main()\n",
            "\u001b[1;31m  File \"/Users/dmeneses/Library/Python/2.7/lib/python/site-packages/jupyter_core/command.py\", line 247, in main\n",
            "\u001b[1;31m\n",
            "\u001b[1;31m    command = _jupyter_abspath(subcommand)\n",
            "\u001b[1;31m  File \"/Users/dmeneses/Library/Python/2.7/lib/python/site-packages/jupyter_core/command.py\", line 134, in _jupyter_abspath\n",
            "\u001b[1;31m    'Jupyter command `{}` not found.'.format(jupyter_subcommand)\n",
            "\u001b[1;31mException: Jupyter command `jupyter-notebook` not found. \n",
            "\u001b[1;31mVea el [registro] de Jupyter (command:jupyter.viewOutput) para obtener más detalles."
          ]
        }
      ],
      "source": [
        "ndf = df.copy()"
      ]
    },
    {
      "cell_type": "code",
      "execution_count": null,
      "metadata": {
        "colab": {
          "base_uri": "https://localhost:8080/"
        },
        "id": "a1AtpG_-b4Pm",
        "outputId": "d39a007d-eb1a-42ab-ced6-d6faf00d8a90"
      },
      "outputs": [
        {
          "ename": "",
          "evalue": "",
          "output_type": "error",
          "traceback": [
            "\u001b[1;31mNo se pudo iniciar el Kernel. \n",
            "\u001b[1;31mEl servidor de Jupyter se bloqueó. No se puede conectar. \n",
            "\u001b[1;31mCódigo de error de Jupyter: 1\n",
            "\u001b[1;31mTraceback (most recent call last):\n",
            "\u001b[1;31m  File \"/Library/Frameworks/Python.framework/Versions/2.7/lib/python2.7/runpy.py\", line 174, in _run_module_as_main\n",
            "\u001b[1;31m\n",
            "\u001b[1;31m    \"__main__\", fname, loader, pkg_name)\n",
            "\u001b[1;31m  File \"/Library/Frameworks/Python.framework/Versions/2.7/lib/python2.7/runpy.py\", line 72, in _run_code\n",
            "\u001b[1;31m    exec code in run_globals\n",
            "\u001b[1;31m  File \"/Users/dmeneses/Library/Python/2.7/lib/python/site-packages/jupyter.py\", line 10, in <module>\n",
            "\u001b[1;31m    run_module('jupyter_core')\n",
            "\u001b[1;31m  File \"/Library/Frameworks/Python.framework/Versions/2.7/lib/python2.7/runpy.py\", line 192, in run_module\n",
            "\u001b[1;31m    fname, loader, pkg_name)\n",
            "\u001b[1;31m  File \"/Library/Frameworks/Python.framework/Versions/2.7/lib/python2.7/runpy.py\", line 72, in _run_code\n",
            "\u001b[1;31m    exec code in run_globals\n",
            "\u001b[1;31m  File \"/Users/dmeneses/Library/Python/2.7/lib/python/site-packages/jupyter_core/__main__.py\", line 3, in <module>\n",
            "\u001b[1;31m    main()\n",
            "\u001b[1;31m  File \"/Users/dmeneses/Library/Python/2.7/lib/python/site-packages/jupyter_core/command.py\", line 247, in main\n",
            "\u001b[1;31m\n",
            "\u001b[1;31m    command = _jupyter_abspath(subcommand)\n",
            "\u001b[1;31m  File \"/Users/dmeneses/Library/Python/2.7/lib/python/site-packages/jupyter_core/command.py\", line 134, in _jupyter_abspath\n",
            "\u001b[1;31m    'Jupyter command `{}` not found.'.format(jupyter_subcommand)\n",
            "\u001b[1;31mException: Jupyter command `jupyter-notebook` not found. \n",
            "\u001b[1;31mVea el [registro] de Jupyter (command:jupyter.viewOutput) para obtener más detalles."
          ]
        }
      ],
      "source": [
        "wm = ndf.Weight.mean()\n",
        "wm"
      ]
    },
    {
      "cell_type": "code",
      "execution_count": null,
      "metadata": {
        "colab": {
          "base_uri": "https://localhost:8080/",
          "height": 295
        },
        "id": "2-Tayd3McAuW",
        "outputId": "4a43059a-8e4e-4824-9781-8d9a54fe40e9"
      },
      "outputs": [
        {
          "ename": "",
          "evalue": "",
          "output_type": "error",
          "traceback": [
            "\u001b[1;31mNo se pudo iniciar el Kernel. \n",
            "\u001b[1;31mEl servidor de Jupyter se bloqueó. No se puede conectar. \n",
            "\u001b[1;31mCódigo de error de Jupyter: 1\n",
            "\u001b[1;31mTraceback (most recent call last):\n",
            "\u001b[1;31m  File \"/Library/Frameworks/Python.framework/Versions/2.7/lib/python2.7/runpy.py\", line 174, in _run_module_as_main\n",
            "\u001b[1;31m\n",
            "\u001b[1;31m    \"__main__\", fname, loader, pkg_name)\n",
            "\u001b[1;31m  File \"/Library/Frameworks/Python.framework/Versions/2.7/lib/python2.7/runpy.py\", line 72, in _run_code\n",
            "\u001b[1;31m    exec code in run_globals\n",
            "\u001b[1;31m  File \"/Users/dmeneses/Library/Python/2.7/lib/python/site-packages/jupyter.py\", line 10, in <module>\n",
            "\u001b[1;31m    run_module('jupyter_core')\n",
            "\u001b[1;31m  File \"/Library/Frameworks/Python.framework/Versions/2.7/lib/python2.7/runpy.py\", line 192, in run_module\n",
            "\u001b[1;31m    fname, loader, pkg_name)\n",
            "\u001b[1;31m  File \"/Library/Frameworks/Python.framework/Versions/2.7/lib/python2.7/runpy.py\", line 72, in _run_code\n",
            "\u001b[1;31m    exec code in run_globals\n",
            "\u001b[1;31m  File \"/Users/dmeneses/Library/Python/2.7/lib/python/site-packages/jupyter_core/__main__.py\", line 3, in <module>\n",
            "\u001b[1;31m    main()\n",
            "\u001b[1;31m  File \"/Users/dmeneses/Library/Python/2.7/lib/python/site-packages/jupyter_core/command.py\", line 247, in main\n",
            "\u001b[1;31m\n",
            "\u001b[1;31m    command = _jupyter_abspath(subcommand)\n",
            "\u001b[1;31m  File \"/Users/dmeneses/Library/Python/2.7/lib/python/site-packages/jupyter_core/command.py\", line 134, in _jupyter_abspath\n",
            "\u001b[1;31m    'Jupyter command `{}` not found.'.format(jupyter_subcommand)\n",
            "\u001b[1;31mException: Jupyter command `jupyter-notebook` not found. \n",
            "\u001b[1;31mVea el [registro] de Jupyter (command:jupyter.viewOutput) para obtener más detalles."
          ]
        }
      ],
      "source": [
        "ndf['Weight'].fillna(value = wm, \n",
        "                    inplace = True)\n",
        "ndf"
      ]
    },
    {
      "cell_type": "markdown",
      "metadata": {
        "id": "wDuqIKO7Q9OZ"
      },
      "source": [
        "[Datos faltantes: dos grandes problemas con la imputación media](https://www.theanalysisfactor.com/mean-imputation/)"
      ]
    },
    {
      "cell_type": "code",
      "execution_count": null,
      "metadata": {
        "colab": {
          "base_uri": "https://localhost:8080/",
          "height": 295
        },
        "id": "lValNi9Ycd-6",
        "outputId": "bfb4d797-8263-45de-ca45-a0ad8725d34a"
      },
      "outputs": [
        {
          "ename": "",
          "evalue": "",
          "output_type": "error",
          "traceback": [
            "\u001b[1;31mNo se pudo iniciar el Kernel. \n",
            "\u001b[1;31mEl servidor de Jupyter se bloqueó. No se puede conectar. \n",
            "\u001b[1;31mCódigo de error de Jupyter: 1\n",
            "\u001b[1;31mTraceback (most recent call last):\n",
            "\u001b[1;31m  File \"/Library/Frameworks/Python.framework/Versions/2.7/lib/python2.7/runpy.py\", line 174, in _run_module_as_main\n",
            "\u001b[1;31m\n",
            "\u001b[1;31m    \"__main__\", fname, loader, pkg_name)\n",
            "\u001b[1;31m  File \"/Library/Frameworks/Python.framework/Versions/2.7/lib/python2.7/runpy.py\", line 72, in _run_code\n",
            "\u001b[1;31m    exec code in run_globals\n",
            "\u001b[1;31m  File \"/Users/dmeneses/Library/Python/2.7/lib/python/site-packages/jupyter.py\", line 10, in <module>\n",
            "\u001b[1;31m    run_module('jupyter_core')\n",
            "\u001b[1;31m  File \"/Library/Frameworks/Python.framework/Versions/2.7/lib/python2.7/runpy.py\", line 192, in run_module\n",
            "\u001b[1;31m    fname, loader, pkg_name)\n",
            "\u001b[1;31m  File \"/Library/Frameworks/Python.framework/Versions/2.7/lib/python2.7/runpy.py\", line 72, in _run_code\n",
            "\u001b[1;31m    exec code in run_globals\n",
            "\u001b[1;31m  File \"/Users/dmeneses/Library/Python/2.7/lib/python/site-packages/jupyter_core/__main__.py\", line 3, in <module>\n",
            "\u001b[1;31m    main()\n",
            "\u001b[1;31m  File \"/Users/dmeneses/Library/Python/2.7/lib/python/site-packages/jupyter_core/command.py\", line 247, in main\n",
            "\u001b[1;31m\n",
            "\u001b[1;31m    command = _jupyter_abspath(subcommand)\n",
            "\u001b[1;31m  File \"/Users/dmeneses/Library/Python/2.7/lib/python/site-packages/jupyter_core/command.py\", line 134, in _jupyter_abspath\n",
            "\u001b[1;31m    'Jupyter command `{}` not found.'.format(jupyter_subcommand)\n",
            "\u001b[1;31mException: Jupyter command `jupyter-notebook` not found. \n",
            "\u001b[1;31mVea el [registro] de Jupyter (command:jupyter.viewOutput) para obtener más detalles."
          ]
        }
      ],
      "source": [
        "ndf['Length'].fillna(value = ndf.Length.median(), \n",
        "                    inplace = True)\n",
        "ndf"
      ]
    },
    {
      "cell_type": "code",
      "execution_count": null,
      "metadata": {
        "colab": {
          "base_uri": "https://localhost:8080/"
        },
        "id": "EK3Mk2SMenth",
        "outputId": "2b3b3b47-84af-4879-e698-8f9eac57bfa8"
      },
      "outputs": [
        {
          "ename": "",
          "evalue": "",
          "output_type": "error",
          "traceback": [
            "\u001b[1;31mNo se pudo iniciar el Kernel. \n",
            "\u001b[1;31mEl servidor de Jupyter se bloqueó. No se puede conectar. \n",
            "\u001b[1;31mCódigo de error de Jupyter: 1\n",
            "\u001b[1;31mTraceback (most recent call last):\n",
            "\u001b[1;31m  File \"/Library/Frameworks/Python.framework/Versions/2.7/lib/python2.7/runpy.py\", line 174, in _run_module_as_main\n",
            "\u001b[1;31m\n",
            "\u001b[1;31m    \"__main__\", fname, loader, pkg_name)\n",
            "\u001b[1;31m  File \"/Library/Frameworks/Python.framework/Versions/2.7/lib/python2.7/runpy.py\", line 72, in _run_code\n",
            "\u001b[1;31m    exec code in run_globals\n",
            "\u001b[1;31m  File \"/Users/dmeneses/Library/Python/2.7/lib/python/site-packages/jupyter.py\", line 10, in <module>\n",
            "\u001b[1;31m    run_module('jupyter_core')\n",
            "\u001b[1;31m  File \"/Library/Frameworks/Python.framework/Versions/2.7/lib/python2.7/runpy.py\", line 192, in run_module\n",
            "\u001b[1;31m    fname, loader, pkg_name)\n",
            "\u001b[1;31m  File \"/Library/Frameworks/Python.framework/Versions/2.7/lib/python2.7/runpy.py\", line 72, in _run_code\n",
            "\u001b[1;31m    exec code in run_globals\n",
            "\u001b[1;31m  File \"/Users/dmeneses/Library/Python/2.7/lib/python/site-packages/jupyter_core/__main__.py\", line 3, in <module>\n",
            "\u001b[1;31m    main()\n",
            "\u001b[1;31m  File \"/Users/dmeneses/Library/Python/2.7/lib/python/site-packages/jupyter_core/command.py\", line 247, in main\n",
            "\u001b[1;31m\n",
            "\u001b[1;31m    command = _jupyter_abspath(subcommand)\n",
            "\u001b[1;31m  File \"/Users/dmeneses/Library/Python/2.7/lib/python/site-packages/jupyter_core/command.py\", line 134, in _jupyter_abspath\n",
            "\u001b[1;31m    'Jupyter command `{}` not found.'.format(jupyter_subcommand)\n",
            "\u001b[1;31mException: Jupyter command `jupyter-notebook` not found. \n",
            "\u001b[1;31mVea el [registro] de Jupyter (command:jupyter.viewOutput) para obtener más detalles."
          ]
        }
      ],
      "source": [
        "mm  = ndf.Origin.mode()\n",
        "mm"
      ]
    },
    {
      "cell_type": "code",
      "execution_count": null,
      "metadata": {
        "colab": {
          "base_uri": "https://localhost:8080/",
          "height": 185
        },
        "id": "FgssXUnwOf8s",
        "outputId": "5ae301e4-9979-4fe0-c40c-519d9d0d8410"
      },
      "outputs": [
        {
          "ename": "",
          "evalue": "",
          "output_type": "error",
          "traceback": [
            "\u001b[1;31mNo se pudo iniciar el Kernel. \n",
            "\u001b[1;31mEl servidor de Jupyter se bloqueó. No se puede conectar. \n",
            "\u001b[1;31mCódigo de error de Jupyter: 1\n",
            "\u001b[1;31mTraceback (most recent call last):\n",
            "\u001b[1;31m  File \"/Library/Frameworks/Python.framework/Versions/2.7/lib/python2.7/runpy.py\", line 174, in _run_module_as_main\n",
            "\u001b[1;31m\n",
            "\u001b[1;31m    \"__main__\", fname, loader, pkg_name)\n",
            "\u001b[1;31m  File \"/Library/Frameworks/Python.framework/Versions/2.7/lib/python2.7/runpy.py\", line 72, in _run_code\n",
            "\u001b[1;31m    exec code in run_globals\n",
            "\u001b[1;31m  File \"/Users/dmeneses/Library/Python/2.7/lib/python/site-packages/jupyter.py\", line 10, in <module>\n",
            "\u001b[1;31m    run_module('jupyter_core')\n",
            "\u001b[1;31m  File \"/Library/Frameworks/Python.framework/Versions/2.7/lib/python2.7/runpy.py\", line 192, in run_module\n",
            "\u001b[1;31m    fname, loader, pkg_name)\n",
            "\u001b[1;31m  File \"/Library/Frameworks/Python.framework/Versions/2.7/lib/python2.7/runpy.py\", line 72, in _run_code\n",
            "\u001b[1;31m    exec code in run_globals\n",
            "\u001b[1;31m  File \"/Users/dmeneses/Library/Python/2.7/lib/python/site-packages/jupyter_core/__main__.py\", line 3, in <module>\n",
            "\u001b[1;31m    main()\n",
            "\u001b[1;31m  File \"/Users/dmeneses/Library/Python/2.7/lib/python/site-packages/jupyter_core/command.py\", line 247, in main\n",
            "\u001b[1;31m\n",
            "\u001b[1;31m    command = _jupyter_abspath(subcommand)\n",
            "\u001b[1;31m  File \"/Users/dmeneses/Library/Python/2.7/lib/python/site-packages/jupyter_core/command.py\", line 134, in _jupyter_abspath\n",
            "\u001b[1;31m    'Jupyter command `{}` not found.'.format(jupyter_subcommand)\n",
            "\u001b[1;31mException: Jupyter command `jupyter-notebook` not found. \n",
            "\u001b[1;31mVea el [registro] de Jupyter (command:jupyter.viewOutput) para obtener más detalles."
          ]
        }
      ],
      "source": [
        "mm[1]"
      ]
    },
    {
      "cell_type": "code",
      "execution_count": null,
      "metadata": {
        "colab": {
          "base_uri": "https://localhost:8080/",
          "height": 295
        },
        "id": "wb6bCCyNeaBB",
        "outputId": "3ee637e5-d042-4f9f-f1ca-6463869c1c22"
      },
      "outputs": [
        {
          "ename": "",
          "evalue": "",
          "output_type": "error",
          "traceback": [
            "\u001b[1;31mNo se pudo iniciar el Kernel. \n",
            "\u001b[1;31mEl servidor de Jupyter se bloqueó. No se puede conectar. \n",
            "\u001b[1;31mCódigo de error de Jupyter: 1\n",
            "\u001b[1;31mTraceback (most recent call last):\n",
            "\u001b[1;31m  File \"/Library/Frameworks/Python.framework/Versions/2.7/lib/python2.7/runpy.py\", line 174, in _run_module_as_main\n",
            "\u001b[1;31m\n",
            "\u001b[1;31m    \"__main__\", fname, loader, pkg_name)\n",
            "\u001b[1;31m  File \"/Library/Frameworks/Python.framework/Versions/2.7/lib/python2.7/runpy.py\", line 72, in _run_code\n",
            "\u001b[1;31m    exec code in run_globals\n",
            "\u001b[1;31m  File \"/Users/dmeneses/Library/Python/2.7/lib/python/site-packages/jupyter.py\", line 10, in <module>\n",
            "\u001b[1;31m    run_module('jupyter_core')\n",
            "\u001b[1;31m  File \"/Library/Frameworks/Python.framework/Versions/2.7/lib/python2.7/runpy.py\", line 192, in run_module\n",
            "\u001b[1;31m    fname, loader, pkg_name)\n",
            "\u001b[1;31m  File \"/Library/Frameworks/Python.framework/Versions/2.7/lib/python2.7/runpy.py\", line 72, in _run_code\n",
            "\u001b[1;31m    exec code in run_globals\n",
            "\u001b[1;31m  File \"/Users/dmeneses/Library/Python/2.7/lib/python/site-packages/jupyter_core/__main__.py\", line 3, in <module>\n",
            "\u001b[1;31m    main()\n",
            "\u001b[1;31m  File \"/Users/dmeneses/Library/Python/2.7/lib/python/site-packages/jupyter_core/command.py\", line 247, in main\n",
            "\u001b[1;31m\n",
            "\u001b[1;31m    command = _jupyter_abspath(subcommand)\n",
            "\u001b[1;31m  File \"/Users/dmeneses/Library/Python/2.7/lib/python/site-packages/jupyter_core/command.py\", line 134, in _jupyter_abspath\n",
            "\u001b[1;31m    'Jupyter command `{}` not found.'.format(jupyter_subcommand)\n",
            "\u001b[1;31mException: Jupyter command `jupyter-notebook` not found. \n",
            "\u001b[1;31mVea el [registro] de Jupyter (command:jupyter.viewOutput) para obtener más detalles."
          ]
        }
      ],
      "source": [
        "ndf['Origin'].fillna(value = mm[1], #'NoPais', \n",
        "                    inplace = True)\n",
        "ndf"
      ]
    },
    {
      "cell_type": "code",
      "execution_count": null,
      "metadata": {
        "colab": {
          "base_uri": "https://localhost:8080/"
        },
        "id": "kGs1fmilewCT",
        "outputId": "45603930-0ca7-46e8-88e9-06ce63b93716"
      },
      "outputs": [
        {
          "ename": "",
          "evalue": "",
          "output_type": "error",
          "traceback": [
            "\u001b[1;31mNo se pudo iniciar el Kernel. \n",
            "\u001b[1;31mEl servidor de Jupyter se bloqueó. No se puede conectar. \n",
            "\u001b[1;31mCódigo de error de Jupyter: 1\n",
            "\u001b[1;31mTraceback (most recent call last):\n",
            "\u001b[1;31m  File \"/Library/Frameworks/Python.framework/Versions/2.7/lib/python2.7/runpy.py\", line 174, in _run_module_as_main\n",
            "\u001b[1;31m\n",
            "\u001b[1;31m    \"__main__\", fname, loader, pkg_name)\n",
            "\u001b[1;31m  File \"/Library/Frameworks/Python.framework/Versions/2.7/lib/python2.7/runpy.py\", line 72, in _run_code\n",
            "\u001b[1;31m    exec code in run_globals\n",
            "\u001b[1;31m  File \"/Users/dmeneses/Library/Python/2.7/lib/python/site-packages/jupyter.py\", line 10, in <module>\n",
            "\u001b[1;31m    run_module('jupyter_core')\n",
            "\u001b[1;31m  File \"/Library/Frameworks/Python.framework/Versions/2.7/lib/python2.7/runpy.py\", line 192, in run_module\n",
            "\u001b[1;31m    fname, loader, pkg_name)\n",
            "\u001b[1;31m  File \"/Library/Frameworks/Python.framework/Versions/2.7/lib/python2.7/runpy.py\", line 72, in _run_code\n",
            "\u001b[1;31m    exec code in run_globals\n",
            "\u001b[1;31m  File \"/Users/dmeneses/Library/Python/2.7/lib/python/site-packages/jupyter_core/__main__.py\", line 3, in <module>\n",
            "\u001b[1;31m    main()\n",
            "\u001b[1;31m  File \"/Users/dmeneses/Library/Python/2.7/lib/python/site-packages/jupyter_core/command.py\", line 247, in main\n",
            "\u001b[1;31m\n",
            "\u001b[1;31m    command = _jupyter_abspath(subcommand)\n",
            "\u001b[1;31m  File \"/Users/dmeneses/Library/Python/2.7/lib/python/site-packages/jupyter_core/command.py\", line 134, in _jupyter_abspath\n",
            "\u001b[1;31m    'Jupyter command `{}` not found.'.format(jupyter_subcommand)\n",
            "\u001b[1;31mException: Jupyter command `jupyter-notebook` not found. \n",
            "\u001b[1;31mVea el [registro] de Jupyter (command:jupyter.viewOutput) para obtener más detalles."
          ]
        }
      ],
      "source": [
        "ndf.isnull().values.any()"
      ]
    },
    {
      "cell_type": "code",
      "execution_count": null,
      "metadata": {
        "colab": {
          "base_uri": "https://localhost:8080/",
          "height": 295
        },
        "id": "sJl1S1AHXscC",
        "outputId": "ea65591f-57b3-482d-f1b6-87ed18f7cceb"
      },
      "outputs": [
        {
          "ename": "",
          "evalue": "",
          "output_type": "error",
          "traceback": [
            "\u001b[1;31mNo se pudo iniciar el Kernel. \n",
            "\u001b[1;31mEl servidor de Jupyter se bloqueó. No se puede conectar. \n",
            "\u001b[1;31mCódigo de error de Jupyter: 1\n",
            "\u001b[1;31mTraceback (most recent call last):\n",
            "\u001b[1;31m  File \"/Library/Frameworks/Python.framework/Versions/2.7/lib/python2.7/runpy.py\", line 174, in _run_module_as_main\n",
            "\u001b[1;31m\n",
            "\u001b[1;31m    \"__main__\", fname, loader, pkg_name)\n",
            "\u001b[1;31m  File \"/Library/Frameworks/Python.framework/Versions/2.7/lib/python2.7/runpy.py\", line 72, in _run_code\n",
            "\u001b[1;31m    exec code in run_globals\n",
            "\u001b[1;31m  File \"/Users/dmeneses/Library/Python/2.7/lib/python/site-packages/jupyter.py\", line 10, in <module>\n",
            "\u001b[1;31m    run_module('jupyter_core')\n",
            "\u001b[1;31m  File \"/Library/Frameworks/Python.framework/Versions/2.7/lib/python2.7/runpy.py\", line 192, in run_module\n",
            "\u001b[1;31m    fname, loader, pkg_name)\n",
            "\u001b[1;31m  File \"/Library/Frameworks/Python.framework/Versions/2.7/lib/python2.7/runpy.py\", line 72, in _run_code\n",
            "\u001b[1;31m    exec code in run_globals\n",
            "\u001b[1;31m  File \"/Users/dmeneses/Library/Python/2.7/lib/python/site-packages/jupyter_core/__main__.py\", line 3, in <module>\n",
            "\u001b[1;31m    main()\n",
            "\u001b[1;31m  File \"/Users/dmeneses/Library/Python/2.7/lib/python/site-packages/jupyter_core/command.py\", line 247, in main\n",
            "\u001b[1;31m\n",
            "\u001b[1;31m    command = _jupyter_abspath(subcommand)\n",
            "\u001b[1;31m  File \"/Users/dmeneses/Library/Python/2.7/lib/python/site-packages/jupyter_core/command.py\", line 134, in _jupyter_abspath\n",
            "\u001b[1;31m    'Jupyter command `{}` not found.'.format(jupyter_subcommand)\n",
            "\u001b[1;31mException: Jupyter command `jupyter-notebook` not found. \n",
            "\u001b[1;31mVea el [registro] de Jupyter (command:jupyter.viewOutput) para obtener más detalles."
          ]
        }
      ],
      "source": [
        "ndf = df.copy()\n",
        "ndf"
      ]
    },
    {
      "cell_type": "markdown",
      "metadata": {
        "id": "a6wUafblXw1W"
      },
      "source": [
        "Impute particular columns - "
      ]
    },
    {
      "cell_type": "code",
      "execution_count": null,
      "metadata": {
        "colab": {
          "base_uri": "https://localhost:8080/",
          "height": 234
        },
        "id": "bW3MrkWfX0aj",
        "outputId": "bf757119-bcc0-4e4a-eb04-114ee4d4ff5a"
      },
      "outputs": [
        {
          "ename": "",
          "evalue": "",
          "output_type": "error",
          "traceback": [
            "\u001b[1;31mNo se pudo iniciar el Kernel. \n",
            "\u001b[1;31mEl servidor de Jupyter se bloqueó. No se puede conectar. \n",
            "\u001b[1;31mCódigo de error de Jupyter: 1\n",
            "\u001b[1;31mTraceback (most recent call last):\n",
            "\u001b[1;31m  File \"/Library/Frameworks/Python.framework/Versions/2.7/lib/python2.7/runpy.py\", line 174, in _run_module_as_main\n",
            "\u001b[1;31m\n",
            "\u001b[1;31m    \"__main__\", fname, loader, pkg_name)\n",
            "\u001b[1;31m  File \"/Library/Frameworks/Python.framework/Versions/2.7/lib/python2.7/runpy.py\", line 72, in _run_code\n",
            "\u001b[1;31m    exec code in run_globals\n",
            "\u001b[1;31m  File \"/Users/dmeneses/Library/Python/2.7/lib/python/site-packages/jupyter.py\", line 10, in <module>\n",
            "\u001b[1;31m    run_module('jupyter_core')\n",
            "\u001b[1;31m  File \"/Library/Frameworks/Python.framework/Versions/2.7/lib/python2.7/runpy.py\", line 192, in run_module\n",
            "\u001b[1;31m    fname, loader, pkg_name)\n",
            "\u001b[1;31m  File \"/Library/Frameworks/Python.framework/Versions/2.7/lib/python2.7/runpy.py\", line 72, in _run_code\n",
            "\u001b[1;31m    exec code in run_globals\n",
            "\u001b[1;31m  File \"/Users/dmeneses/Library/Python/2.7/lib/python/site-packages/jupyter_core/__main__.py\", line 3, in <module>\n",
            "\u001b[1;31m    main()\n",
            "\u001b[1;31m  File \"/Users/dmeneses/Library/Python/2.7/lib/python/site-packages/jupyter_core/command.py\", line 247, in main\n",
            "\u001b[1;31m\n",
            "\u001b[1;31m    command = _jupyter_abspath(subcommand)\n",
            "\u001b[1;31m  File \"/Users/dmeneses/Library/Python/2.7/lib/python/site-packages/jupyter_core/command.py\", line 134, in _jupyter_abspath\n",
            "\u001b[1;31m    'Jupyter command `{}` not found.'.format(jupyter_subcommand)\n",
            "\u001b[1;31mException: Jupyter command `jupyter-notebook` not found. \n",
            "\u001b[1;31mVea el [registro] de Jupyter (command:jupyter.viewOutput) para obtener más detalles."
          ]
        }
      ],
      "source": [
        "ndf.dropna(subset=['Origin', 'Length'], inplace = True)\n",
        "ndf"
      ]
    },
    {
      "cell_type": "code",
      "execution_count": null,
      "metadata": {
        "colab": {
          "base_uri": "https://localhost:8080/",
          "height": 295
        },
        "id": "uRcPRyxGYEww",
        "outputId": "c1494e81-e551-497a-db23-0a1b04c086ff"
      },
      "outputs": [
        {
          "ename": "",
          "evalue": "",
          "output_type": "error",
          "traceback": [
            "\u001b[1;31mNo se pudo iniciar el Kernel. \n",
            "\u001b[1;31mEl servidor de Jupyter se bloqueó. No se puede conectar. \n",
            "\u001b[1;31mCódigo de error de Jupyter: 1\n",
            "\u001b[1;31mTraceback (most recent call last):\n",
            "\u001b[1;31m  File \"/Library/Frameworks/Python.framework/Versions/2.7/lib/python2.7/runpy.py\", line 174, in _run_module_as_main\n",
            "\u001b[1;31m\n",
            "\u001b[1;31m    \"__main__\", fname, loader, pkg_name)\n",
            "\u001b[1;31m  File \"/Library/Frameworks/Python.framework/Versions/2.7/lib/python2.7/runpy.py\", line 72, in _run_code\n",
            "\u001b[1;31m    exec code in run_globals\n",
            "\u001b[1;31m  File \"/Users/dmeneses/Library/Python/2.7/lib/python/site-packages/jupyter.py\", line 10, in <module>\n",
            "\u001b[1;31m    run_module('jupyter_core')\n",
            "\u001b[1;31m  File \"/Library/Frameworks/Python.framework/Versions/2.7/lib/python2.7/runpy.py\", line 192, in run_module\n",
            "\u001b[1;31m    fname, loader, pkg_name)\n",
            "\u001b[1;31m  File \"/Library/Frameworks/Python.framework/Versions/2.7/lib/python2.7/runpy.py\", line 72, in _run_code\n",
            "\u001b[1;31m    exec code in run_globals\n",
            "\u001b[1;31m  File \"/Users/dmeneses/Library/Python/2.7/lib/python/site-packages/jupyter_core/__main__.py\", line 3, in <module>\n",
            "\u001b[1;31m    main()\n",
            "\u001b[1;31m  File \"/Users/dmeneses/Library/Python/2.7/lib/python/site-packages/jupyter_core/command.py\", line 247, in main\n",
            "\u001b[1;31m\n",
            "\u001b[1;31m    command = _jupyter_abspath(subcommand)\n",
            "\u001b[1;31m  File \"/Users/dmeneses/Library/Python/2.7/lib/python/site-packages/jupyter_core/command.py\", line 134, in _jupyter_abspath\n",
            "\u001b[1;31m    'Jupyter command `{}` not found.'.format(jupyter_subcommand)\n",
            "\u001b[1;31mException: Jupyter command `jupyter-notebook` not found. \n",
            "\u001b[1;31mVea el [registro] de Jupyter (command:jupyter.viewOutput) para obtener más detalles."
          ]
        }
      ],
      "source": [
        "ndf = df.copy()\n",
        "ndf"
      ]
    },
    {
      "cell_type": "markdown",
      "metadata": {
        "id": "Kzg6taAKYjiH"
      },
      "source": [
        "Fill values in each column with favorite strategy: "
      ]
    },
    {
      "cell_type": "code",
      "execution_count": null,
      "metadata": {
        "colab": {
          "base_uri": "https://localhost:8080/",
          "height": 169
        },
        "id": "Ufp1EYbeY-tc",
        "outputId": "804c761c-fc90-4661-ae22-8a51e965d558"
      },
      "outputs": [
        {
          "ename": "",
          "evalue": "",
          "output_type": "error",
          "traceback": [
            "\u001b[1;31mNo se pudo iniciar el Kernel. \n",
            "\u001b[1;31mEl servidor de Jupyter se bloqueó. No se puede conectar. \n",
            "\u001b[1;31mCódigo de error de Jupyter: 1\n",
            "\u001b[1;31mTraceback (most recent call last):\n",
            "\u001b[1;31m  File \"/Library/Frameworks/Python.framework/Versions/2.7/lib/python2.7/runpy.py\", line 174, in _run_module_as_main\n",
            "\u001b[1;31m\n",
            "\u001b[1;31m    \"__main__\", fname, loader, pkg_name)\n",
            "\u001b[1;31m  File \"/Library/Frameworks/Python.framework/Versions/2.7/lib/python2.7/runpy.py\", line 72, in _run_code\n",
            "\u001b[1;31m    exec code in run_globals\n",
            "\u001b[1;31m  File \"/Users/dmeneses/Library/Python/2.7/lib/python/site-packages/jupyter.py\", line 10, in <module>\n",
            "\u001b[1;31m    run_module('jupyter_core')\n",
            "\u001b[1;31m  File \"/Library/Frameworks/Python.framework/Versions/2.7/lib/python2.7/runpy.py\", line 192, in run_module\n",
            "\u001b[1;31m    fname, loader, pkg_name)\n",
            "\u001b[1;31m  File \"/Library/Frameworks/Python.framework/Versions/2.7/lib/python2.7/runpy.py\", line 72, in _run_code\n",
            "\u001b[1;31m    exec code in run_globals\n",
            "\u001b[1;31m  File \"/Users/dmeneses/Library/Python/2.7/lib/python/site-packages/jupyter_core/__main__.py\", line 3, in <module>\n",
            "\u001b[1;31m    main()\n",
            "\u001b[1;31m  File \"/Users/dmeneses/Library/Python/2.7/lib/python/site-packages/jupyter_core/command.py\", line 247, in main\n",
            "\u001b[1;31m\n",
            "\u001b[1;31m    command = _jupyter_abspath(subcommand)\n",
            "\u001b[1;31m  File \"/Users/dmeneses/Library/Python/2.7/lib/python/site-packages/jupyter_core/command.py\", line 134, in _jupyter_abspath\n",
            "\u001b[1;31m    'Jupyter command `{}` not found.'.format(jupyter_subcommand)\n",
            "\u001b[1;31mException: Jupyter command `jupyter-notebook` not found. \n",
            "\u001b[1;31mVea el [registro] de Jupyter (command:jupyter.viewOutput) para obtener más detalles."
          ]
        }
      ],
      "source": [
        "ndf.Origin.mode()[0]"
      ]
    },
    {
      "cell_type": "code",
      "execution_count": null,
      "metadata": {
        "id": "o45pXlnJYojU"
      },
      "outputs": [
        {
          "ename": "",
          "evalue": "",
          "output_type": "error",
          "traceback": [
            "\u001b[1;31mNo se pudo iniciar el Kernel. \n",
            "\u001b[1;31mEl servidor de Jupyter se bloqueó. No se puede conectar. \n",
            "\u001b[1;31mCódigo de error de Jupyter: 1\n",
            "\u001b[1;31mTraceback (most recent call last):\n",
            "\u001b[1;31m  File \"/Library/Frameworks/Python.framework/Versions/2.7/lib/python2.7/runpy.py\", line 174, in _run_module_as_main\n",
            "\u001b[1;31m\n",
            "\u001b[1;31m    \"__main__\", fname, loader, pkg_name)\n",
            "\u001b[1;31m  File \"/Library/Frameworks/Python.framework/Versions/2.7/lib/python2.7/runpy.py\", line 72, in _run_code\n",
            "\u001b[1;31m    exec code in run_globals\n",
            "\u001b[1;31m  File \"/Users/dmeneses/Library/Python/2.7/lib/python/site-packages/jupyter.py\", line 10, in <module>\n",
            "\u001b[1;31m    run_module('jupyter_core')\n",
            "\u001b[1;31m  File \"/Library/Frameworks/Python.framework/Versions/2.7/lib/python2.7/runpy.py\", line 192, in run_module\n",
            "\u001b[1;31m    fname, loader, pkg_name)\n",
            "\u001b[1;31m  File \"/Library/Frameworks/Python.framework/Versions/2.7/lib/python2.7/runpy.py\", line 72, in _run_code\n",
            "\u001b[1;31m    exec code in run_globals\n",
            "\u001b[1;31m  File \"/Users/dmeneses/Library/Python/2.7/lib/python/site-packages/jupyter_core/__main__.py\", line 3, in <module>\n",
            "\u001b[1;31m    main()\n",
            "\u001b[1;31m  File \"/Users/dmeneses/Library/Python/2.7/lib/python/site-packages/jupyter_core/command.py\", line 247, in main\n",
            "\u001b[1;31m\n",
            "\u001b[1;31m    command = _jupyter_abspath(subcommand)\n",
            "\u001b[1;31m  File \"/Users/dmeneses/Library/Python/2.7/lib/python/site-packages/jupyter_core/command.py\", line 134, in _jupyter_abspath\n",
            "\u001b[1;31m    'Jupyter command `{}` not found.'.format(jupyter_subcommand)\n",
            "\u001b[1;31mException: Jupyter command `jupyter-notebook` not found. \n",
            "\u001b[1;31mVea el [registro] de Jupyter (command:jupyter.viewOutput) para obtener más detalles."
          ]
        }
      ],
      "source": [
        "favs = {'Origin': ndf.Origin.mode()[0], 'Length': ndf['Length'].mean()}"
      ]
    },
    {
      "cell_type": "code",
      "execution_count": null,
      "metadata": {
        "colab": {
          "base_uri": "https://localhost:8080/",
          "height": 295
        },
        "id": "e6xF8jGdYIa7",
        "outputId": "ef9021f1-307d-4cb6-f37d-56d9537435d4"
      },
      "outputs": [
        {
          "ename": "",
          "evalue": "",
          "output_type": "error",
          "traceback": [
            "\u001b[1;31mNo se pudo iniciar el Kernel. \n",
            "\u001b[1;31mEl servidor de Jupyter se bloqueó. No se puede conectar. \n",
            "\u001b[1;31mCódigo de error de Jupyter: 1\n",
            "\u001b[1;31mTraceback (most recent call last):\n",
            "\u001b[1;31m  File \"/Library/Frameworks/Python.framework/Versions/2.7/lib/python2.7/runpy.py\", line 174, in _run_module_as_main\n",
            "\u001b[1;31m\n",
            "\u001b[1;31m    \"__main__\", fname, loader, pkg_name)\n",
            "\u001b[1;31m  File \"/Library/Frameworks/Python.framework/Versions/2.7/lib/python2.7/runpy.py\", line 72, in _run_code\n",
            "\u001b[1;31m    exec code in run_globals\n",
            "\u001b[1;31m  File \"/Users/dmeneses/Library/Python/2.7/lib/python/site-packages/jupyter.py\", line 10, in <module>\n",
            "\u001b[1;31m    run_module('jupyter_core')\n",
            "\u001b[1;31m  File \"/Library/Frameworks/Python.framework/Versions/2.7/lib/python2.7/runpy.py\", line 192, in run_module\n",
            "\u001b[1;31m    fname, loader, pkg_name)\n",
            "\u001b[1;31m  File \"/Library/Frameworks/Python.framework/Versions/2.7/lib/python2.7/runpy.py\", line 72, in _run_code\n",
            "\u001b[1;31m    exec code in run_globals\n",
            "\u001b[1;31m  File \"/Users/dmeneses/Library/Python/2.7/lib/python/site-packages/jupyter_core/__main__.py\", line 3, in <module>\n",
            "\u001b[1;31m    main()\n",
            "\u001b[1;31m  File \"/Users/dmeneses/Library/Python/2.7/lib/python/site-packages/jupyter_core/command.py\", line 247, in main\n",
            "\u001b[1;31m\n",
            "\u001b[1;31m    command = _jupyter_abspath(subcommand)\n",
            "\u001b[1;31m  File \"/Users/dmeneses/Library/Python/2.7/lib/python/site-packages/jupyter_core/command.py\", line 134, in _jupyter_abspath\n",
            "\u001b[1;31m    'Jupyter command `{}` not found.'.format(jupyter_subcommand)\n",
            "\u001b[1;31mException: Jupyter command `jupyter-notebook` not found. \n",
            "\u001b[1;31mVea el [registro] de Jupyter (command:jupyter.viewOutput) para obtener más detalles."
          ]
        }
      ],
      "source": [
        "ndf.Origin.fillna(ndf.Origin.mode()[0], inplace=True)\n",
        "ndf.Length.fillna(ndf.Length.mean(), inplace=True)\n",
        "ndf"
      ]
    },
    {
      "cell_type": "markdown",
      "metadata": {
        "id": "Tzh2xKksPzQd"
      },
      "source": [
        "more on `fillna` method : https://pandas.pydata.org/docs/reference/api/pandas.DataFrame.fillna.html\n",
        "\n",
        "More on Imputing strategies: https://www.theanalysisfactor.com/seven-ways-to-make-up-data-common-methods-to-imputing-missing-data/"
      ]
    },
    {
      "cell_type": "markdown",
      "metadata": {
        "id": "SQ06PX_mUa4B"
      },
      "source": [
        "## ¿Cuándo es una mediana mejor en comparación con la media?"
      ]
    },
    {
      "cell_type": "code",
      "execution_count": null,
      "metadata": {
        "colab": {
          "base_uri": "https://localhost:8080/",
          "height": 261
        },
        "id": "7dK-WUW1UlFv",
        "outputId": "74ed9d6c-6c2a-4ab3-f30e-22df5819d5ef"
      },
      "outputs": [
        {
          "ename": "",
          "evalue": "",
          "output_type": "error",
          "traceback": [
            "\u001b[1;31mNo se pudo iniciar el Kernel. \n",
            "\u001b[1;31mEl servidor de Jupyter se bloqueó. No se puede conectar. \n",
            "\u001b[1;31mCódigo de error de Jupyter: 1\n",
            "\u001b[1;31mTraceback (most recent call last):\n",
            "\u001b[1;31m  File \"/Library/Frameworks/Python.framework/Versions/2.7/lib/python2.7/runpy.py\", line 174, in _run_module_as_main\n",
            "\u001b[1;31m\n",
            "\u001b[1;31m    \"__main__\", fname, loader, pkg_name)\n",
            "\u001b[1;31m  File \"/Library/Frameworks/Python.framework/Versions/2.7/lib/python2.7/runpy.py\", line 72, in _run_code\n",
            "\u001b[1;31m    exec code in run_globals\n",
            "\u001b[1;31m  File \"/Users/dmeneses/Library/Python/2.7/lib/python/site-packages/jupyter.py\", line 10, in <module>\n",
            "\u001b[1;31m    run_module('jupyter_core')\n",
            "\u001b[1;31m  File \"/Library/Frameworks/Python.framework/Versions/2.7/lib/python2.7/runpy.py\", line 192, in run_module\n",
            "\u001b[1;31m    fname, loader, pkg_name)\n",
            "\u001b[1;31m  File \"/Library/Frameworks/Python.framework/Versions/2.7/lib/python2.7/runpy.py\", line 72, in _run_code\n",
            "\u001b[1;31m    exec code in run_globals\n",
            "\u001b[1;31m  File \"/Users/dmeneses/Library/Python/2.7/lib/python/site-packages/jupyter_core/__main__.py\", line 3, in <module>\n",
            "\u001b[1;31m    main()\n",
            "\u001b[1;31m  File \"/Users/dmeneses/Library/Python/2.7/lib/python/site-packages/jupyter_core/command.py\", line 247, in main\n",
            "\u001b[1;31m\n",
            "\u001b[1;31m    command = _jupyter_abspath(subcommand)\n",
            "\u001b[1;31m  File \"/Users/dmeneses/Library/Python/2.7/lib/python/site-packages/jupyter_core/command.py\", line 134, in _jupyter_abspath\n",
            "\u001b[1;31m    'Jupyter command `{}` not found.'.format(jupyter_subcommand)\n",
            "\u001b[1;31mException: Jupyter command `jupyter-notebook` not found. \n",
            "\u001b[1;31mVea el [registro] de Jupyter (command:jupyter.viewOutput) para obtener más detalles."
          ]
        }
      ],
      "source": [
        "data = {'Salary':  [28, 30, 30, 35, 37, 40, 400]\n",
        "}\n",
        "adf = pd.DataFrame(data)\n",
        "adf"
      ]
    },
    {
      "cell_type": "code",
      "execution_count": null,
      "metadata": {
        "colab": {
          "base_uri": "https://localhost:8080/",
          "height": 291
        },
        "id": "IDw-HDT3U9fT",
        "outputId": "3ed14a36-757d-4609-ee09-39d4540fa281"
      },
      "outputs": [
        {
          "ename": "",
          "evalue": "",
          "output_type": "error",
          "traceback": [
            "\u001b[1;31mNo se pudo iniciar el Kernel. \n",
            "\u001b[1;31mEl servidor de Jupyter se bloqueó. No se puede conectar. \n",
            "\u001b[1;31mCódigo de error de Jupyter: 1\n",
            "\u001b[1;31mTraceback (most recent call last):\n",
            "\u001b[1;31m  File \"/Library/Frameworks/Python.framework/Versions/2.7/lib/python2.7/runpy.py\", line 174, in _run_module_as_main\n",
            "\u001b[1;31m\n",
            "\u001b[1;31m    \"__main__\", fname, loader, pkg_name)\n",
            "\u001b[1;31m  File \"/Library/Frameworks/Python.framework/Versions/2.7/lib/python2.7/runpy.py\", line 72, in _run_code\n",
            "\u001b[1;31m    exec code in run_globals\n",
            "\u001b[1;31m  File \"/Users/dmeneses/Library/Python/2.7/lib/python/site-packages/jupyter.py\", line 10, in <module>\n",
            "\u001b[1;31m    run_module('jupyter_core')\n",
            "\u001b[1;31m  File \"/Library/Frameworks/Python.framework/Versions/2.7/lib/python2.7/runpy.py\", line 192, in run_module\n",
            "\u001b[1;31m    fname, loader, pkg_name)\n",
            "\u001b[1;31m  File \"/Library/Frameworks/Python.framework/Versions/2.7/lib/python2.7/runpy.py\", line 72, in _run_code\n",
            "\u001b[1;31m    exec code in run_globals\n",
            "\u001b[1;31m  File \"/Users/dmeneses/Library/Python/2.7/lib/python/site-packages/jupyter_core/__main__.py\", line 3, in <module>\n",
            "\u001b[1;31m    main()\n",
            "\u001b[1;31m  File \"/Users/dmeneses/Library/Python/2.7/lib/python/site-packages/jupyter_core/command.py\", line 247, in main\n",
            "\u001b[1;31m\n",
            "\u001b[1;31m    command = _jupyter_abspath(subcommand)\n",
            "\u001b[1;31m  File \"/Users/dmeneses/Library/Python/2.7/lib/python/site-packages/jupyter_core/command.py\", line 134, in _jupyter_abspath\n",
            "\u001b[1;31m    'Jupyter command `{}` not found.'.format(jupyter_subcommand)\n",
            "\u001b[1;31mException: Jupyter command `jupyter-notebook` not found. \n",
            "\u001b[1;31mVea el [registro] de Jupyter (command:jupyter.viewOutput) para obtener más detalles."
          ]
        }
      ],
      "source": [
        "adf.describe()"
      ]
    },
    {
      "cell_type": "markdown",
      "metadata": {
        "id": "f_h9Q13FbAKV"
      },
      "source": [
        "### Para seleccionar las columnas de la base de datos, puede usar la siguiente codigos: \n",
        "\n"
      ]
    },
    {
      "cell_type": "code",
      "execution_count": null,
      "metadata": {
        "colab": {
          "base_uri": "https://localhost:8080/",
          "height": 295
        },
        "id": "2hG-7VtCZH1r",
        "outputId": "334987ca-b2ce-4bb5-ed56-113fd2edf296"
      },
      "outputs": [
        {
          "ename": "",
          "evalue": "",
          "output_type": "error",
          "traceback": [
            "\u001b[1;31mNo se pudo iniciar el Kernel. \n",
            "\u001b[1;31mEl servidor de Jupyter se bloqueó. No se puede conectar. \n",
            "\u001b[1;31mCódigo de error de Jupyter: 1\n",
            "\u001b[1;31mTraceback (most recent call last):\n",
            "\u001b[1;31m  File \"/Library/Frameworks/Python.framework/Versions/2.7/lib/python2.7/runpy.py\", line 174, in _run_module_as_main\n",
            "\u001b[1;31m\n",
            "\u001b[1;31m    \"__main__\", fname, loader, pkg_name)\n",
            "\u001b[1;31m  File \"/Library/Frameworks/Python.framework/Versions/2.7/lib/python2.7/runpy.py\", line 72, in _run_code\n",
            "\u001b[1;31m    exec code in run_globals\n",
            "\u001b[1;31m  File \"/Users/dmeneses/Library/Python/2.7/lib/python/site-packages/jupyter.py\", line 10, in <module>\n",
            "\u001b[1;31m    run_module('jupyter_core')\n",
            "\u001b[1;31m  File \"/Library/Frameworks/Python.framework/Versions/2.7/lib/python2.7/runpy.py\", line 192, in run_module\n",
            "\u001b[1;31m    fname, loader, pkg_name)\n",
            "\u001b[1;31m  File \"/Library/Frameworks/Python.framework/Versions/2.7/lib/python2.7/runpy.py\", line 72, in _run_code\n",
            "\u001b[1;31m    exec code in run_globals\n",
            "\u001b[1;31m  File \"/Users/dmeneses/Library/Python/2.7/lib/python/site-packages/jupyter_core/__main__.py\", line 3, in <module>\n",
            "\u001b[1;31m    main()\n",
            "\u001b[1;31m  File \"/Users/dmeneses/Library/Python/2.7/lib/python/site-packages/jupyter_core/command.py\", line 247, in main\n",
            "\u001b[1;31m\n",
            "\u001b[1;31m    command = _jupyter_abspath(subcommand)\n",
            "\u001b[1;31m  File \"/Users/dmeneses/Library/Python/2.7/lib/python/site-packages/jupyter_core/command.py\", line 134, in _jupyter_abspath\n",
            "\u001b[1;31m    'Jupyter command `{}` not found.'.format(jupyter_subcommand)\n",
            "\u001b[1;31mException: Jupyter command `jupyter-notebook` not found. \n",
            "\u001b[1;31mVea el [registro] de Jupyter (command:jupyter.viewOutput) para obtener más detalles."
          ]
        }
      ],
      "source": [
        "df = pd.read_csv('/content/data.csv', index_col=0)\n",
        "ndf = df.copy()\n",
        "ndf"
      ]
    },
    {
      "cell_type": "markdown",
      "metadata": {
        "id": "kBIJJ9HpZ1H0"
      },
      "source": [
        "** Syntaxis ** de loc & iloc\n",
        "\n",
        "* loc : If you use, `loc`, use the `names`\n",
        "\n",
        "> df.`loc` [ row-start:row-end,  column-start:column_end]  \n",
        "\n",
        "\n",
        "\n",
        "* iloc : If you use, `loc`, use the `indices`\n",
        "\n",
        "> df.`iloc` [row-start:row-end, column-start:columnEnd]  "
      ]
    },
    {
      "cell_type": "code",
      "execution_count": null,
      "metadata": {
        "colab": {
          "base_uri": "https://localhost:8080/"
        },
        "id": "Qj4lJSbub57y",
        "outputId": "b19ef46e-3c2f-4187-db0a-57b951e9db06"
      },
      "outputs": [
        {
          "ename": "",
          "evalue": "",
          "output_type": "error",
          "traceback": [
            "\u001b[1;31mNo se pudo iniciar el Kernel. \n",
            "\u001b[1;31mEl servidor de Jupyter se bloqueó. No se puede conectar. \n",
            "\u001b[1;31mCódigo de error de Jupyter: 1\n",
            "\u001b[1;31mTraceback (most recent call last):\n",
            "\u001b[1;31m  File \"/Library/Frameworks/Python.framework/Versions/2.7/lib/python2.7/runpy.py\", line 174, in _run_module_as_main\n",
            "\u001b[1;31m\n",
            "\u001b[1;31m    \"__main__\", fname, loader, pkg_name)\n",
            "\u001b[1;31m  File \"/Library/Frameworks/Python.framework/Versions/2.7/lib/python2.7/runpy.py\", line 72, in _run_code\n",
            "\u001b[1;31m    exec code in run_globals\n",
            "\u001b[1;31m  File \"/Users/dmeneses/Library/Python/2.7/lib/python/site-packages/jupyter.py\", line 10, in <module>\n",
            "\u001b[1;31m    run_module('jupyter_core')\n",
            "\u001b[1;31m  File \"/Library/Frameworks/Python.framework/Versions/2.7/lib/python2.7/runpy.py\", line 192, in run_module\n",
            "\u001b[1;31m    fname, loader, pkg_name)\n",
            "\u001b[1;31m  File \"/Library/Frameworks/Python.framework/Versions/2.7/lib/python2.7/runpy.py\", line 72, in _run_code\n",
            "\u001b[1;31m    exec code in run_globals\n",
            "\u001b[1;31m  File \"/Users/dmeneses/Library/Python/2.7/lib/python/site-packages/jupyter_core/__main__.py\", line 3, in <module>\n",
            "\u001b[1;31m    main()\n",
            "\u001b[1;31m  File \"/Users/dmeneses/Library/Python/2.7/lib/python/site-packages/jupyter_core/command.py\", line 247, in main\n",
            "\u001b[1;31m\n",
            "\u001b[1;31m    command = _jupyter_abspath(subcommand)\n",
            "\u001b[1;31m  File \"/Users/dmeneses/Library/Python/2.7/lib/python/site-packages/jupyter_core/command.py\", line 134, in _jupyter_abspath\n",
            "\u001b[1;31m    'Jupyter command `{}` not found.'.format(jupyter_subcommand)\n",
            "\u001b[1;31mException: Jupyter command `jupyter-notebook` not found. \n",
            "\u001b[1;31mVea el [registro] de Jupyter (command:jupyter.viewOutput) para obtener más detalles."
          ]
        }
      ],
      "source": [
        "ndf.columns"
      ]
    },
    {
      "cell_type": "code",
      "execution_count": null,
      "metadata": {
        "colab": {
          "base_uri": "https://localhost:8080/"
        },
        "id": "Ava0RdT1b9_m",
        "outputId": "f401e226-0a6d-4c5a-c999-71ac9a4ef68f"
      },
      "outputs": [
        {
          "ename": "",
          "evalue": "",
          "output_type": "error",
          "traceback": [
            "\u001b[1;31mNo se pudo iniciar el Kernel. \n",
            "\u001b[1;31mEl servidor de Jupyter se bloqueó. No se puede conectar. \n",
            "\u001b[1;31mCódigo de error de Jupyter: 1\n",
            "\u001b[1;31mTraceback (most recent call last):\n",
            "\u001b[1;31m  File \"/Library/Frameworks/Python.framework/Versions/2.7/lib/python2.7/runpy.py\", line 174, in _run_module_as_main\n",
            "\u001b[1;31m\n",
            "\u001b[1;31m    \"__main__\", fname, loader, pkg_name)\n",
            "\u001b[1;31m  File \"/Library/Frameworks/Python.framework/Versions/2.7/lib/python2.7/runpy.py\", line 72, in _run_code\n",
            "\u001b[1;31m    exec code in run_globals\n",
            "\u001b[1;31m  File \"/Users/dmeneses/Library/Python/2.7/lib/python/site-packages/jupyter.py\", line 10, in <module>\n",
            "\u001b[1;31m    run_module('jupyter_core')\n",
            "\u001b[1;31m  File \"/Library/Frameworks/Python.framework/Versions/2.7/lib/python2.7/runpy.py\", line 192, in run_module\n",
            "\u001b[1;31m    fname, loader, pkg_name)\n",
            "\u001b[1;31m  File \"/Library/Frameworks/Python.framework/Versions/2.7/lib/python2.7/runpy.py\", line 72, in _run_code\n",
            "\u001b[1;31m    exec code in run_globals\n",
            "\u001b[1;31m  File \"/Users/dmeneses/Library/Python/2.7/lib/python/site-packages/jupyter_core/__main__.py\", line 3, in <module>\n",
            "\u001b[1;31m    main()\n",
            "\u001b[1;31m  File \"/Users/dmeneses/Library/Python/2.7/lib/python/site-packages/jupyter_core/command.py\", line 247, in main\n",
            "\u001b[1;31m\n",
            "\u001b[1;31m    command = _jupyter_abspath(subcommand)\n",
            "\u001b[1;31m  File \"/Users/dmeneses/Library/Python/2.7/lib/python/site-packages/jupyter_core/command.py\", line 134, in _jupyter_abspath\n",
            "\u001b[1;31m    'Jupyter command `{}` not found.'.format(jupyter_subcommand)\n",
            "\u001b[1;31mException: Jupyter command `jupyter-notebook` not found. \n",
            "\u001b[1;31mVea el [registro] de Jupyter (command:jupyter.viewOutput) para obtener más detalles."
          ]
        }
      ],
      "source": [
        "ndf.columns.sort_values()"
      ]
    },
    {
      "cell_type": "code",
      "execution_count": null,
      "metadata": {
        "colab": {
          "base_uri": "https://localhost:8080/",
          "height": 234
        },
        "id": "L9nhEa2CZJkQ",
        "outputId": "49f14b0a-d030-48a6-c362-559905e62cbb"
      },
      "outputs": [
        {
          "ename": "",
          "evalue": "",
          "output_type": "error",
          "traceback": [
            "\u001b[1;31mNo se pudo iniciar el Kernel. \n",
            "\u001b[1;31mEl servidor de Jupyter se bloqueó. No se puede conectar. \n",
            "\u001b[1;31mCódigo de error de Jupyter: 1\n",
            "\u001b[1;31mTraceback (most recent call last):\n",
            "\u001b[1;31m  File \"/Library/Frameworks/Python.framework/Versions/2.7/lib/python2.7/runpy.py\", line 174, in _run_module_as_main\n",
            "\u001b[1;31m\n",
            "\u001b[1;31m    \"__main__\", fname, loader, pkg_name)\n",
            "\u001b[1;31m  File \"/Library/Frameworks/Python.framework/Versions/2.7/lib/python2.7/runpy.py\", line 72, in _run_code\n",
            "\u001b[1;31m    exec code in run_globals\n",
            "\u001b[1;31m  File \"/Users/dmeneses/Library/Python/2.7/lib/python/site-packages/jupyter.py\", line 10, in <module>\n",
            "\u001b[1;31m    run_module('jupyter_core')\n",
            "\u001b[1;31m  File \"/Library/Frameworks/Python.framework/Versions/2.7/lib/python2.7/runpy.py\", line 192, in run_module\n",
            "\u001b[1;31m    fname, loader, pkg_name)\n",
            "\u001b[1;31m  File \"/Library/Frameworks/Python.framework/Versions/2.7/lib/python2.7/runpy.py\", line 72, in _run_code\n",
            "\u001b[1;31m    exec code in run_globals\n",
            "\u001b[1;31m  File \"/Users/dmeneses/Library/Python/2.7/lib/python/site-packages/jupyter_core/__main__.py\", line 3, in <module>\n",
            "\u001b[1;31m    main()\n",
            "\u001b[1;31m  File \"/Users/dmeneses/Library/Python/2.7/lib/python/site-packages/jupyter_core/command.py\", line 247, in main\n",
            "\u001b[1;31m\n",
            "\u001b[1;31m    command = _jupyter_abspath(subcommand)\n",
            "\u001b[1;31m  File \"/Users/dmeneses/Library/Python/2.7/lib/python/site-packages/jupyter_core/command.py\", line 134, in _jupyter_abspath\n",
            "\u001b[1;31m    'Jupyter command `{}` not found.'.format(jupyter_subcommand)\n",
            "\u001b[1;31mException: Jupyter command `jupyter-notebook` not found. \n",
            "\u001b[1;31mVea el [registro] de Jupyter (command:jupyter.viewOutput) para obtener más detalles."
          ]
        }
      ],
      "source": [
        "ndf.loc[2:5 , 'Company':'Origin']  # rows 2 to 5, columns  'Company' to 'Origin'"
      ]
    },
    {
      "cell_type": "code",
      "execution_count": null,
      "metadata": {
        "id": "tJZjKFClbeGp"
      },
      "outputs": [
        {
          "ename": "",
          "evalue": "",
          "output_type": "error",
          "traceback": [
            "\u001b[1;31mNo se pudo iniciar el Kernel. \n",
            "\u001b[1;31mEl servidor de Jupyter se bloqueó. No se puede conectar. \n",
            "\u001b[1;31mCódigo de error de Jupyter: 1\n",
            "\u001b[1;31mTraceback (most recent call last):\n",
            "\u001b[1;31m  File \"/Library/Frameworks/Python.framework/Versions/2.7/lib/python2.7/runpy.py\", line 174, in _run_module_as_main\n",
            "\u001b[1;31m\n",
            "\u001b[1;31m    \"__main__\", fname, loader, pkg_name)\n",
            "\u001b[1;31m  File \"/Library/Frameworks/Python.framework/Versions/2.7/lib/python2.7/runpy.py\", line 72, in _run_code\n",
            "\u001b[1;31m    exec code in run_globals\n",
            "\u001b[1;31m  File \"/Users/dmeneses/Library/Python/2.7/lib/python/site-packages/jupyter.py\", line 10, in <module>\n",
            "\u001b[1;31m    run_module('jupyter_core')\n",
            "\u001b[1;31m  File \"/Library/Frameworks/Python.framework/Versions/2.7/lib/python2.7/runpy.py\", line 192, in run_module\n",
            "\u001b[1;31m    fname, loader, pkg_name)\n",
            "\u001b[1;31m  File \"/Library/Frameworks/Python.framework/Versions/2.7/lib/python2.7/runpy.py\", line 72, in _run_code\n",
            "\u001b[1;31m    exec code in run_globals\n",
            "\u001b[1;31m  File \"/Users/dmeneses/Library/Python/2.7/lib/python/site-packages/jupyter_core/__main__.py\", line 3, in <module>\n",
            "\u001b[1;31m    main()\n",
            "\u001b[1;31m  File \"/Users/dmeneses/Library/Python/2.7/lib/python/site-packages/jupyter_core/command.py\", line 247, in main\n",
            "\u001b[1;31m\n",
            "\u001b[1;31m    command = _jupyter_abspath(subcommand)\n",
            "\u001b[1;31m  File \"/Users/dmeneses/Library/Python/2.7/lib/python/site-packages/jupyter_core/command.py\", line 134, in _jupyter_abspath\n",
            "\u001b[1;31m    'Jupyter command `{}` not found.'.format(jupyter_subcommand)\n",
            "\u001b[1;31mException: Jupyter command `jupyter-notebook` not found. \n",
            "\u001b[1;31mVea el [registro] de Jupyter (command:jupyter.viewOutput) para obtener más detalles."
          ]
        }
      ],
      "source": [
        "favs = ['Stars', 'Weight', 'Origin']"
      ]
    },
    {
      "cell_type": "code",
      "execution_count": null,
      "metadata": {
        "colab": {
          "base_uri": "https://localhost:8080/",
          "height": 234
        },
        "id": "qMEO9uiKayHi",
        "outputId": "98aae247-0283-4c35-f0bf-637cf621b774"
      },
      "outputs": [
        {
          "ename": "",
          "evalue": "",
          "output_type": "error",
          "traceback": [
            "\u001b[1;31mNo se pudo iniciar el Kernel. \n",
            "\u001b[1;31mEl servidor de Jupyter se bloqueó. No se puede conectar. \n",
            "\u001b[1;31mCódigo de error de Jupyter: 1\n",
            "\u001b[1;31mTraceback (most recent call last):\n",
            "\u001b[1;31m  File \"/Library/Frameworks/Python.framework/Versions/2.7/lib/python2.7/runpy.py\", line 174, in _run_module_as_main\n",
            "\u001b[1;31m\n",
            "\u001b[1;31m    \"__main__\", fname, loader, pkg_name)\n",
            "\u001b[1;31m  File \"/Library/Frameworks/Python.framework/Versions/2.7/lib/python2.7/runpy.py\", line 72, in _run_code\n",
            "\u001b[1;31m    exec code in run_globals\n",
            "\u001b[1;31m  File \"/Users/dmeneses/Library/Python/2.7/lib/python/site-packages/jupyter.py\", line 10, in <module>\n",
            "\u001b[1;31m    run_module('jupyter_core')\n",
            "\u001b[1;31m  File \"/Library/Frameworks/Python.framework/Versions/2.7/lib/python2.7/runpy.py\", line 192, in run_module\n",
            "\u001b[1;31m    fname, loader, pkg_name)\n",
            "\u001b[1;31m  File \"/Library/Frameworks/Python.framework/Versions/2.7/lib/python2.7/runpy.py\", line 72, in _run_code\n",
            "\u001b[1;31m    exec code in run_globals\n",
            "\u001b[1;31m  File \"/Users/dmeneses/Library/Python/2.7/lib/python/site-packages/jupyter_core/__main__.py\", line 3, in <module>\n",
            "\u001b[1;31m    main()\n",
            "\u001b[1;31m  File \"/Users/dmeneses/Library/Python/2.7/lib/python/site-packages/jupyter_core/command.py\", line 247, in main\n",
            "\u001b[1;31m\n",
            "\u001b[1;31m    command = _jupyter_abspath(subcommand)\n",
            "\u001b[1;31m  File \"/Users/dmeneses/Library/Python/2.7/lib/python/site-packages/jupyter_core/command.py\", line 134, in _jupyter_abspath\n",
            "\u001b[1;31m    'Jupyter command `{}` not found.'.format(jupyter_subcommand)\n",
            "\u001b[1;31mException: Jupyter command `jupyter-notebook` not found. \n",
            "\u001b[1;31mVea el [registro] de Jupyter (command:jupyter.viewOutput) para obtener más detalles."
          ]
        }
      ],
      "source": [
        "ndf.loc[2:5 , favs]"
      ]
    },
    {
      "cell_type": "code",
      "execution_count": null,
      "metadata": {
        "colab": {
          "base_uri": "https://localhost:8080/",
          "height": 203
        },
        "id": "CyW66Ig0a6xx",
        "outputId": "b2c85bfc-2748-44bd-ace5-b95352012f01"
      },
      "outputs": [
        {
          "ename": "",
          "evalue": "",
          "output_type": "error",
          "traceback": [
            "\u001b[1;31mNo se pudo iniciar el Kernel. \n",
            "\u001b[1;31mEl servidor de Jupyter se bloqueó. No se puede conectar. \n",
            "\u001b[1;31mCódigo de error de Jupyter: 1\n",
            "\u001b[1;31mTraceback (most recent call last):\n",
            "\u001b[1;31m  File \"/Library/Frameworks/Python.framework/Versions/2.7/lib/python2.7/runpy.py\", line 174, in _run_module_as_main\n",
            "\u001b[1;31m\n",
            "\u001b[1;31m    \"__main__\", fname, loader, pkg_name)\n",
            "\u001b[1;31m  File \"/Library/Frameworks/Python.framework/Versions/2.7/lib/python2.7/runpy.py\", line 72, in _run_code\n",
            "\u001b[1;31m    exec code in run_globals\n",
            "\u001b[1;31m  File \"/Users/dmeneses/Library/Python/2.7/lib/python/site-packages/jupyter.py\", line 10, in <module>\n",
            "\u001b[1;31m    run_module('jupyter_core')\n",
            "\u001b[1;31m  File \"/Library/Frameworks/Python.framework/Versions/2.7/lib/python2.7/runpy.py\", line 192, in run_module\n",
            "\u001b[1;31m    fname, loader, pkg_name)\n",
            "\u001b[1;31m  File \"/Library/Frameworks/Python.framework/Versions/2.7/lib/python2.7/runpy.py\", line 72, in _run_code\n",
            "\u001b[1;31m    exec code in run_globals\n",
            "\u001b[1;31m  File \"/Users/dmeneses/Library/Python/2.7/lib/python/site-packages/jupyter_core/__main__.py\", line 3, in <module>\n",
            "\u001b[1;31m    main()\n",
            "\u001b[1;31m  File \"/Users/dmeneses/Library/Python/2.7/lib/python/site-packages/jupyter_core/command.py\", line 247, in main\n",
            "\u001b[1;31m\n",
            "\u001b[1;31m    command = _jupyter_abspath(subcommand)\n",
            "\u001b[1;31m  File \"/Users/dmeneses/Library/Python/2.7/lib/python/site-packages/jupyter_core/command.py\", line 134, in _jupyter_abspath\n",
            "\u001b[1;31m    'Jupyter command `{}` not found.'.format(jupyter_subcommand)\n",
            "\u001b[1;31mException: Jupyter command `jupyter-notebook` not found. \n",
            "\u001b[1;31mVea el [registro] de Jupyter (command:jupyter.viewOutput) para obtener más detalles."
          ]
        }
      ],
      "source": [
        "ndf.iloc[2:5, [1,2, 3]] # iloc  - so, indices"
      ]
    },
    {
      "cell_type": "code",
      "execution_count": null,
      "metadata": {
        "colab": {
          "base_uri": "https://localhost:8080/"
        },
        "id": "1SzWmEoFcM6t",
        "outputId": "d8e1b5b9-a179-4c4c-89d5-0fecf1afa0f2"
      },
      "outputs": [
        {
          "ename": "",
          "evalue": "",
          "output_type": "error",
          "traceback": [
            "\u001b[1;31mNo se pudo iniciar el Kernel. \n",
            "\u001b[1;31mEl servidor de Jupyter se bloqueó. No se puede conectar. \n",
            "\u001b[1;31mCódigo de error de Jupyter: 1\n",
            "\u001b[1;31mTraceback (most recent call last):\n",
            "\u001b[1;31m  File \"/Library/Frameworks/Python.framework/Versions/2.7/lib/python2.7/runpy.py\", line 174, in _run_module_as_main\n",
            "\u001b[1;31m\n",
            "\u001b[1;31m    \"__main__\", fname, loader, pkg_name)\n",
            "\u001b[1;31m  File \"/Library/Frameworks/Python.framework/Versions/2.7/lib/python2.7/runpy.py\", line 72, in _run_code\n",
            "\u001b[1;31m    exec code in run_globals\n",
            "\u001b[1;31m  File \"/Users/dmeneses/Library/Python/2.7/lib/python/site-packages/jupyter.py\", line 10, in <module>\n",
            "\u001b[1;31m    run_module('jupyter_core')\n",
            "\u001b[1;31m  File \"/Library/Frameworks/Python.framework/Versions/2.7/lib/python2.7/runpy.py\", line 192, in run_module\n",
            "\u001b[1;31m    fname, loader, pkg_name)\n",
            "\u001b[1;31m  File \"/Library/Frameworks/Python.framework/Versions/2.7/lib/python2.7/runpy.py\", line 72, in _run_code\n",
            "\u001b[1;31m    exec code in run_globals\n",
            "\u001b[1;31m  File \"/Users/dmeneses/Library/Python/2.7/lib/python/site-packages/jupyter_core/__main__.py\", line 3, in <module>\n",
            "\u001b[1;31m    main()\n",
            "\u001b[1;31m  File \"/Users/dmeneses/Library/Python/2.7/lib/python/site-packages/jupyter_core/command.py\", line 247, in main\n",
            "\u001b[1;31m\n",
            "\u001b[1;31m    command = _jupyter_abspath(subcommand)\n",
            "\u001b[1;31m  File \"/Users/dmeneses/Library/Python/2.7/lib/python/site-packages/jupyter_core/command.py\", line 134, in _jupyter_abspath\n",
            "\u001b[1;31m    'Jupyter command `{}` not found.'.format(jupyter_subcommand)\n",
            "\u001b[1;31mException: Jupyter command `jupyter-notebook` not found. \n",
            "\u001b[1;31mVea el [registro] de Jupyter (command:jupyter.viewOutput) para obtener más detalles."
          ]
        }
      ],
      "source": [
        "ndf.columns"
      ]
    },
    {
      "cell_type": "code",
      "execution_count": null,
      "metadata": {
        "colab": {
          "base_uri": "https://localhost:8080/"
        },
        "id": "oub49H-2cw6r",
        "outputId": "f02935c4-046e-4d6e-db2d-7340eb667982"
      },
      "outputs": [
        {
          "ename": "",
          "evalue": "",
          "output_type": "error",
          "traceback": [
            "\u001b[1;31mNo se pudo iniciar el Kernel. \n",
            "\u001b[1;31mEl servidor de Jupyter se bloqueó. No se puede conectar. \n",
            "\u001b[1;31mCódigo de error de Jupyter: 1\n",
            "\u001b[1;31mTraceback (most recent call last):\n",
            "\u001b[1;31m  File \"/Library/Frameworks/Python.framework/Versions/2.7/lib/python2.7/runpy.py\", line 174, in _run_module_as_main\n",
            "\u001b[1;31m\n",
            "\u001b[1;31m    \"__main__\", fname, loader, pkg_name)\n",
            "\u001b[1;31m  File \"/Library/Frameworks/Python.framework/Versions/2.7/lib/python2.7/runpy.py\", line 72, in _run_code\n",
            "\u001b[1;31m    exec code in run_globals\n",
            "\u001b[1;31m  File \"/Users/dmeneses/Library/Python/2.7/lib/python/site-packages/jupyter.py\", line 10, in <module>\n",
            "\u001b[1;31m    run_module('jupyter_core')\n",
            "\u001b[1;31m  File \"/Library/Frameworks/Python.framework/Versions/2.7/lib/python2.7/runpy.py\", line 192, in run_module\n",
            "\u001b[1;31m    fname, loader, pkg_name)\n",
            "\u001b[1;31m  File \"/Library/Frameworks/Python.framework/Versions/2.7/lib/python2.7/runpy.py\", line 72, in _run_code\n",
            "\u001b[1;31m    exec code in run_globals\n",
            "\u001b[1;31m  File \"/Users/dmeneses/Library/Python/2.7/lib/python/site-packages/jupyter_core/__main__.py\", line 3, in <module>\n",
            "\u001b[1;31m    main()\n",
            "\u001b[1;31m  File \"/Users/dmeneses/Library/Python/2.7/lib/python/site-packages/jupyter_core/command.py\", line 247, in main\n",
            "\u001b[1;31m\n",
            "\u001b[1;31m    command = _jupyter_abspath(subcommand)\n",
            "\u001b[1;31m  File \"/Users/dmeneses/Library/Python/2.7/lib/python/site-packages/jupyter_core/command.py\", line 134, in _jupyter_abspath\n",
            "\u001b[1;31m    'Jupyter command `{}` not found.'.format(jupyter_subcommand)\n",
            "\u001b[1;31mException: Jupyter command `jupyter-notebook` not found. \n",
            "\u001b[1;31mVea el [registro] de Jupyter (command:jupyter.viewOutput) para obtener más detalles."
          ]
        }
      ],
      "source": [
        "for i in ndf.columns:\n",
        "  print(i)"
      ]
    },
    {
      "cell_type": "code",
      "execution_count": null,
      "metadata": {
        "colab": {
          "base_uri": "https://localhost:8080/",
          "height": 234
        },
        "id": "u77v9QQBdU7c",
        "outputId": "24f26007-7b50-4c1c-9094-99bead28811e"
      },
      "outputs": [
        {
          "ename": "",
          "evalue": "",
          "output_type": "error",
          "traceback": [
            "\u001b[1;31mNo se pudo iniciar el Kernel. \n",
            "\u001b[1;31mEl servidor de Jupyter se bloqueó. No se puede conectar. \n",
            "\u001b[1;31mCódigo de error de Jupyter: 1\n",
            "\u001b[1;31mTraceback (most recent call last):\n",
            "\u001b[1;31m  File \"/Library/Frameworks/Python.framework/Versions/2.7/lib/python2.7/runpy.py\", line 174, in _run_module_as_main\n",
            "\u001b[1;31m\n",
            "\u001b[1;31m    \"__main__\", fname, loader, pkg_name)\n",
            "\u001b[1;31m  File \"/Library/Frameworks/Python.framework/Versions/2.7/lib/python2.7/runpy.py\", line 72, in _run_code\n",
            "\u001b[1;31m    exec code in run_globals\n",
            "\u001b[1;31m  File \"/Users/dmeneses/Library/Python/2.7/lib/python/site-packages/jupyter.py\", line 10, in <module>\n",
            "\u001b[1;31m    run_module('jupyter_core')\n",
            "\u001b[1;31m  File \"/Library/Frameworks/Python.framework/Versions/2.7/lib/python2.7/runpy.py\", line 192, in run_module\n",
            "\u001b[1;31m    fname, loader, pkg_name)\n",
            "\u001b[1;31m  File \"/Library/Frameworks/Python.framework/Versions/2.7/lib/python2.7/runpy.py\", line 72, in _run_code\n",
            "\u001b[1;31m    exec code in run_globals\n",
            "\u001b[1;31m  File \"/Users/dmeneses/Library/Python/2.7/lib/python/site-packages/jupyter_core/__main__.py\", line 3, in <module>\n",
            "\u001b[1;31m    main()\n",
            "\u001b[1;31m  File \"/Users/dmeneses/Library/Python/2.7/lib/python/site-packages/jupyter_core/command.py\", line 247, in main\n",
            "\u001b[1;31m\n",
            "\u001b[1;31m    command = _jupyter_abspath(subcommand)\n",
            "\u001b[1;31m  File \"/Users/dmeneses/Library/Python/2.7/lib/python/site-packages/jupyter_core/command.py\", line 134, in _jupyter_abspath\n",
            "\u001b[1;31m    'Jupyter command `{}` not found.'.format(jupyter_subcommand)\n",
            "\u001b[1;31mException: Jupyter command `jupyter-notebook` not found. \n",
            "\u001b[1;31mVea el [registro] de Jupyter (command:jupyter.viewOutput) para obtener más detalles."
          ]
        }
      ],
      "source": [
        "ndf.head(4)"
      ]
    },
    {
      "cell_type": "code",
      "execution_count": null,
      "metadata": {
        "colab": {
          "base_uri": "https://localhost:8080/"
        },
        "id": "K2lytCc9dhb6",
        "outputId": "b96aa3a5-e935-48c3-992c-0bade1c1ca03"
      },
      "outputs": [
        {
          "ename": "",
          "evalue": "",
          "output_type": "error",
          "traceback": [
            "\u001b[1;31mNo se pudo iniciar el Kernel. \n",
            "\u001b[1;31mEl servidor de Jupyter se bloqueó. No se puede conectar. \n",
            "\u001b[1;31mCódigo de error de Jupyter: 1\n",
            "\u001b[1;31mTraceback (most recent call last):\n",
            "\u001b[1;31m  File \"/Library/Frameworks/Python.framework/Versions/2.7/lib/python2.7/runpy.py\", line 174, in _run_module_as_main\n",
            "\u001b[1;31m\n",
            "\u001b[1;31m    \"__main__\", fname, loader, pkg_name)\n",
            "\u001b[1;31m  File \"/Library/Frameworks/Python.framework/Versions/2.7/lib/python2.7/runpy.py\", line 72, in _run_code\n",
            "\u001b[1;31m    exec code in run_globals\n",
            "\u001b[1;31m  File \"/Users/dmeneses/Library/Python/2.7/lib/python/site-packages/jupyter.py\", line 10, in <module>\n",
            "\u001b[1;31m    run_module('jupyter_core')\n",
            "\u001b[1;31m  File \"/Library/Frameworks/Python.framework/Versions/2.7/lib/python2.7/runpy.py\", line 192, in run_module\n",
            "\u001b[1;31m    fname, loader, pkg_name)\n",
            "\u001b[1;31m  File \"/Library/Frameworks/Python.framework/Versions/2.7/lib/python2.7/runpy.py\", line 72, in _run_code\n",
            "\u001b[1;31m    exec code in run_globals\n",
            "\u001b[1;31m  File \"/Users/dmeneses/Library/Python/2.7/lib/python/site-packages/jupyter_core/__main__.py\", line 3, in <module>\n",
            "\u001b[1;31m    main()\n",
            "\u001b[1;31m  File \"/Users/dmeneses/Library/Python/2.7/lib/python/site-packages/jupyter_core/command.py\", line 247, in main\n",
            "\u001b[1;31m\n",
            "\u001b[1;31m    command = _jupyter_abspath(subcommand)\n",
            "\u001b[1;31m  File \"/Users/dmeneses/Library/Python/2.7/lib/python/site-packages/jupyter_core/command.py\", line 134, in _jupyter_abspath\n",
            "\u001b[1;31m    'Jupyter command `{}` not found.'.format(jupyter_subcommand)\n",
            "\u001b[1;31mException: Jupyter command `jupyter-notebook` not found. \n",
            "\u001b[1;31mVea el [registro] de Jupyter (command:jupyter.viewOutput) para obtener más detalles."
          ]
        }
      ],
      "source": [
        "ndf.Company.unique()"
      ]
    },
    {
      "cell_type": "code",
      "execution_count": null,
      "metadata": {
        "colab": {
          "base_uri": "https://localhost:8080/"
        },
        "id": "K0e8CVMBeTnF",
        "outputId": "0af01ba9-8846-4efd-eb97-6127ab62c565"
      },
      "outputs": [
        {
          "ename": "",
          "evalue": "",
          "output_type": "error",
          "traceback": [
            "\u001b[1;31mNo se pudo iniciar el Kernel. \n",
            "\u001b[1;31mEl servidor de Jupyter se bloqueó. No se puede conectar. \n",
            "\u001b[1;31mCódigo de error de Jupyter: 1\n",
            "\u001b[1;31mTraceback (most recent call last):\n",
            "\u001b[1;31m  File \"/Library/Frameworks/Python.framework/Versions/2.7/lib/python2.7/runpy.py\", line 174, in _run_module_as_main\n",
            "\u001b[1;31m\n",
            "\u001b[1;31m    \"__main__\", fname, loader, pkg_name)\n",
            "\u001b[1;31m  File \"/Library/Frameworks/Python.framework/Versions/2.7/lib/python2.7/runpy.py\", line 72, in _run_code\n",
            "\u001b[1;31m    exec code in run_globals\n",
            "\u001b[1;31m  File \"/Users/dmeneses/Library/Python/2.7/lib/python/site-packages/jupyter.py\", line 10, in <module>\n",
            "\u001b[1;31m    run_module('jupyter_core')\n",
            "\u001b[1;31m  File \"/Library/Frameworks/Python.framework/Versions/2.7/lib/python2.7/runpy.py\", line 192, in run_module\n",
            "\u001b[1;31m    fname, loader, pkg_name)\n",
            "\u001b[1;31m  File \"/Library/Frameworks/Python.framework/Versions/2.7/lib/python2.7/runpy.py\", line 72, in _run_code\n",
            "\u001b[1;31m    exec code in run_globals\n",
            "\u001b[1;31m  File \"/Users/dmeneses/Library/Python/2.7/lib/python/site-packages/jupyter_core/__main__.py\", line 3, in <module>\n",
            "\u001b[1;31m    main()\n",
            "\u001b[1;31m  File \"/Users/dmeneses/Library/Python/2.7/lib/python/site-packages/jupyter_core/command.py\", line 247, in main\n",
            "\u001b[1;31m\n",
            "\u001b[1;31m    command = _jupyter_abspath(subcommand)\n",
            "\u001b[1;31m  File \"/Users/dmeneses/Library/Python/2.7/lib/python/site-packages/jupyter_core/command.py\", line 134, in _jupyter_abspath\n",
            "\u001b[1;31m    'Jupyter command `{}` not found.'.format(jupyter_subcommand)\n",
            "\u001b[1;31mException: Jupyter command `jupyter-notebook` not found. \n",
            "\u001b[1;31mVea el [registro] de Jupyter (command:jupyter.viewOutput) para obtener más detalles."
          ]
        }
      ],
      "source": [
        "df.groupby(['Company', 'Origin']).size()"
      ]
    },
    {
      "cell_type": "code",
      "execution_count": null,
      "metadata": {
        "colab": {
          "base_uri": "https://localhost:8080/"
        },
        "id": "5UFyQ-AVe9Hl",
        "outputId": "83cd0b65-15a5-4d0b-9d3b-a26fe1ee84eb"
      },
      "outputs": [
        {
          "ename": "",
          "evalue": "",
          "output_type": "error",
          "traceback": [
            "\u001b[1;31mNo se pudo iniciar el Kernel. \n",
            "\u001b[1;31mEl servidor de Jupyter se bloqueó. No se puede conectar. \n",
            "\u001b[1;31mCódigo de error de Jupyter: 1\n",
            "\u001b[1;31mTraceback (most recent call last):\n",
            "\u001b[1;31m  File \"/Library/Frameworks/Python.framework/Versions/2.7/lib/python2.7/runpy.py\", line 174, in _run_module_as_main\n",
            "\u001b[1;31m\n",
            "\u001b[1;31m    \"__main__\", fname, loader, pkg_name)\n",
            "\u001b[1;31m  File \"/Library/Frameworks/Python.framework/Versions/2.7/lib/python2.7/runpy.py\", line 72, in _run_code\n",
            "\u001b[1;31m    exec code in run_globals\n",
            "\u001b[1;31m  File \"/Users/dmeneses/Library/Python/2.7/lib/python/site-packages/jupyter.py\", line 10, in <module>\n",
            "\u001b[1;31m    run_module('jupyter_core')\n",
            "\u001b[1;31m  File \"/Library/Frameworks/Python.framework/Versions/2.7/lib/python2.7/runpy.py\", line 192, in run_module\n",
            "\u001b[1;31m    fname, loader, pkg_name)\n",
            "\u001b[1;31m  File \"/Library/Frameworks/Python.framework/Versions/2.7/lib/python2.7/runpy.py\", line 72, in _run_code\n",
            "\u001b[1;31m    exec code in run_globals\n",
            "\u001b[1;31m  File \"/Users/dmeneses/Library/Python/2.7/lib/python/site-packages/jupyter_core/__main__.py\", line 3, in <module>\n",
            "\u001b[1;31m    main()\n",
            "\u001b[1;31m  File \"/Users/dmeneses/Library/Python/2.7/lib/python/site-packages/jupyter_core/command.py\", line 247, in main\n",
            "\u001b[1;31m\n",
            "\u001b[1;31m    command = _jupyter_abspath(subcommand)\n",
            "\u001b[1;31m  File \"/Users/dmeneses/Library/Python/2.7/lib/python/site-packages/jupyter_core/command.py\", line 134, in _jupyter_abspath\n",
            "\u001b[1;31m    'Jupyter command `{}` not found.'.format(jupyter_subcommand)\n",
            "\u001b[1;31mException: Jupyter command `jupyter-notebook` not found. \n",
            "\u001b[1;31mVea el [registro] de Jupyter (command:jupyter.viewOutput) para obtener más detalles."
          ]
        }
      ],
      "source": [
        "df[['Company', 'Origin']].value_counts()"
      ]
    },
    {
      "cell_type": "markdown",
      "metadata": {
        "id": "8KAvVO6Edf7b"
      },
      "source": [
        "### Eliminar columns / Cambiar nombre de las columns"
      ]
    },
    {
      "cell_type": "code",
      "execution_count": null,
      "metadata": {
        "colab": {
          "base_uri": "https://localhost:8080/",
          "height": 295
        },
        "id": "4Nms3kwpdeYr",
        "outputId": "36c81a5f-b8a7-4097-b794-020cc0f3ca01"
      },
      "outputs": [
        {
          "ename": "",
          "evalue": "",
          "output_type": "error",
          "traceback": [
            "\u001b[1;31mNo se pudo iniciar el Kernel. \n",
            "\u001b[1;31mEl servidor de Jupyter se bloqueó. No se puede conectar. \n",
            "\u001b[1;31mCódigo de error de Jupyter: 1\n",
            "\u001b[1;31mTraceback (most recent call last):\n",
            "\u001b[1;31m  File \"/Library/Frameworks/Python.framework/Versions/2.7/lib/python2.7/runpy.py\", line 174, in _run_module_as_main\n",
            "\u001b[1;31m\n",
            "\u001b[1;31m    \"__main__\", fname, loader, pkg_name)\n",
            "\u001b[1;31m  File \"/Library/Frameworks/Python.framework/Versions/2.7/lib/python2.7/runpy.py\", line 72, in _run_code\n",
            "\u001b[1;31m    exec code in run_globals\n",
            "\u001b[1;31m  File \"/Users/dmeneses/Library/Python/2.7/lib/python/site-packages/jupyter.py\", line 10, in <module>\n",
            "\u001b[1;31m    run_module('jupyter_core')\n",
            "\u001b[1;31m  File \"/Library/Frameworks/Python.framework/Versions/2.7/lib/python2.7/runpy.py\", line 192, in run_module\n",
            "\u001b[1;31m    fname, loader, pkg_name)\n",
            "\u001b[1;31m  File \"/Library/Frameworks/Python.framework/Versions/2.7/lib/python2.7/runpy.py\", line 72, in _run_code\n",
            "\u001b[1;31m    exec code in run_globals\n",
            "\u001b[1;31m  File \"/Users/dmeneses/Library/Python/2.7/lib/python/site-packages/jupyter_core/__main__.py\", line 3, in <module>\n",
            "\u001b[1;31m    main()\n",
            "\u001b[1;31m  File \"/Users/dmeneses/Library/Python/2.7/lib/python/site-packages/jupyter_core/command.py\", line 247, in main\n",
            "\u001b[1;31m\n",
            "\u001b[1;31m    command = _jupyter_abspath(subcommand)\n",
            "\u001b[1;31m  File \"/Users/dmeneses/Library/Python/2.7/lib/python/site-packages/jupyter_core/command.py\", line 134, in _jupyter_abspath\n",
            "\u001b[1;31m    'Jupyter command `{}` not found.'.format(jupyter_subcommand)\n",
            "\u001b[1;31mException: Jupyter command `jupyter-notebook` not found. \n",
            "\u001b[1;31mVea el [registro] de Jupyter (command:jupyter.viewOutput) para obtener más detalles."
          ]
        }
      ],
      "source": [
        "ndf"
      ]
    },
    {
      "cell_type": "code",
      "execution_count": null,
      "metadata": {
        "colab": {
          "base_uri": "https://localhost:8080/",
          "height": 295
        },
        "id": "M4XTkEGodmUk",
        "outputId": "c08ee34a-8bf5-485f-9f96-f355008f066f"
      },
      "outputs": [
        {
          "ename": "",
          "evalue": "",
          "output_type": "error",
          "traceback": [
            "\u001b[1;31mNo se pudo iniciar el Kernel. \n",
            "\u001b[1;31mEl servidor de Jupyter se bloqueó. No se puede conectar. \n",
            "\u001b[1;31mCódigo de error de Jupyter: 1\n",
            "\u001b[1;31mTraceback (most recent call last):\n",
            "\u001b[1;31m  File \"/Library/Frameworks/Python.framework/Versions/2.7/lib/python2.7/runpy.py\", line 174, in _run_module_as_main\n",
            "\u001b[1;31m\n",
            "\u001b[1;31m    \"__main__\", fname, loader, pkg_name)\n",
            "\u001b[1;31m  File \"/Library/Frameworks/Python.framework/Versions/2.7/lib/python2.7/runpy.py\", line 72, in _run_code\n",
            "\u001b[1;31m    exec code in run_globals\n",
            "\u001b[1;31m  File \"/Users/dmeneses/Library/Python/2.7/lib/python/site-packages/jupyter.py\", line 10, in <module>\n",
            "\u001b[1;31m    run_module('jupyter_core')\n",
            "\u001b[1;31m  File \"/Library/Frameworks/Python.framework/Versions/2.7/lib/python2.7/runpy.py\", line 192, in run_module\n",
            "\u001b[1;31m    fname, loader, pkg_name)\n",
            "\u001b[1;31m  File \"/Library/Frameworks/Python.framework/Versions/2.7/lib/python2.7/runpy.py\", line 72, in _run_code\n",
            "\u001b[1;31m    exec code in run_globals\n",
            "\u001b[1;31m  File \"/Users/dmeneses/Library/Python/2.7/lib/python/site-packages/jupyter_core/__main__.py\", line 3, in <module>\n",
            "\u001b[1;31m    main()\n",
            "\u001b[1;31m  File \"/Users/dmeneses/Library/Python/2.7/lib/python/site-packages/jupyter_core/command.py\", line 247, in main\n",
            "\u001b[1;31m\n",
            "\u001b[1;31m    command = _jupyter_abspath(subcommand)\n",
            "\u001b[1;31m  File \"/Users/dmeneses/Library/Python/2.7/lib/python/site-packages/jupyter_core/command.py\", line 134, in _jupyter_abspath\n",
            "\u001b[1;31m    'Jupyter command `{}` not found.'.format(jupyter_subcommand)\n",
            "\u001b[1;31mException: Jupyter command `jupyter-notebook` not found. \n",
            "\u001b[1;31mVea el [registro] de Jupyter (command:jupyter.viewOutput) para obtener más detalles."
          ]
        }
      ],
      "source": [
        "ndf2 = ndf.drop(['Stars', 'Origin',], axis = 1)\n",
        "ndf2"
      ]
    },
    {
      "cell_type": "code",
      "execution_count": null,
      "metadata": {
        "colab": {
          "base_uri": "https://localhost:8080/",
          "height": 295
        },
        "id": "Y6z80VZidw13",
        "outputId": "83829dbe-7322-490b-bac4-c6f1e4c9fd6d"
      },
      "outputs": [
        {
          "ename": "",
          "evalue": "",
          "output_type": "error",
          "traceback": [
            "\u001b[1;31mNo se pudo iniciar el Kernel. \n",
            "\u001b[1;31mEl servidor de Jupyter se bloqueó. No se puede conectar. \n",
            "\u001b[1;31mCódigo de error de Jupyter: 1\n",
            "\u001b[1;31mTraceback (most recent call last):\n",
            "\u001b[1;31m  File \"/Library/Frameworks/Python.framework/Versions/2.7/lib/python2.7/runpy.py\", line 174, in _run_module_as_main\n",
            "\u001b[1;31m\n",
            "\u001b[1;31m    \"__main__\", fname, loader, pkg_name)\n",
            "\u001b[1;31m  File \"/Library/Frameworks/Python.framework/Versions/2.7/lib/python2.7/runpy.py\", line 72, in _run_code\n",
            "\u001b[1;31m    exec code in run_globals\n",
            "\u001b[1;31m  File \"/Users/dmeneses/Library/Python/2.7/lib/python/site-packages/jupyter.py\", line 10, in <module>\n",
            "\u001b[1;31m    run_module('jupyter_core')\n",
            "\u001b[1;31m  File \"/Library/Frameworks/Python.framework/Versions/2.7/lib/python2.7/runpy.py\", line 192, in run_module\n",
            "\u001b[1;31m    fname, loader, pkg_name)\n",
            "\u001b[1;31m  File \"/Library/Frameworks/Python.framework/Versions/2.7/lib/python2.7/runpy.py\", line 72, in _run_code\n",
            "\u001b[1;31m    exec code in run_globals\n",
            "\u001b[1;31m  File \"/Users/dmeneses/Library/Python/2.7/lib/python/site-packages/jupyter_core/__main__.py\", line 3, in <module>\n",
            "\u001b[1;31m    main()\n",
            "\u001b[1;31m  File \"/Users/dmeneses/Library/Python/2.7/lib/python/site-packages/jupyter_core/command.py\", line 247, in main\n",
            "\u001b[1;31m\n",
            "\u001b[1;31m    command = _jupyter_abspath(subcommand)\n",
            "\u001b[1;31m  File \"/Users/dmeneses/Library/Python/2.7/lib/python/site-packages/jupyter_core/command.py\", line 134, in _jupyter_abspath\n",
            "\u001b[1;31m    'Jupyter command `{}` not found.'.format(jupyter_subcommand)\n",
            "\u001b[1;31mException: Jupyter command `jupyter-notebook` not found. \n",
            "\u001b[1;31mVea el [registro] de Jupyter (command:jupyter.viewOutput) para obtener más detalles."
          ]
        }
      ],
      "source": [
        "ndf2.rename(columns = {'Company' : 'Empresa', 'Weight': 'Peso'}, inplace = True)\n",
        "ndf2"
      ]
    },
    {
      "cell_type": "markdown",
      "metadata": {
        "id": "r_KFTeDh5eHg"
      },
      "source": [
        "## Datos perdidos - Tener en cuenta"
      ]
    },
    {
      "cell_type": "markdown",
      "metadata": {
        "id": "_8cWsu5Q5xbX"
      },
      "source": [
        "* Excluya las filas o características. \n",
        "* Cumpliméntelas con un valor estimado."
      ]
    },
    {
      "cell_type": "markdown",
      "metadata": {
        "id": "ph2iFrhW5VRh"
      },
      "source": [
        "Errores de datos\tUtilice recursos lógicos para descubrir errores manuales y corríjalos. O, excluya las características.\n"
      ]
    },
    {
      "cell_type": "markdown",
      "metadata": {
        "id": "25z2JgNF5Wx6"
      },
      "source": [
        "Incoherencias de codificación\tDecida un esquema de codificación simple y convierta y sustituya los valores.\n"
      ]
    },
    {
      "cell_type": "markdown",
      "metadata": {
        "id": "qvHNH_E25Yf1"
      },
      "source": [
        "Metadatos perdidos o erróneos\tExamine manualmente los campos sospechosos y compruebe el significado correcto."
      ]
    },
    {
      "cell_type": "markdown",
      "metadata": {
        "id": "Pz0nRTw62Y-B"
      },
      "source": [
        "# Crear un informe de limpieza de datos\n",
        "\n",
        "\n",
        "Registrar sus actividades de limpieza de datos es esencial para registrar las modificaciones de los datos. \n",
        "\n",
        "Los futuros proyectos de minería de datos se beneficiarán de los detalles del trabajo disponible.\n",
        "\n",
        "\n",
        "Es una excelente idea considerar las siguientes cuestiones cuando genere el informe:\n",
        "\n",
        "\n",
        "* ¿Qué tipos de ruido se han producido en los datos?\n",
        "* ¿Qué métodos utiliza para eliminar el ruido? \n",
        "    \n",
        "    > ¿Qué técnicas han demostrado ser eficaces?\n",
        "\n",
        "* ¿Existen casos o atributos que no se pueden recuperar? \n",
        "> Asegúrese de registrar los datos que se han excluido por causas del ruido."
      ]
    },
    {
      "cell_type": "code",
      "execution_count": null,
      "metadata": {
        "id": "kGd2pbKI2XMK"
      },
      "outputs": [
        {
          "ename": "",
          "evalue": "",
          "output_type": "error",
          "traceback": [
            "\u001b[1;31mNo se pudo iniciar el Kernel. \n",
            "\u001b[1;31mEl servidor de Jupyter se bloqueó. No se puede conectar. \n",
            "\u001b[1;31mCódigo de error de Jupyter: 1\n",
            "\u001b[1;31mTraceback (most recent call last):\n",
            "\u001b[1;31m  File \"/Library/Frameworks/Python.framework/Versions/2.7/lib/python2.7/runpy.py\", line 174, in _run_module_as_main\n",
            "\u001b[1;31m\n",
            "\u001b[1;31m    \"__main__\", fname, loader, pkg_name)\n",
            "\u001b[1;31m  File \"/Library/Frameworks/Python.framework/Versions/2.7/lib/python2.7/runpy.py\", line 72, in _run_code\n",
            "\u001b[1;31m    exec code in run_globals\n",
            "\u001b[1;31m  File \"/Users/dmeneses/Library/Python/2.7/lib/python/site-packages/jupyter.py\", line 10, in <module>\n",
            "\u001b[1;31m    run_module('jupyter_core')\n",
            "\u001b[1;31m  File \"/Library/Frameworks/Python.framework/Versions/2.7/lib/python2.7/runpy.py\", line 192, in run_module\n",
            "\u001b[1;31m    fname, loader, pkg_name)\n",
            "\u001b[1;31m  File \"/Library/Frameworks/Python.framework/Versions/2.7/lib/python2.7/runpy.py\", line 72, in _run_code\n",
            "\u001b[1;31m    exec code in run_globals\n",
            "\u001b[1;31m  File \"/Users/dmeneses/Library/Python/2.7/lib/python/site-packages/jupyter_core/__main__.py\", line 3, in <module>\n",
            "\u001b[1;31m    main()\n",
            "\u001b[1;31m  File \"/Users/dmeneses/Library/Python/2.7/lib/python/site-packages/jupyter_core/command.py\", line 247, in main\n",
            "\u001b[1;31m\n",
            "\u001b[1;31m    command = _jupyter_abspath(subcommand)\n",
            "\u001b[1;31m  File \"/Users/dmeneses/Library/Python/2.7/lib/python/site-packages/jupyter_core/command.py\", line 134, in _jupyter_abspath\n",
            "\u001b[1;31m    'Jupyter command `{}` not found.'.format(jupyter_subcommand)\n",
            "\u001b[1;31mException: Jupyter command `jupyter-notebook` not found. \n",
            "\u001b[1;31mVea el [registro] de Jupyter (command:jupyter.viewOutput) para obtener más detalles."
          ]
        }
      ],
      "source": []
    }
  ],
  "metadata": {
    "colab": {
      "provenance": []
    },
    "kernelspec": {
      "display_name": "Python 2.7.18 64-bit",
      "language": "python",
      "name": "python3"
    },
    "language_info": {
      "name": "python",
      "version": "2.7.18"
    },
    "vscode": {
      "interpreter": {
        "hash": "0ef3be7f0c0b8459529ee79533840b5b73ae5f82458da6e33134bc1d9f61d8b6"
      }
    }
  },
  "nbformat": 4,
  "nbformat_minor": 0
}
