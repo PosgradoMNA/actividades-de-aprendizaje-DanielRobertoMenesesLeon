{
  "cells": [
    {
      "cell_type": "markdown",
      "metadata": {
        "id": "fOOlgJNH2cpv"
      },
      "source": [
        "# Actividad 1- Semana3\n",
        "## Limpieza de datos"
      ]
    },
    {
      "cell_type": "markdown",
      "metadata": {
        "id": "7N8p5jpd5Inf"
      },
      "source": [
        "La limpieza de datos implica observar más de cerca los problemas en los datos que ha seleccionado incluir en el análisis.\n",
        "\n",
        "### Problema de datos "
      ]
    },
    {
      "cell_type": "markdown",
      "source": [
        "Primero cargamos la base de datos a trabajar usando Pandas"
      ],
      "metadata": {
        "id": "ckvpg3OaLPis"
      }
    },
    {
      "cell_type": "code",
      "execution_count": 2,
      "metadata": {
        "id": "TovbM7qJXFGF",
        "outputId": "70c6cc9f-7945-4b10-869f-6d18dc3d0f19",
        "colab": {
          "base_uri": "https://localhost:8080/",
          "height": 424
        }
      },
      "outputs": [
        {
          "output_type": "execute_result",
          "data": {
            "text/plain": [
              "          ID      X1   X2   X3   X4    X5   X6   X7   X8   X9  ...      X15  \\\n",
              "0          1   20000  2.0  2.0  1.0  24.0  2.0  2.0 -1.0 -1.0  ...      0.0   \n",
              "1          2  120000  2.0  2.0  2.0  26.0 -1.0  2.0  0.0  0.0  ...   3272.0   \n",
              "2          3   90000  2.0  2.0  2.0  34.0  0.0  0.0  0.0  0.0  ...  14331.0   \n",
              "3          4   50000  2.0  2.0  1.0  37.0  0.0  0.0  0.0  0.0  ...  28314.0   \n",
              "4          5   50000  1.0  2.0  1.0  57.0 -1.0  0.0 -1.0  0.0  ...  20940.0   \n",
              "...      ...     ...  ...  ...  ...   ...  ...  ...  ...  ...  ...      ...   \n",
              "29995  29996  220000  1.0  3.0  1.0  39.0  0.0  0.0  0.0  0.0  ...  88004.0   \n",
              "29996  29997  150000  1.0  3.0  2.0  43.0 -1.0 -1.0 -1.0 -1.0  ...   8979.0   \n",
              "29997  29998   30000  1.0  2.0  2.0  37.0  4.0  3.0  2.0 -1.0  ...  20878.0   \n",
              "29998  29999   80000  1.0  3.0  1.0  41.0  1.0 -1.0  0.0  0.0  ...  52774.0   \n",
              "29999  30000   50000  1.0  2.0  1.0  46.0  0.0  0.0  0.0  0.0  ...  36535.0   \n",
              "\n",
              "           X16      X17      X18      X19      X20     X21      X22     X23  \\\n",
              "0          0.0      0.0      0.0    689.0      0.0     0.0      0.0     0.0   \n",
              "1       3455.0   3261.0      0.0   1000.0   1000.0  1000.0      0.0  2000.0   \n",
              "2      14948.0  15549.0   1518.0   1500.0   1000.0  1000.0   1000.0  5000.0   \n",
              "3      28959.0  29547.0   2000.0   2019.0   1200.0  1100.0   1069.0  1000.0   \n",
              "4      19146.0  19131.0   2000.0  36681.0  10000.0  9000.0    689.0   679.0   \n",
              "...        ...      ...      ...      ...      ...     ...      ...     ...   \n",
              "29995  31237.0  15980.0   8500.0  20000.0   5003.0  3047.0   5000.0  1000.0   \n",
              "29996   5190.0      0.0   1837.0   3526.0   8998.0   129.0      0.0     0.0   \n",
              "29997  20582.0  19357.0      0.0      0.0  22000.0  4200.0   2000.0  3100.0   \n",
              "29998  11855.0  48944.0  85900.0   3409.0   1178.0  1926.0  52964.0  1804.0   \n",
              "29999  32428.0  15313.0   2078.0   1800.0   1430.0  1000.0   1000.0  1000.0   \n",
              "\n",
              "         Y  \n",
              "0      1.0  \n",
              "1      1.0  \n",
              "2      0.0  \n",
              "3      0.0  \n",
              "4      0.0  \n",
              "...    ...  \n",
              "29995  0.0  \n",
              "29996  0.0  \n",
              "29997  1.0  \n",
              "29998  1.0  \n",
              "29999  1.0  \n",
              "\n",
              "[30000 rows x 25 columns]"
            ],
            "text/html": [
              "\n",
              "  <div id=\"df-f254ab59-06a4-4929-b351-8cb313f71a7d\">\n",
              "    <div class=\"colab-df-container\">\n",
              "      <div>\n",
              "<style scoped>\n",
              "    .dataframe tbody tr th:only-of-type {\n",
              "        vertical-align: middle;\n",
              "    }\n",
              "\n",
              "    .dataframe tbody tr th {\n",
              "        vertical-align: top;\n",
              "    }\n",
              "\n",
              "    .dataframe thead th {\n",
              "        text-align: right;\n",
              "    }\n",
              "</style>\n",
              "<table border=\"1\" class=\"dataframe\">\n",
              "  <thead>\n",
              "    <tr style=\"text-align: right;\">\n",
              "      <th></th>\n",
              "      <th>ID</th>\n",
              "      <th>X1</th>\n",
              "      <th>X2</th>\n",
              "      <th>X3</th>\n",
              "      <th>X4</th>\n",
              "      <th>X5</th>\n",
              "      <th>X6</th>\n",
              "      <th>X7</th>\n",
              "      <th>X8</th>\n",
              "      <th>X9</th>\n",
              "      <th>...</th>\n",
              "      <th>X15</th>\n",
              "      <th>X16</th>\n",
              "      <th>X17</th>\n",
              "      <th>X18</th>\n",
              "      <th>X19</th>\n",
              "      <th>X20</th>\n",
              "      <th>X21</th>\n",
              "      <th>X22</th>\n",
              "      <th>X23</th>\n",
              "      <th>Y</th>\n",
              "    </tr>\n",
              "  </thead>\n",
              "  <tbody>\n",
              "    <tr>\n",
              "      <th>0</th>\n",
              "      <td>1</td>\n",
              "      <td>20000</td>\n",
              "      <td>2.0</td>\n",
              "      <td>2.0</td>\n",
              "      <td>1.0</td>\n",
              "      <td>24.0</td>\n",
              "      <td>2.0</td>\n",
              "      <td>2.0</td>\n",
              "      <td>-1.0</td>\n",
              "      <td>-1.0</td>\n",
              "      <td>...</td>\n",
              "      <td>0.0</td>\n",
              "      <td>0.0</td>\n",
              "      <td>0.0</td>\n",
              "      <td>0.0</td>\n",
              "      <td>689.0</td>\n",
              "      <td>0.0</td>\n",
              "      <td>0.0</td>\n",
              "      <td>0.0</td>\n",
              "      <td>0.0</td>\n",
              "      <td>1.0</td>\n",
              "    </tr>\n",
              "    <tr>\n",
              "      <th>1</th>\n",
              "      <td>2</td>\n",
              "      <td>120000</td>\n",
              "      <td>2.0</td>\n",
              "      <td>2.0</td>\n",
              "      <td>2.0</td>\n",
              "      <td>26.0</td>\n",
              "      <td>-1.0</td>\n",
              "      <td>2.0</td>\n",
              "      <td>0.0</td>\n",
              "      <td>0.0</td>\n",
              "      <td>...</td>\n",
              "      <td>3272.0</td>\n",
              "      <td>3455.0</td>\n",
              "      <td>3261.0</td>\n",
              "      <td>0.0</td>\n",
              "      <td>1000.0</td>\n",
              "      <td>1000.0</td>\n",
              "      <td>1000.0</td>\n",
              "      <td>0.0</td>\n",
              "      <td>2000.0</td>\n",
              "      <td>1.0</td>\n",
              "    </tr>\n",
              "    <tr>\n",
              "      <th>2</th>\n",
              "      <td>3</td>\n",
              "      <td>90000</td>\n",
              "      <td>2.0</td>\n",
              "      <td>2.0</td>\n",
              "      <td>2.0</td>\n",
              "      <td>34.0</td>\n",
              "      <td>0.0</td>\n",
              "      <td>0.0</td>\n",
              "      <td>0.0</td>\n",
              "      <td>0.0</td>\n",
              "      <td>...</td>\n",
              "      <td>14331.0</td>\n",
              "      <td>14948.0</td>\n",
              "      <td>15549.0</td>\n",
              "      <td>1518.0</td>\n",
              "      <td>1500.0</td>\n",
              "      <td>1000.0</td>\n",
              "      <td>1000.0</td>\n",
              "      <td>1000.0</td>\n",
              "      <td>5000.0</td>\n",
              "      <td>0.0</td>\n",
              "    </tr>\n",
              "    <tr>\n",
              "      <th>3</th>\n",
              "      <td>4</td>\n",
              "      <td>50000</td>\n",
              "      <td>2.0</td>\n",
              "      <td>2.0</td>\n",
              "      <td>1.0</td>\n",
              "      <td>37.0</td>\n",
              "      <td>0.0</td>\n",
              "      <td>0.0</td>\n",
              "      <td>0.0</td>\n",
              "      <td>0.0</td>\n",
              "      <td>...</td>\n",
              "      <td>28314.0</td>\n",
              "      <td>28959.0</td>\n",
              "      <td>29547.0</td>\n",
              "      <td>2000.0</td>\n",
              "      <td>2019.0</td>\n",
              "      <td>1200.0</td>\n",
              "      <td>1100.0</td>\n",
              "      <td>1069.0</td>\n",
              "      <td>1000.0</td>\n",
              "      <td>0.0</td>\n",
              "    </tr>\n",
              "    <tr>\n",
              "      <th>4</th>\n",
              "      <td>5</td>\n",
              "      <td>50000</td>\n",
              "      <td>1.0</td>\n",
              "      <td>2.0</td>\n",
              "      <td>1.0</td>\n",
              "      <td>57.0</td>\n",
              "      <td>-1.0</td>\n",
              "      <td>0.0</td>\n",
              "      <td>-1.0</td>\n",
              "      <td>0.0</td>\n",
              "      <td>...</td>\n",
              "      <td>20940.0</td>\n",
              "      <td>19146.0</td>\n",
              "      <td>19131.0</td>\n",
              "      <td>2000.0</td>\n",
              "      <td>36681.0</td>\n",
              "      <td>10000.0</td>\n",
              "      <td>9000.0</td>\n",
              "      <td>689.0</td>\n",
              "      <td>679.0</td>\n",
              "      <td>0.0</td>\n",
              "    </tr>\n",
              "    <tr>\n",
              "      <th>...</th>\n",
              "      <td>...</td>\n",
              "      <td>...</td>\n",
              "      <td>...</td>\n",
              "      <td>...</td>\n",
              "      <td>...</td>\n",
              "      <td>...</td>\n",
              "      <td>...</td>\n",
              "      <td>...</td>\n",
              "      <td>...</td>\n",
              "      <td>...</td>\n",
              "      <td>...</td>\n",
              "      <td>...</td>\n",
              "      <td>...</td>\n",
              "      <td>...</td>\n",
              "      <td>...</td>\n",
              "      <td>...</td>\n",
              "      <td>...</td>\n",
              "      <td>...</td>\n",
              "      <td>...</td>\n",
              "      <td>...</td>\n",
              "      <td>...</td>\n",
              "    </tr>\n",
              "    <tr>\n",
              "      <th>29995</th>\n",
              "      <td>29996</td>\n",
              "      <td>220000</td>\n",
              "      <td>1.0</td>\n",
              "      <td>3.0</td>\n",
              "      <td>1.0</td>\n",
              "      <td>39.0</td>\n",
              "      <td>0.0</td>\n",
              "      <td>0.0</td>\n",
              "      <td>0.0</td>\n",
              "      <td>0.0</td>\n",
              "      <td>...</td>\n",
              "      <td>88004.0</td>\n",
              "      <td>31237.0</td>\n",
              "      <td>15980.0</td>\n",
              "      <td>8500.0</td>\n",
              "      <td>20000.0</td>\n",
              "      <td>5003.0</td>\n",
              "      <td>3047.0</td>\n",
              "      <td>5000.0</td>\n",
              "      <td>1000.0</td>\n",
              "      <td>0.0</td>\n",
              "    </tr>\n",
              "    <tr>\n",
              "      <th>29996</th>\n",
              "      <td>29997</td>\n",
              "      <td>150000</td>\n",
              "      <td>1.0</td>\n",
              "      <td>3.0</td>\n",
              "      <td>2.0</td>\n",
              "      <td>43.0</td>\n",
              "      <td>-1.0</td>\n",
              "      <td>-1.0</td>\n",
              "      <td>-1.0</td>\n",
              "      <td>-1.0</td>\n",
              "      <td>...</td>\n",
              "      <td>8979.0</td>\n",
              "      <td>5190.0</td>\n",
              "      <td>0.0</td>\n",
              "      <td>1837.0</td>\n",
              "      <td>3526.0</td>\n",
              "      <td>8998.0</td>\n",
              "      <td>129.0</td>\n",
              "      <td>0.0</td>\n",
              "      <td>0.0</td>\n",
              "      <td>0.0</td>\n",
              "    </tr>\n",
              "    <tr>\n",
              "      <th>29997</th>\n",
              "      <td>29998</td>\n",
              "      <td>30000</td>\n",
              "      <td>1.0</td>\n",
              "      <td>2.0</td>\n",
              "      <td>2.0</td>\n",
              "      <td>37.0</td>\n",
              "      <td>4.0</td>\n",
              "      <td>3.0</td>\n",
              "      <td>2.0</td>\n",
              "      <td>-1.0</td>\n",
              "      <td>...</td>\n",
              "      <td>20878.0</td>\n",
              "      <td>20582.0</td>\n",
              "      <td>19357.0</td>\n",
              "      <td>0.0</td>\n",
              "      <td>0.0</td>\n",
              "      <td>22000.0</td>\n",
              "      <td>4200.0</td>\n",
              "      <td>2000.0</td>\n",
              "      <td>3100.0</td>\n",
              "      <td>1.0</td>\n",
              "    </tr>\n",
              "    <tr>\n",
              "      <th>29998</th>\n",
              "      <td>29999</td>\n",
              "      <td>80000</td>\n",
              "      <td>1.0</td>\n",
              "      <td>3.0</td>\n",
              "      <td>1.0</td>\n",
              "      <td>41.0</td>\n",
              "      <td>1.0</td>\n",
              "      <td>-1.0</td>\n",
              "      <td>0.0</td>\n",
              "      <td>0.0</td>\n",
              "      <td>...</td>\n",
              "      <td>52774.0</td>\n",
              "      <td>11855.0</td>\n",
              "      <td>48944.0</td>\n",
              "      <td>85900.0</td>\n",
              "      <td>3409.0</td>\n",
              "      <td>1178.0</td>\n",
              "      <td>1926.0</td>\n",
              "      <td>52964.0</td>\n",
              "      <td>1804.0</td>\n",
              "      <td>1.0</td>\n",
              "    </tr>\n",
              "    <tr>\n",
              "      <th>29999</th>\n",
              "      <td>30000</td>\n",
              "      <td>50000</td>\n",
              "      <td>1.0</td>\n",
              "      <td>2.0</td>\n",
              "      <td>1.0</td>\n",
              "      <td>46.0</td>\n",
              "      <td>0.0</td>\n",
              "      <td>0.0</td>\n",
              "      <td>0.0</td>\n",
              "      <td>0.0</td>\n",
              "      <td>...</td>\n",
              "      <td>36535.0</td>\n",
              "      <td>32428.0</td>\n",
              "      <td>15313.0</td>\n",
              "      <td>2078.0</td>\n",
              "      <td>1800.0</td>\n",
              "      <td>1430.0</td>\n",
              "      <td>1000.0</td>\n",
              "      <td>1000.0</td>\n",
              "      <td>1000.0</td>\n",
              "      <td>1.0</td>\n",
              "    </tr>\n",
              "  </tbody>\n",
              "</table>\n",
              "<p>30000 rows × 25 columns</p>\n",
              "</div>\n",
              "      <button class=\"colab-df-convert\" onclick=\"convertToInteractive('df-f254ab59-06a4-4929-b351-8cb313f71a7d')\"\n",
              "              title=\"Convert this dataframe to an interactive table.\"\n",
              "              style=\"display:none;\">\n",
              "        \n",
              "  <svg xmlns=\"http://www.w3.org/2000/svg\" height=\"24px\"viewBox=\"0 0 24 24\"\n",
              "       width=\"24px\">\n",
              "    <path d=\"M0 0h24v24H0V0z\" fill=\"none\"/>\n",
              "    <path d=\"M18.56 5.44l.94 2.06.94-2.06 2.06-.94-2.06-.94-.94-2.06-.94 2.06-2.06.94zm-11 1L8.5 8.5l.94-2.06 2.06-.94-2.06-.94L8.5 2.5l-.94 2.06-2.06.94zm10 10l.94 2.06.94-2.06 2.06-.94-2.06-.94-.94-2.06-.94 2.06-2.06.94z\"/><path d=\"M17.41 7.96l-1.37-1.37c-.4-.4-.92-.59-1.43-.59-.52 0-1.04.2-1.43.59L10.3 9.45l-7.72 7.72c-.78.78-.78 2.05 0 2.83L4 21.41c.39.39.9.59 1.41.59.51 0 1.02-.2 1.41-.59l7.78-7.78 2.81-2.81c.8-.78.8-2.07 0-2.86zM5.41 20L4 18.59l7.72-7.72 1.47 1.35L5.41 20z\"/>\n",
              "  </svg>\n",
              "      </button>\n",
              "      \n",
              "  <style>\n",
              "    .colab-df-container {\n",
              "      display:flex;\n",
              "      flex-wrap:wrap;\n",
              "      gap: 12px;\n",
              "    }\n",
              "\n",
              "    .colab-df-convert {\n",
              "      background-color: #E8F0FE;\n",
              "      border: none;\n",
              "      border-radius: 50%;\n",
              "      cursor: pointer;\n",
              "      display: none;\n",
              "      fill: #1967D2;\n",
              "      height: 32px;\n",
              "      padding: 0 0 0 0;\n",
              "      width: 32px;\n",
              "    }\n",
              "\n",
              "    .colab-df-convert:hover {\n",
              "      background-color: #E2EBFA;\n",
              "      box-shadow: 0px 1px 2px rgba(60, 64, 67, 0.3), 0px 1px 3px 1px rgba(60, 64, 67, 0.15);\n",
              "      fill: #174EA6;\n",
              "    }\n",
              "\n",
              "    [theme=dark] .colab-df-convert {\n",
              "      background-color: #3B4455;\n",
              "      fill: #D2E3FC;\n",
              "    }\n",
              "\n",
              "    [theme=dark] .colab-df-convert:hover {\n",
              "      background-color: #434B5C;\n",
              "      box-shadow: 0px 1px 3px 1px rgba(0, 0, 0, 0.15);\n",
              "      filter: drop-shadow(0px 1px 2px rgba(0, 0, 0, 0.3));\n",
              "      fill: #FFFFFF;\n",
              "    }\n",
              "  </style>\n",
              "\n",
              "      <script>\n",
              "        const buttonEl =\n",
              "          document.querySelector('#df-f254ab59-06a4-4929-b351-8cb313f71a7d button.colab-df-convert');\n",
              "        buttonEl.style.display =\n",
              "          google.colab.kernel.accessAllowed ? 'block' : 'none';\n",
              "\n",
              "        async function convertToInteractive(key) {\n",
              "          const element = document.querySelector('#df-f254ab59-06a4-4929-b351-8cb313f71a7d');\n",
              "          const dataTable =\n",
              "            await google.colab.kernel.invokeFunction('convertToInteractive',\n",
              "                                                     [key], {});\n",
              "          if (!dataTable) return;\n",
              "\n",
              "          const docLinkHtml = 'Like what you see? Visit the ' +\n",
              "            '<a target=\"_blank\" href=https://colab.research.google.com/notebooks/data_table.ipynb>data table notebook</a>'\n",
              "            + ' to learn more about interactive tables.';\n",
              "          element.innerHTML = '';\n",
              "          dataTable['output_type'] = 'display_data';\n",
              "          await google.colab.output.renderOutput(dataTable, element);\n",
              "          const docLink = document.createElement('div');\n",
              "          docLink.innerHTML = docLinkHtml;\n",
              "          element.appendChild(docLink);\n",
              "        }\n",
              "      </script>\n",
              "    </div>\n",
              "  </div>\n",
              "  "
            ]
          },
          "metadata": {},
          "execution_count": 2
        }
      ],
      "source": [
        "input = \"https://raw.githubusercontent.com/PosgradoMNA/Actividades_Aprendizaje-/main/default%20of%20credit%20card%20clients.csv\"\n",
        "import pandas as pd\n",
        "import numpy as np\n",
        "df = pd.read_csv(input)\n",
        "df"
      ]
    },
    {
      "cell_type": "markdown",
      "metadata": {
        "id": "sBPpvD3A-kY8"
      },
      "source": [
        "Podemos crear un base de datos (DataFrame):"
      ]
    },
    {
      "cell_type": "markdown",
      "metadata": {
        "id": "e9cdTkWX-xj5"
      },
      "source": [
        "Guardamos en un archivo CSV (coma separated value)"
      ]
    },
    {
      "cell_type": "code",
      "execution_count": 6,
      "metadata": {
        "id": "HznSD5BI-vcN",
        "outputId": "1317d4ee-69db-42b6-db85-8976df3403ff",
        "colab": {
          "base_uri": "https://localhost:8080/",
          "height": 424
        }
      },
      "outputs": [
        {
          "output_type": "execute_result",
          "data": {
            "text/plain": [
              "          ID      X1   X2   X3   X4    X5   X6   X7   X8   X9  ...      X15  \\\n",
              "0          1   20000  2.0  2.0  1.0  24.0  2.0  2.0 -1.0 -1.0  ...      0.0   \n",
              "1          2  120000  2.0  2.0  2.0  26.0 -1.0  2.0  0.0  0.0  ...   3272.0   \n",
              "2          3   90000  2.0  2.0  2.0  34.0  0.0  0.0  0.0  0.0  ...  14331.0   \n",
              "3          4   50000  2.0  2.0  1.0  37.0  0.0  0.0  0.0  0.0  ...  28314.0   \n",
              "4          5   50000  1.0  2.0  1.0  57.0 -1.0  0.0 -1.0  0.0  ...  20940.0   \n",
              "...      ...     ...  ...  ...  ...   ...  ...  ...  ...  ...  ...      ...   \n",
              "29995  29996  220000  1.0  3.0  1.0  39.0  0.0  0.0  0.0  0.0  ...  88004.0   \n",
              "29996  29997  150000  1.0  3.0  2.0  43.0 -1.0 -1.0 -1.0 -1.0  ...   8979.0   \n",
              "29997  29998   30000  1.0  2.0  2.0  37.0  4.0  3.0  2.0 -1.0  ...  20878.0   \n",
              "29998  29999   80000  1.0  3.0  1.0  41.0  1.0 -1.0  0.0  0.0  ...  52774.0   \n",
              "29999  30000   50000  1.0  2.0  1.0  46.0  0.0  0.0  0.0  0.0  ...  36535.0   \n",
              "\n",
              "           X16      X17      X18      X19      X20     X21      X22     X23  \\\n",
              "0          0.0      0.0      0.0    689.0      0.0     0.0      0.0     0.0   \n",
              "1       3455.0   3261.0      0.0   1000.0   1000.0  1000.0      0.0  2000.0   \n",
              "2      14948.0  15549.0   1518.0   1500.0   1000.0  1000.0   1000.0  5000.0   \n",
              "3      28959.0  29547.0   2000.0   2019.0   1200.0  1100.0   1069.0  1000.0   \n",
              "4      19146.0  19131.0   2000.0  36681.0  10000.0  9000.0    689.0   679.0   \n",
              "...        ...      ...      ...      ...      ...     ...      ...     ...   \n",
              "29995  31237.0  15980.0   8500.0  20000.0   5003.0  3047.0   5000.0  1000.0   \n",
              "29996   5190.0      0.0   1837.0   3526.0   8998.0   129.0      0.0     0.0   \n",
              "29997  20582.0  19357.0      0.0      0.0  22000.0  4200.0   2000.0  3100.0   \n",
              "29998  11855.0  48944.0  85900.0   3409.0   1178.0  1926.0  52964.0  1804.0   \n",
              "29999  32428.0  15313.0   2078.0   1800.0   1430.0  1000.0   1000.0  1000.0   \n",
              "\n",
              "         Y  \n",
              "0      1.0  \n",
              "1      1.0  \n",
              "2      0.0  \n",
              "3      0.0  \n",
              "4      0.0  \n",
              "...    ...  \n",
              "29995  0.0  \n",
              "29996  0.0  \n",
              "29997  1.0  \n",
              "29998  1.0  \n",
              "29999  1.0  \n",
              "\n",
              "[30000 rows x 25 columns]"
            ],
            "text/html": [
              "\n",
              "  <div id=\"df-50c16461-ceb6-48cc-9ec8-193ed9b8c80b\">\n",
              "    <div class=\"colab-df-container\">\n",
              "      <div>\n",
              "<style scoped>\n",
              "    .dataframe tbody tr th:only-of-type {\n",
              "        vertical-align: middle;\n",
              "    }\n",
              "\n",
              "    .dataframe tbody tr th {\n",
              "        vertical-align: top;\n",
              "    }\n",
              "\n",
              "    .dataframe thead th {\n",
              "        text-align: right;\n",
              "    }\n",
              "</style>\n",
              "<table border=\"1\" class=\"dataframe\">\n",
              "  <thead>\n",
              "    <tr style=\"text-align: right;\">\n",
              "      <th></th>\n",
              "      <th>ID</th>\n",
              "      <th>X1</th>\n",
              "      <th>X2</th>\n",
              "      <th>X3</th>\n",
              "      <th>X4</th>\n",
              "      <th>X5</th>\n",
              "      <th>X6</th>\n",
              "      <th>X7</th>\n",
              "      <th>X8</th>\n",
              "      <th>X9</th>\n",
              "      <th>...</th>\n",
              "      <th>X15</th>\n",
              "      <th>X16</th>\n",
              "      <th>X17</th>\n",
              "      <th>X18</th>\n",
              "      <th>X19</th>\n",
              "      <th>X20</th>\n",
              "      <th>X21</th>\n",
              "      <th>X22</th>\n",
              "      <th>X23</th>\n",
              "      <th>Y</th>\n",
              "    </tr>\n",
              "  </thead>\n",
              "  <tbody>\n",
              "    <tr>\n",
              "      <th>0</th>\n",
              "      <td>1</td>\n",
              "      <td>20000</td>\n",
              "      <td>2.0</td>\n",
              "      <td>2.0</td>\n",
              "      <td>1.0</td>\n",
              "      <td>24.0</td>\n",
              "      <td>2.0</td>\n",
              "      <td>2.0</td>\n",
              "      <td>-1.0</td>\n",
              "      <td>-1.0</td>\n",
              "      <td>...</td>\n",
              "      <td>0.0</td>\n",
              "      <td>0.0</td>\n",
              "      <td>0.0</td>\n",
              "      <td>0.0</td>\n",
              "      <td>689.0</td>\n",
              "      <td>0.0</td>\n",
              "      <td>0.0</td>\n",
              "      <td>0.0</td>\n",
              "      <td>0.0</td>\n",
              "      <td>1.0</td>\n",
              "    </tr>\n",
              "    <tr>\n",
              "      <th>1</th>\n",
              "      <td>2</td>\n",
              "      <td>120000</td>\n",
              "      <td>2.0</td>\n",
              "      <td>2.0</td>\n",
              "      <td>2.0</td>\n",
              "      <td>26.0</td>\n",
              "      <td>-1.0</td>\n",
              "      <td>2.0</td>\n",
              "      <td>0.0</td>\n",
              "      <td>0.0</td>\n",
              "      <td>...</td>\n",
              "      <td>3272.0</td>\n",
              "      <td>3455.0</td>\n",
              "      <td>3261.0</td>\n",
              "      <td>0.0</td>\n",
              "      <td>1000.0</td>\n",
              "      <td>1000.0</td>\n",
              "      <td>1000.0</td>\n",
              "      <td>0.0</td>\n",
              "      <td>2000.0</td>\n",
              "      <td>1.0</td>\n",
              "    </tr>\n",
              "    <tr>\n",
              "      <th>2</th>\n",
              "      <td>3</td>\n",
              "      <td>90000</td>\n",
              "      <td>2.0</td>\n",
              "      <td>2.0</td>\n",
              "      <td>2.0</td>\n",
              "      <td>34.0</td>\n",
              "      <td>0.0</td>\n",
              "      <td>0.0</td>\n",
              "      <td>0.0</td>\n",
              "      <td>0.0</td>\n",
              "      <td>...</td>\n",
              "      <td>14331.0</td>\n",
              "      <td>14948.0</td>\n",
              "      <td>15549.0</td>\n",
              "      <td>1518.0</td>\n",
              "      <td>1500.0</td>\n",
              "      <td>1000.0</td>\n",
              "      <td>1000.0</td>\n",
              "      <td>1000.0</td>\n",
              "      <td>5000.0</td>\n",
              "      <td>0.0</td>\n",
              "    </tr>\n",
              "    <tr>\n",
              "      <th>3</th>\n",
              "      <td>4</td>\n",
              "      <td>50000</td>\n",
              "      <td>2.0</td>\n",
              "      <td>2.0</td>\n",
              "      <td>1.0</td>\n",
              "      <td>37.0</td>\n",
              "      <td>0.0</td>\n",
              "      <td>0.0</td>\n",
              "      <td>0.0</td>\n",
              "      <td>0.0</td>\n",
              "      <td>...</td>\n",
              "      <td>28314.0</td>\n",
              "      <td>28959.0</td>\n",
              "      <td>29547.0</td>\n",
              "      <td>2000.0</td>\n",
              "      <td>2019.0</td>\n",
              "      <td>1200.0</td>\n",
              "      <td>1100.0</td>\n",
              "      <td>1069.0</td>\n",
              "      <td>1000.0</td>\n",
              "      <td>0.0</td>\n",
              "    </tr>\n",
              "    <tr>\n",
              "      <th>4</th>\n",
              "      <td>5</td>\n",
              "      <td>50000</td>\n",
              "      <td>1.0</td>\n",
              "      <td>2.0</td>\n",
              "      <td>1.0</td>\n",
              "      <td>57.0</td>\n",
              "      <td>-1.0</td>\n",
              "      <td>0.0</td>\n",
              "      <td>-1.0</td>\n",
              "      <td>0.0</td>\n",
              "      <td>...</td>\n",
              "      <td>20940.0</td>\n",
              "      <td>19146.0</td>\n",
              "      <td>19131.0</td>\n",
              "      <td>2000.0</td>\n",
              "      <td>36681.0</td>\n",
              "      <td>10000.0</td>\n",
              "      <td>9000.0</td>\n",
              "      <td>689.0</td>\n",
              "      <td>679.0</td>\n",
              "      <td>0.0</td>\n",
              "    </tr>\n",
              "    <tr>\n",
              "      <th>...</th>\n",
              "      <td>...</td>\n",
              "      <td>...</td>\n",
              "      <td>...</td>\n",
              "      <td>...</td>\n",
              "      <td>...</td>\n",
              "      <td>...</td>\n",
              "      <td>...</td>\n",
              "      <td>...</td>\n",
              "      <td>...</td>\n",
              "      <td>...</td>\n",
              "      <td>...</td>\n",
              "      <td>...</td>\n",
              "      <td>...</td>\n",
              "      <td>...</td>\n",
              "      <td>...</td>\n",
              "      <td>...</td>\n",
              "      <td>...</td>\n",
              "      <td>...</td>\n",
              "      <td>...</td>\n",
              "      <td>...</td>\n",
              "      <td>...</td>\n",
              "    </tr>\n",
              "    <tr>\n",
              "      <th>29995</th>\n",
              "      <td>29996</td>\n",
              "      <td>220000</td>\n",
              "      <td>1.0</td>\n",
              "      <td>3.0</td>\n",
              "      <td>1.0</td>\n",
              "      <td>39.0</td>\n",
              "      <td>0.0</td>\n",
              "      <td>0.0</td>\n",
              "      <td>0.0</td>\n",
              "      <td>0.0</td>\n",
              "      <td>...</td>\n",
              "      <td>88004.0</td>\n",
              "      <td>31237.0</td>\n",
              "      <td>15980.0</td>\n",
              "      <td>8500.0</td>\n",
              "      <td>20000.0</td>\n",
              "      <td>5003.0</td>\n",
              "      <td>3047.0</td>\n",
              "      <td>5000.0</td>\n",
              "      <td>1000.0</td>\n",
              "      <td>0.0</td>\n",
              "    </tr>\n",
              "    <tr>\n",
              "      <th>29996</th>\n",
              "      <td>29997</td>\n",
              "      <td>150000</td>\n",
              "      <td>1.0</td>\n",
              "      <td>3.0</td>\n",
              "      <td>2.0</td>\n",
              "      <td>43.0</td>\n",
              "      <td>-1.0</td>\n",
              "      <td>-1.0</td>\n",
              "      <td>-1.0</td>\n",
              "      <td>-1.0</td>\n",
              "      <td>...</td>\n",
              "      <td>8979.0</td>\n",
              "      <td>5190.0</td>\n",
              "      <td>0.0</td>\n",
              "      <td>1837.0</td>\n",
              "      <td>3526.0</td>\n",
              "      <td>8998.0</td>\n",
              "      <td>129.0</td>\n",
              "      <td>0.0</td>\n",
              "      <td>0.0</td>\n",
              "      <td>0.0</td>\n",
              "    </tr>\n",
              "    <tr>\n",
              "      <th>29997</th>\n",
              "      <td>29998</td>\n",
              "      <td>30000</td>\n",
              "      <td>1.0</td>\n",
              "      <td>2.0</td>\n",
              "      <td>2.0</td>\n",
              "      <td>37.0</td>\n",
              "      <td>4.0</td>\n",
              "      <td>3.0</td>\n",
              "      <td>2.0</td>\n",
              "      <td>-1.0</td>\n",
              "      <td>...</td>\n",
              "      <td>20878.0</td>\n",
              "      <td>20582.0</td>\n",
              "      <td>19357.0</td>\n",
              "      <td>0.0</td>\n",
              "      <td>0.0</td>\n",
              "      <td>22000.0</td>\n",
              "      <td>4200.0</td>\n",
              "      <td>2000.0</td>\n",
              "      <td>3100.0</td>\n",
              "      <td>1.0</td>\n",
              "    </tr>\n",
              "    <tr>\n",
              "      <th>29998</th>\n",
              "      <td>29999</td>\n",
              "      <td>80000</td>\n",
              "      <td>1.0</td>\n",
              "      <td>3.0</td>\n",
              "      <td>1.0</td>\n",
              "      <td>41.0</td>\n",
              "      <td>1.0</td>\n",
              "      <td>-1.0</td>\n",
              "      <td>0.0</td>\n",
              "      <td>0.0</td>\n",
              "      <td>...</td>\n",
              "      <td>52774.0</td>\n",
              "      <td>11855.0</td>\n",
              "      <td>48944.0</td>\n",
              "      <td>85900.0</td>\n",
              "      <td>3409.0</td>\n",
              "      <td>1178.0</td>\n",
              "      <td>1926.0</td>\n",
              "      <td>52964.0</td>\n",
              "      <td>1804.0</td>\n",
              "      <td>1.0</td>\n",
              "    </tr>\n",
              "    <tr>\n",
              "      <th>29999</th>\n",
              "      <td>30000</td>\n",
              "      <td>50000</td>\n",
              "      <td>1.0</td>\n",
              "      <td>2.0</td>\n",
              "      <td>1.0</td>\n",
              "      <td>46.0</td>\n",
              "      <td>0.0</td>\n",
              "      <td>0.0</td>\n",
              "      <td>0.0</td>\n",
              "      <td>0.0</td>\n",
              "      <td>...</td>\n",
              "      <td>36535.0</td>\n",
              "      <td>32428.0</td>\n",
              "      <td>15313.0</td>\n",
              "      <td>2078.0</td>\n",
              "      <td>1800.0</td>\n",
              "      <td>1430.0</td>\n",
              "      <td>1000.0</td>\n",
              "      <td>1000.0</td>\n",
              "      <td>1000.0</td>\n",
              "      <td>1.0</td>\n",
              "    </tr>\n",
              "  </tbody>\n",
              "</table>\n",
              "<p>30000 rows × 25 columns</p>\n",
              "</div>\n",
              "      <button class=\"colab-df-convert\" onclick=\"convertToInteractive('df-50c16461-ceb6-48cc-9ec8-193ed9b8c80b')\"\n",
              "              title=\"Convert this dataframe to an interactive table.\"\n",
              "              style=\"display:none;\">\n",
              "        \n",
              "  <svg xmlns=\"http://www.w3.org/2000/svg\" height=\"24px\"viewBox=\"0 0 24 24\"\n",
              "       width=\"24px\">\n",
              "    <path d=\"M0 0h24v24H0V0z\" fill=\"none\"/>\n",
              "    <path d=\"M18.56 5.44l.94 2.06.94-2.06 2.06-.94-2.06-.94-.94-2.06-.94 2.06-2.06.94zm-11 1L8.5 8.5l.94-2.06 2.06-.94-2.06-.94L8.5 2.5l-.94 2.06-2.06.94zm10 10l.94 2.06.94-2.06 2.06-.94-2.06-.94-.94-2.06-.94 2.06-2.06.94z\"/><path d=\"M17.41 7.96l-1.37-1.37c-.4-.4-.92-.59-1.43-.59-.52 0-1.04.2-1.43.59L10.3 9.45l-7.72 7.72c-.78.78-.78 2.05 0 2.83L4 21.41c.39.39.9.59 1.41.59.51 0 1.02-.2 1.41-.59l7.78-7.78 2.81-2.81c.8-.78.8-2.07 0-2.86zM5.41 20L4 18.59l7.72-7.72 1.47 1.35L5.41 20z\"/>\n",
              "  </svg>\n",
              "      </button>\n",
              "      \n",
              "  <style>\n",
              "    .colab-df-container {\n",
              "      display:flex;\n",
              "      flex-wrap:wrap;\n",
              "      gap: 12px;\n",
              "    }\n",
              "\n",
              "    .colab-df-convert {\n",
              "      background-color: #E8F0FE;\n",
              "      border: none;\n",
              "      border-radius: 50%;\n",
              "      cursor: pointer;\n",
              "      display: none;\n",
              "      fill: #1967D2;\n",
              "      height: 32px;\n",
              "      padding: 0 0 0 0;\n",
              "      width: 32px;\n",
              "    }\n",
              "\n",
              "    .colab-df-convert:hover {\n",
              "      background-color: #E2EBFA;\n",
              "      box-shadow: 0px 1px 2px rgba(60, 64, 67, 0.3), 0px 1px 3px 1px rgba(60, 64, 67, 0.15);\n",
              "      fill: #174EA6;\n",
              "    }\n",
              "\n",
              "    [theme=dark] .colab-df-convert {\n",
              "      background-color: #3B4455;\n",
              "      fill: #D2E3FC;\n",
              "    }\n",
              "\n",
              "    [theme=dark] .colab-df-convert:hover {\n",
              "      background-color: #434B5C;\n",
              "      box-shadow: 0px 1px 3px 1px rgba(0, 0, 0, 0.15);\n",
              "      filter: drop-shadow(0px 1px 2px rgba(0, 0, 0, 0.3));\n",
              "      fill: #FFFFFF;\n",
              "    }\n",
              "  </style>\n",
              "\n",
              "      <script>\n",
              "        const buttonEl =\n",
              "          document.querySelector('#df-50c16461-ceb6-48cc-9ec8-193ed9b8c80b button.colab-df-convert');\n",
              "        buttonEl.style.display =\n",
              "          google.colab.kernel.accessAllowed ? 'block' : 'none';\n",
              "\n",
              "        async function convertToInteractive(key) {\n",
              "          const element = document.querySelector('#df-50c16461-ceb6-48cc-9ec8-193ed9b8c80b');\n",
              "          const dataTable =\n",
              "            await google.colab.kernel.invokeFunction('convertToInteractive',\n",
              "                                                     [key], {});\n",
              "          if (!dataTable) return;\n",
              "\n",
              "          const docLinkHtml = 'Like what you see? Visit the ' +\n",
              "            '<a target=\"_blank\" href=https://colab.research.google.com/notebooks/data_table.ipynb>data table notebook</a>'\n",
              "            + ' to learn more about interactive tables.';\n",
              "          element.innerHTML = '';\n",
              "          dataTable['output_type'] = 'display_data';\n",
              "          await google.colab.output.renderOutput(dataTable, element);\n",
              "          const docLink = document.createElement('div');\n",
              "          docLink.innerHTML = docLinkHtml;\n",
              "          element.appendChild(docLink);\n",
              "        }\n",
              "      </script>\n",
              "    </div>\n",
              "  </div>\n",
              "  "
            ]
          },
          "metadata": {},
          "execution_count": 6
        }
      ],
      "source": [
        "#df.DataFrame(data=x)\n",
        "df.isnull().values.any()\n",
        "df"
      ]
    },
    {
      "cell_type": "markdown",
      "metadata": {
        "id": "ZKh13NpO-564"
      },
      "source": [
        "Alternativamente, podemos leer un conjunto de datos ya disponible:"
      ]
    },
    {
      "cell_type": "code",
      "execution_count": null,
      "metadata": {
        "colab": {
          "base_uri": "https://localhost:8080/",
          "height": 231
        },
        "id": "77HABkN9-BHz",
        "outputId": "41743253-6aa5-4ac9-8557-f50971e4810f"
      },
      "outputs": [
        {
          "ename": "",
          "evalue": "",
          "output_type": "error",
          "traceback": [
            "\u001b[1;31mNo se pudo iniciar el Kernel. \n",
            "\u001b[1;31mEl servidor de Jupyter se bloqueó. No se puede conectar. \n",
            "\u001b[1;31mCódigo de error de Jupyter: 1\n",
            "\u001b[1;31mTraceback (most recent call last):\n",
            "\u001b[1;31m  File \"/Library/Frameworks/Python.framework/Versions/2.7/lib/python2.7/runpy.py\", line 174, in _run_module_as_main\n",
            "\u001b[1;31m\n",
            "\u001b[1;31m    \"__main__\", fname, loader, pkg_name)\n",
            "\u001b[1;31m  File \"/Library/Frameworks/Python.framework/Versions/2.7/lib/python2.7/runpy.py\", line 72, in _run_code\n",
            "\u001b[1;31m    exec code in run_globals\n",
            "\u001b[1;31m  File \"/Users/dmeneses/Library/Python/2.7/lib/python/site-packages/jupyter.py\", line 10, in <module>\n",
            "\u001b[1;31m    run_module('jupyter_core')\n",
            "\u001b[1;31m  File \"/Library/Frameworks/Python.framework/Versions/2.7/lib/python2.7/runpy.py\", line 192, in run_module\n",
            "\u001b[1;31m    fname, loader, pkg_name)\n",
            "\u001b[1;31m  File \"/Library/Frameworks/Python.framework/Versions/2.7/lib/python2.7/runpy.py\", line 72, in _run_code\n",
            "\u001b[1;31m    exec code in run_globals\n",
            "\u001b[1;31m  File \"/Users/dmeneses/Library/Python/2.7/lib/python/site-packages/jupyter_core/__main__.py\", line 3, in <module>\n",
            "\u001b[1;31m    main()\n",
            "\u001b[1;31m  File \"/Users/dmeneses/Library/Python/2.7/lib/python/site-packages/jupyter_core/command.py\", line 247, in main\n",
            "\u001b[1;31m\n",
            "\u001b[1;31m    command = _jupyter_abspath(subcommand)\n",
            "\u001b[1;31m  File \"/Users/dmeneses/Library/Python/2.7/lib/python/site-packages/jupyter_core/command.py\", line 134, in _jupyter_abspath\n",
            "\u001b[1;31m    'Jupyter command `{}` not found.'.format(jupyter_subcommand)\n",
            "\u001b[1;31mException: Jupyter command `jupyter-notebook` not found. \n",
            "\u001b[1;31mVea el [registro] de Jupyter (command:jupyter.viewOutput) para obtener más detalles."
          ]
        }
      ],
      "source": [
        "df = pd.read_csv('/content/data.csv', index_col=0)\n",
        "df"
      ]
    },
    {
      "cell_type": "markdown",
      "metadata": {
        "id": "dKpA0GXt_OBn"
      },
      "source": [
        "Para verificar, ¿falta algún dato?:"
      ]
    },
    {
      "cell_type": "code",
      "execution_count": null,
      "metadata": {
        "colab": {
          "base_uri": "https://localhost:8080/"
        },
        "id": "A0GdxAaDXUmu",
        "outputId": "55c3d399-e0af-42e0-960f-6dd2b711b2b0"
      },
      "outputs": [
        {
          "ename": "",
          "evalue": "",
          "output_type": "error",
          "traceback": [
            "\u001b[1;31mNo se pudo iniciar el Kernel. \n",
            "\u001b[1;31mEl servidor de Jupyter se bloqueó. No se puede conectar. \n",
            "\u001b[1;31mCódigo de error de Jupyter: 1\n",
            "\u001b[1;31mTraceback (most recent call last):\n",
            "\u001b[1;31m  File \"/Library/Frameworks/Python.framework/Versions/2.7/lib/python2.7/runpy.py\", line 174, in _run_module_as_main\n",
            "\u001b[1;31m\n",
            "\u001b[1;31m    \"__main__\", fname, loader, pkg_name)\n",
            "\u001b[1;31m  File \"/Library/Frameworks/Python.framework/Versions/2.7/lib/python2.7/runpy.py\", line 72, in _run_code\n",
            "\u001b[1;31m    exec code in run_globals\n",
            "\u001b[1;31m  File \"/Users/dmeneses/Library/Python/2.7/lib/python/site-packages/jupyter.py\", line 10, in <module>\n",
            "\u001b[1;31m    run_module('jupyter_core')\n",
            "\u001b[1;31m  File \"/Library/Frameworks/Python.framework/Versions/2.7/lib/python2.7/runpy.py\", line 192, in run_module\n",
            "\u001b[1;31m    fname, loader, pkg_name)\n",
            "\u001b[1;31m  File \"/Library/Frameworks/Python.framework/Versions/2.7/lib/python2.7/runpy.py\", line 72, in _run_code\n",
            "\u001b[1;31m    exec code in run_globals\n",
            "\u001b[1;31m  File \"/Users/dmeneses/Library/Python/2.7/lib/python/site-packages/jupyter_core/__main__.py\", line 3, in <module>\n",
            "\u001b[1;31m    main()\n",
            "\u001b[1;31m  File \"/Users/dmeneses/Library/Python/2.7/lib/python/site-packages/jupyter_core/command.py\", line 247, in main\n",
            "\u001b[1;31m\n",
            "\u001b[1;31m    command = _jupyter_abspath(subcommand)\n",
            "\u001b[1;31m  File \"/Users/dmeneses/Library/Python/2.7/lib/python/site-packages/jupyter_core/command.py\", line 134, in _jupyter_abspath\n",
            "\u001b[1;31m    'Jupyter command `{}` not found.'.format(jupyter_subcommand)\n",
            "\u001b[1;31mException: Jupyter command `jupyter-notebook` not found. \n",
            "\u001b[1;31mVea el [registro] de Jupyter (command:jupyter.viewOutput) para obtener más detalles."
          ]
        }
      ],
      "source": [
        "df.isnull().values.any()"
      ]
    },
    {
      "cell_type": "code",
      "execution_count": null,
      "metadata": {
        "colab": {
          "base_uri": "https://localhost:8080/"
        },
        "id": "h7AZVyHraY6N",
        "outputId": "31e10cba-3f98-458c-c9ad-675527191388"
      },
      "outputs": [
        {
          "ename": "",
          "evalue": "",
          "output_type": "error",
          "traceback": [
            "\u001b[1;31mNo se pudo iniciar el Kernel. \n",
            "\u001b[1;31mEl servidor de Jupyter se bloqueó. No se puede conectar. \n",
            "\u001b[1;31mCódigo de error de Jupyter: 1\n",
            "\u001b[1;31mTraceback (most recent call last):\n",
            "\u001b[1;31m  File \"/Library/Frameworks/Python.framework/Versions/2.7/lib/python2.7/runpy.py\", line 174, in _run_module_as_main\n",
            "\u001b[1;31m\n",
            "\u001b[1;31m    \"__main__\", fname, loader, pkg_name)\n",
            "\u001b[1;31m  File \"/Library/Frameworks/Python.framework/Versions/2.7/lib/python2.7/runpy.py\", line 72, in _run_code\n",
            "\u001b[1;31m    exec code in run_globals\n",
            "\u001b[1;31m  File \"/Users/dmeneses/Library/Python/2.7/lib/python/site-packages/jupyter.py\", line 10, in <module>\n",
            "\u001b[1;31m    run_module('jupyter_core')\n",
            "\u001b[1;31m  File \"/Library/Frameworks/Python.framework/Versions/2.7/lib/python2.7/runpy.py\", line 192, in run_module\n",
            "\u001b[1;31m    fname, loader, pkg_name)\n",
            "\u001b[1;31m  File \"/Library/Frameworks/Python.framework/Versions/2.7/lib/python2.7/runpy.py\", line 72, in _run_code\n",
            "\u001b[1;31m    exec code in run_globals\n",
            "\u001b[1;31m  File \"/Users/dmeneses/Library/Python/2.7/lib/python/site-packages/jupyter_core/__main__.py\", line 3, in <module>\n",
            "\u001b[1;31m    main()\n",
            "\u001b[1;31m  File \"/Users/dmeneses/Library/Python/2.7/lib/python/site-packages/jupyter_core/command.py\", line 247, in main\n",
            "\u001b[1;31m\n",
            "\u001b[1;31m    command = _jupyter_abspath(subcommand)\n",
            "\u001b[1;31m  File \"/Users/dmeneses/Library/Python/2.7/lib/python/site-packages/jupyter_core/command.py\", line 134, in _jupyter_abspath\n",
            "\u001b[1;31m    'Jupyter command `{}` not found.'.format(jupyter_subcommand)\n",
            "\u001b[1;31mException: Jupyter command `jupyter-notebook` not found. \n",
            "\u001b[1;31mVea el [registro] de Jupyter (command:jupyter.viewOutput) para obtener más detalles."
          ]
        }
      ],
      "source": [
        "df.isnull().any()"
      ]
    },
    {
      "cell_type": "markdown",
      "metadata": {
        "id": "NNGpDgWP_QPj"
      },
      "source": [
        "alternativamente:"
      ]
    },
    {
      "cell_type": "code",
      "execution_count": null,
      "metadata": {
        "colab": {
          "base_uri": "https://localhost:8080/"
        },
        "id": "Rhws9Sa-ajZB",
        "outputId": "b63a47ca-2829-488e-c393-4796404f88ce"
      },
      "outputs": [
        {
          "ename": "",
          "evalue": "",
          "output_type": "error",
          "traceback": [
            "\u001b[1;31mNo se pudo iniciar el Kernel. \n",
            "\u001b[1;31mEl servidor de Jupyter se bloqueó. No se puede conectar. \n",
            "\u001b[1;31mCódigo de error de Jupyter: 1\n",
            "\u001b[1;31mTraceback (most recent call last):\n",
            "\u001b[1;31m  File \"/Library/Frameworks/Python.framework/Versions/2.7/lib/python2.7/runpy.py\", line 174, in _run_module_as_main\n",
            "\u001b[1;31m\n",
            "\u001b[1;31m    \"__main__\", fname, loader, pkg_name)\n",
            "\u001b[1;31m  File \"/Library/Frameworks/Python.framework/Versions/2.7/lib/python2.7/runpy.py\", line 72, in _run_code\n",
            "\u001b[1;31m    exec code in run_globals\n",
            "\u001b[1;31m  File \"/Users/dmeneses/Library/Python/2.7/lib/python/site-packages/jupyter.py\", line 10, in <module>\n",
            "\u001b[1;31m    run_module('jupyter_core')\n",
            "\u001b[1;31m  File \"/Library/Frameworks/Python.framework/Versions/2.7/lib/python2.7/runpy.py\", line 192, in run_module\n",
            "\u001b[1;31m    fname, loader, pkg_name)\n",
            "\u001b[1;31m  File \"/Library/Frameworks/Python.framework/Versions/2.7/lib/python2.7/runpy.py\", line 72, in _run_code\n",
            "\u001b[1;31m    exec code in run_globals\n",
            "\u001b[1;31m  File \"/Users/dmeneses/Library/Python/2.7/lib/python/site-packages/jupyter_core/__main__.py\", line 3, in <module>\n",
            "\u001b[1;31m    main()\n",
            "\u001b[1;31m  File \"/Users/dmeneses/Library/Python/2.7/lib/python/site-packages/jupyter_core/command.py\", line 247, in main\n",
            "\u001b[1;31m\n",
            "\u001b[1;31m    command = _jupyter_abspath(subcommand)\n",
            "\u001b[1;31m  File \"/Users/dmeneses/Library/Python/2.7/lib/python/site-packages/jupyter_core/command.py\", line 134, in _jupyter_abspath\n",
            "\u001b[1;31m    'Jupyter command `{}` not found.'.format(jupyter_subcommand)\n",
            "\u001b[1;31mException: Jupyter command `jupyter-notebook` not found. \n",
            "\u001b[1;31mVea el [registro] de Jupyter (command:jupyter.viewOutput) para obtener más detalles."
          ]
        }
      ],
      "source": [
        "df.isna().values.any()"
      ]
    },
    {
      "cell_type": "code",
      "execution_count": null,
      "metadata": {
        "colab": {
          "base_uri": "https://localhost:8080/"
        },
        "id": "qAQve11na8aR",
        "outputId": "3399670f-32cd-44db-e5b2-baf7fb75bf2a"
      },
      "outputs": [
        {
          "ename": "",
          "evalue": "",
          "output_type": "error",
          "traceback": [
            "\u001b[1;31mNo se pudo iniciar el Kernel. \n",
            "\u001b[1;31mEl servidor de Jupyter se bloqueó. No se puede conectar. \n",
            "\u001b[1;31mCódigo de error de Jupyter: 1\n",
            "\u001b[1;31mTraceback (most recent call last):\n",
            "\u001b[1;31m  File \"/Library/Frameworks/Python.framework/Versions/2.7/lib/python2.7/runpy.py\", line 174, in _run_module_as_main\n",
            "\u001b[1;31m\n",
            "\u001b[1;31m    \"__main__\", fname, loader, pkg_name)\n",
            "\u001b[1;31m  File \"/Library/Frameworks/Python.framework/Versions/2.7/lib/python2.7/runpy.py\", line 72, in _run_code\n",
            "\u001b[1;31m    exec code in run_globals\n",
            "\u001b[1;31m  File \"/Users/dmeneses/Library/Python/2.7/lib/python/site-packages/jupyter.py\", line 10, in <module>\n",
            "\u001b[1;31m    run_module('jupyter_core')\n",
            "\u001b[1;31m  File \"/Library/Frameworks/Python.framework/Versions/2.7/lib/python2.7/runpy.py\", line 192, in run_module\n",
            "\u001b[1;31m    fname, loader, pkg_name)\n",
            "\u001b[1;31m  File \"/Library/Frameworks/Python.framework/Versions/2.7/lib/python2.7/runpy.py\", line 72, in _run_code\n",
            "\u001b[1;31m    exec code in run_globals\n",
            "\u001b[1;31m  File \"/Users/dmeneses/Library/Python/2.7/lib/python/site-packages/jupyter_core/__main__.py\", line 3, in <module>\n",
            "\u001b[1;31m    main()\n",
            "\u001b[1;31m  File \"/Users/dmeneses/Library/Python/2.7/lib/python/site-packages/jupyter_core/command.py\", line 247, in main\n",
            "\u001b[1;31m\n",
            "\u001b[1;31m    command = _jupyter_abspath(subcommand)\n",
            "\u001b[1;31m  File \"/Users/dmeneses/Library/Python/2.7/lib/python/site-packages/jupyter_core/command.py\", line 134, in _jupyter_abspath\n",
            "\u001b[1;31m    'Jupyter command `{}` not found.'.format(jupyter_subcommand)\n",
            "\u001b[1;31mException: Jupyter command `jupyter-notebook` not found. \n",
            "\u001b[1;31mVea el [registro] de Jupyter (command:jupyter.viewOutput) para obtener más detalles."
          ]
        }
      ],
      "source": [
        "df.isna().any()"
      ]
    },
    {
      "cell_type": "code",
      "execution_count": null,
      "metadata": {
        "colab": {
          "base_uri": "https://localhost:8080/",
          "height": 231
        },
        "id": "Fw_kn2tsbD-5",
        "outputId": "5b66934f-7d9a-45f1-8234-c065f9f57e51"
      },
      "outputs": [
        {
          "ename": "",
          "evalue": "",
          "output_type": "error",
          "traceback": [
            "\u001b[1;31mNo se pudo iniciar el Kernel. \n",
            "\u001b[1;31mEl servidor de Jupyter se bloqueó. No se puede conectar. \n",
            "\u001b[1;31mCódigo de error de Jupyter: 1\n",
            "\u001b[1;31mTraceback (most recent call last):\n",
            "\u001b[1;31m  File \"/Library/Frameworks/Python.framework/Versions/2.7/lib/python2.7/runpy.py\", line 174, in _run_module_as_main\n",
            "\u001b[1;31m\n",
            "\u001b[1;31m    \"__main__\", fname, loader, pkg_name)\n",
            "\u001b[1;31m  File \"/Library/Frameworks/Python.framework/Versions/2.7/lib/python2.7/runpy.py\", line 72, in _run_code\n",
            "\u001b[1;31m    exec code in run_globals\n",
            "\u001b[1;31m  File \"/Users/dmeneses/Library/Python/2.7/lib/python/site-packages/jupyter.py\", line 10, in <module>\n",
            "\u001b[1;31m    run_module('jupyter_core')\n",
            "\u001b[1;31m  File \"/Library/Frameworks/Python.framework/Versions/2.7/lib/python2.7/runpy.py\", line 192, in run_module\n",
            "\u001b[1;31m    fname, loader, pkg_name)\n",
            "\u001b[1;31m  File \"/Library/Frameworks/Python.framework/Versions/2.7/lib/python2.7/runpy.py\", line 72, in _run_code\n",
            "\u001b[1;31m    exec code in run_globals\n",
            "\u001b[1;31m  File \"/Users/dmeneses/Library/Python/2.7/lib/python/site-packages/jupyter_core/__main__.py\", line 3, in <module>\n",
            "\u001b[1;31m    main()\n",
            "\u001b[1;31m  File \"/Users/dmeneses/Library/Python/2.7/lib/python/site-packages/jupyter_core/command.py\", line 247, in main\n",
            "\u001b[1;31m\n",
            "\u001b[1;31m    command = _jupyter_abspath(subcommand)\n",
            "\u001b[1;31m  File \"/Users/dmeneses/Library/Python/2.7/lib/python/site-packages/jupyter_core/command.py\", line 134, in _jupyter_abspath\n",
            "\u001b[1;31m    'Jupyter command `{}` not found.'.format(jupyter_subcommand)\n",
            "\u001b[1;31mException: Jupyter command `jupyter-notebook` not found. \n",
            "\u001b[1;31mVea el [registro] de Jupyter (command:jupyter.viewOutput) para obtener más detalles."
          ]
        }
      ],
      "source": [
        "df"
      ]
    },
    {
      "cell_type": "markdown",
      "metadata": {
        "id": "jDBUTePP_i09"
      },
      "source": [
        "### Solucion 1: \n",
        "\n",
        "Descartar las observaciones con valores faltantes"
      ]
    },
    {
      "cell_type": "code",
      "execution_count": null,
      "metadata": {
        "id": "emd31KUTbQkR",
        "outputId": "5c2c98d5-7407-4bec-b585-d2112cdbbe37"
      },
      "outputs": [
        {
          "ename": "",
          "evalue": "",
          "output_type": "error",
          "traceback": [
            "\u001b[1;31mNo se pudo iniciar el Kernel. \n",
            "\u001b[1;31mEl servidor de Jupyter se bloqueó. No se puede conectar. \n",
            "\u001b[1;31mCódigo de error de Jupyter: 1\n",
            "\u001b[1;31mTraceback (most recent call last):\n",
            "\u001b[1;31m  File \"/Library/Frameworks/Python.framework/Versions/2.7/lib/python2.7/runpy.py\", line 174, in _run_module_as_main\n",
            "\u001b[1;31m\n",
            "\u001b[1;31m    \"__main__\", fname, loader, pkg_name)\n",
            "\u001b[1;31m  File \"/Library/Frameworks/Python.framework/Versions/2.7/lib/python2.7/runpy.py\", line 72, in _run_code\n",
            "\u001b[1;31m    exec code in run_globals\n",
            "\u001b[1;31m  File \"/Users/dmeneses/Library/Python/2.7/lib/python/site-packages/jupyter.py\", line 10, in <module>\n",
            "\u001b[1;31m    run_module('jupyter_core')\n",
            "\u001b[1;31m  File \"/Library/Frameworks/Python.framework/Versions/2.7/lib/python2.7/runpy.py\", line 192, in run_module\n",
            "\u001b[1;31m    fname, loader, pkg_name)\n",
            "\u001b[1;31m  File \"/Library/Frameworks/Python.framework/Versions/2.7/lib/python2.7/runpy.py\", line 72, in _run_code\n",
            "\u001b[1;31m    exec code in run_globals\n",
            "\u001b[1;31m  File \"/Users/dmeneses/Library/Python/2.7/lib/python/site-packages/jupyter_core/__main__.py\", line 3, in <module>\n",
            "\u001b[1;31m    main()\n",
            "\u001b[1;31m  File \"/Users/dmeneses/Library/Python/2.7/lib/python/site-packages/jupyter_core/command.py\", line 247, in main\n",
            "\u001b[1;31m\n",
            "\u001b[1;31m    command = _jupyter_abspath(subcommand)\n",
            "\u001b[1;31m  File \"/Users/dmeneses/Library/Python/2.7/lib/python/site-packages/jupyter_core/command.py\", line 134, in _jupyter_abspath\n",
            "\u001b[1;31m    'Jupyter command `{}` not found.'.format(jupyter_subcommand)\n",
            "\u001b[1;31mException: Jupyter command `jupyter-notebook` not found. \n",
            "\u001b[1;31mVea el [registro] de Jupyter (command:jupyter.viewOutput) para obtener más detalles."
          ]
        }
      ],
      "source": [
        "df.dropna(inplace = True)"
      ]
    },
    {
      "cell_type": "code",
      "execution_count": null,
      "metadata": {
        "colab": {
          "base_uri": "https://localhost:8080/"
        },
        "id": "bhVOp7OGbVCt",
        "outputId": "bd5826f4-f45c-4833-b498-eb280580c7d2"
      },
      "outputs": [
        {
          "ename": "",
          "evalue": "",
          "output_type": "error",
          "traceback": [
            "\u001b[1;31mNo se pudo iniciar el Kernel. \n",
            "\u001b[1;31mEl servidor de Jupyter se bloqueó. No se puede conectar. \n",
            "\u001b[1;31mCódigo de error de Jupyter: 1\n",
            "\u001b[1;31mTraceback (most recent call last):\n",
            "\u001b[1;31m  File \"/Library/Frameworks/Python.framework/Versions/2.7/lib/python2.7/runpy.py\", line 174, in _run_module_as_main\n",
            "\u001b[1;31m\n",
            "\u001b[1;31m    \"__main__\", fname, loader, pkg_name)\n",
            "\u001b[1;31m  File \"/Library/Frameworks/Python.framework/Versions/2.7/lib/python2.7/runpy.py\", line 72, in _run_code\n",
            "\u001b[1;31m    exec code in run_globals\n",
            "\u001b[1;31m  File \"/Users/dmeneses/Library/Python/2.7/lib/python/site-packages/jupyter.py\", line 10, in <module>\n",
            "\u001b[1;31m    run_module('jupyter_core')\n",
            "\u001b[1;31m  File \"/Library/Frameworks/Python.framework/Versions/2.7/lib/python2.7/runpy.py\", line 192, in run_module\n",
            "\u001b[1;31m    fname, loader, pkg_name)\n",
            "\u001b[1;31m  File \"/Library/Frameworks/Python.framework/Versions/2.7/lib/python2.7/runpy.py\", line 72, in _run_code\n",
            "\u001b[1;31m    exec code in run_globals\n",
            "\u001b[1;31m  File \"/Users/dmeneses/Library/Python/2.7/lib/python/site-packages/jupyter_core/__main__.py\", line 3, in <module>\n",
            "\u001b[1;31m    main()\n",
            "\u001b[1;31m  File \"/Users/dmeneses/Library/Python/2.7/lib/python/site-packages/jupyter_core/command.py\", line 247, in main\n",
            "\u001b[1;31m\n",
            "\u001b[1;31m    command = _jupyter_abspath(subcommand)\n",
            "\u001b[1;31m  File \"/Users/dmeneses/Library/Python/2.7/lib/python/site-packages/jupyter_core/command.py\", line 134, in _jupyter_abspath\n",
            "\u001b[1;31m    'Jupyter command `{}` not found.'.format(jupyter_subcommand)\n",
            "\u001b[1;31mException: Jupyter command `jupyter-notebook` not found. \n",
            "\u001b[1;31mVea el [registro] de Jupyter (command:jupyter.viewOutput) para obtener más detalles."
          ]
        }
      ],
      "source": [
        "df.isna().values.any()"
      ]
    },
    {
      "cell_type": "code",
      "execution_count": null,
      "metadata": {
        "colab": {
          "base_uri": "https://localhost:8080/",
          "height": 203
        },
        "id": "31t_x7JKbZ0O",
        "outputId": "2d5bbda4-c61e-461b-a8c4-490e8804daaa"
      },
      "outputs": [
        {
          "ename": "",
          "evalue": "",
          "output_type": "error",
          "traceback": [
            "\u001b[1;31mNo se pudo iniciar el Kernel. \n",
            "\u001b[1;31mEl servidor de Jupyter se bloqueó. No se puede conectar. \n",
            "\u001b[1;31mCódigo de error de Jupyter: 1\n",
            "\u001b[1;31mTraceback (most recent call last):\n",
            "\u001b[1;31m  File \"/Library/Frameworks/Python.framework/Versions/2.7/lib/python2.7/runpy.py\", line 174, in _run_module_as_main\n",
            "\u001b[1;31m\n",
            "\u001b[1;31m    \"__main__\", fname, loader, pkg_name)\n",
            "\u001b[1;31m  File \"/Library/Frameworks/Python.framework/Versions/2.7/lib/python2.7/runpy.py\", line 72, in _run_code\n",
            "\u001b[1;31m    exec code in run_globals\n",
            "\u001b[1;31m  File \"/Users/dmeneses/Library/Python/2.7/lib/python/site-packages/jupyter.py\", line 10, in <module>\n",
            "\u001b[1;31m    run_module('jupyter_core')\n",
            "\u001b[1;31m  File \"/Library/Frameworks/Python.framework/Versions/2.7/lib/python2.7/runpy.py\", line 192, in run_module\n",
            "\u001b[1;31m    fname, loader, pkg_name)\n",
            "\u001b[1;31m  File \"/Library/Frameworks/Python.framework/Versions/2.7/lib/python2.7/runpy.py\", line 72, in _run_code\n",
            "\u001b[1;31m    exec code in run_globals\n",
            "\u001b[1;31m  File \"/Users/dmeneses/Library/Python/2.7/lib/python/site-packages/jupyter_core/__main__.py\", line 3, in <module>\n",
            "\u001b[1;31m    main()\n",
            "\u001b[1;31m  File \"/Users/dmeneses/Library/Python/2.7/lib/python/site-packages/jupyter_core/command.py\", line 247, in main\n",
            "\u001b[1;31m\n",
            "\u001b[1;31m    command = _jupyter_abspath(subcommand)\n",
            "\u001b[1;31m  File \"/Users/dmeneses/Library/Python/2.7/lib/python/site-packages/jupyter_core/command.py\", line 134, in _jupyter_abspath\n",
            "\u001b[1;31m    'Jupyter command `{}` not found.'.format(jupyter_subcommand)\n",
            "\u001b[1;31mException: Jupyter command `jupyter-notebook` not found. \n",
            "\u001b[1;31mVea el [registro] de Jupyter (command:jupyter.viewOutput) para obtener más detalles."
          ]
        }
      ],
      "source": [
        "df"
      ]
    },
    {
      "cell_type": "markdown",
      "metadata": {
        "id": "Lr1VwxjX_1XP"
      },
      "source": [
        "El problema con esta estrategia es que, \n",
        ">> si falta algún dato en todo el conjunto de datos, la fila correspondiente se elimina."
      ]
    },
    {
      "cell_type": "code",
      "execution_count": null,
      "metadata": {
        "colab": {
          "base_uri": "https://localhost:8080/"
        },
        "id": "MCOKbvrdAy5f",
        "outputId": "07b191d1-48a1-4cff-b5f6-4f61b842d7bc"
      },
      "outputs": [
        {
          "ename": "",
          "evalue": "",
          "output_type": "error",
          "traceback": [
            "\u001b[1;31mNo se pudo iniciar el Kernel. \n",
            "\u001b[1;31mEl servidor de Jupyter se bloqueó. No se puede conectar. \n",
            "\u001b[1;31mCódigo de error de Jupyter: 1\n",
            "\u001b[1;31mTraceback (most recent call last):\n",
            "\u001b[1;31m  File \"/Library/Frameworks/Python.framework/Versions/2.7/lib/python2.7/runpy.py\", line 174, in _run_module_as_main\n",
            "\u001b[1;31m\n",
            "\u001b[1;31m    \"__main__\", fname, loader, pkg_name)\n",
            "\u001b[1;31m  File \"/Library/Frameworks/Python.framework/Versions/2.7/lib/python2.7/runpy.py\", line 72, in _run_code\n",
            "\u001b[1;31m    exec code in run_globals\n",
            "\u001b[1;31m  File \"/Users/dmeneses/Library/Python/2.7/lib/python/site-packages/jupyter.py\", line 10, in <module>\n",
            "\u001b[1;31m    run_module('jupyter_core')\n",
            "\u001b[1;31m  File \"/Library/Frameworks/Python.framework/Versions/2.7/lib/python2.7/runpy.py\", line 192, in run_module\n",
            "\u001b[1;31m    fname, loader, pkg_name)\n",
            "\u001b[1;31m  File \"/Library/Frameworks/Python.framework/Versions/2.7/lib/python2.7/runpy.py\", line 72, in _run_code\n",
            "\u001b[1;31m    exec code in run_globals\n",
            "\u001b[1;31m  File \"/Users/dmeneses/Library/Python/2.7/lib/python/site-packages/jupyter_core/__main__.py\", line 3, in <module>\n",
            "\u001b[1;31m    main()\n",
            "\u001b[1;31m  File \"/Users/dmeneses/Library/Python/2.7/lib/python/site-packages/jupyter_core/command.py\", line 247, in main\n",
            "\u001b[1;31m\n",
            "\u001b[1;31m    command = _jupyter_abspath(subcommand)\n",
            "\u001b[1;31m  File \"/Users/dmeneses/Library/Python/2.7/lib/python/site-packages/jupyter_core/command.py\", line 134, in _jupyter_abspath\n",
            "\u001b[1;31m    'Jupyter command `{}` not found.'.format(jupyter_subcommand)\n",
            "\u001b[1;31mException: Jupyter command `jupyter-notebook` not found. \n",
            "\u001b[1;31mVea el [registro] de Jupyter (command:jupyter.viewOutput) para obtener más detalles."
          ]
        }
      ],
      "source": [
        "df = pd.read_csv('/content/data.csv', index_col=0)\n",
        "df.isna().any()"
      ]
    },
    {
      "cell_type": "code",
      "execution_count": null,
      "metadata": {
        "colab": {
          "base_uri": "https://localhost:8080/",
          "height": 295
        },
        "id": "CDBCh_e-A-9j",
        "outputId": "7599a1e6-0252-4fea-f9e3-1e9a5316ba86"
      },
      "outputs": [
        {
          "ename": "",
          "evalue": "",
          "output_type": "error",
          "traceback": [
            "\u001b[1;31mNo se pudo iniciar el Kernel. \n",
            "\u001b[1;31mEl servidor de Jupyter se bloqueó. No se puede conectar. \n",
            "\u001b[1;31mCódigo de error de Jupyter: 1\n",
            "\u001b[1;31mTraceback (most recent call last):\n",
            "\u001b[1;31m  File \"/Library/Frameworks/Python.framework/Versions/2.7/lib/python2.7/runpy.py\", line 174, in _run_module_as_main\n",
            "\u001b[1;31m\n",
            "\u001b[1;31m    \"__main__\", fname, loader, pkg_name)\n",
            "\u001b[1;31m  File \"/Library/Frameworks/Python.framework/Versions/2.7/lib/python2.7/runpy.py\", line 72, in _run_code\n",
            "\u001b[1;31m    exec code in run_globals\n",
            "\u001b[1;31m  File \"/Users/dmeneses/Library/Python/2.7/lib/python/site-packages/jupyter.py\", line 10, in <module>\n",
            "\u001b[1;31m    run_module('jupyter_core')\n",
            "\u001b[1;31m  File \"/Library/Frameworks/Python.framework/Versions/2.7/lib/python2.7/runpy.py\", line 192, in run_module\n",
            "\u001b[1;31m    fname, loader, pkg_name)\n",
            "\u001b[1;31m  File \"/Library/Frameworks/Python.framework/Versions/2.7/lib/python2.7/runpy.py\", line 72, in _run_code\n",
            "\u001b[1;31m    exec code in run_globals\n",
            "\u001b[1;31m  File \"/Users/dmeneses/Library/Python/2.7/lib/python/site-packages/jupyter_core/__main__.py\", line 3, in <module>\n",
            "\u001b[1;31m    main()\n",
            "\u001b[1;31m  File \"/Users/dmeneses/Library/Python/2.7/lib/python/site-packages/jupyter_core/command.py\", line 247, in main\n",
            "\u001b[1;31m\n",
            "\u001b[1;31m    command = _jupyter_abspath(subcommand)\n",
            "\u001b[1;31m  File \"/Users/dmeneses/Library/Python/2.7/lib/python/site-packages/jupyter_core/command.py\", line 134, in _jupyter_abspath\n",
            "\u001b[1;31m    'Jupyter command `{}` not found.'.format(jupyter_subcommand)\n",
            "\u001b[1;31mException: Jupyter command `jupyter-notebook` not found. \n",
            "\u001b[1;31mVea el [registro] de Jupyter (command:jupyter.viewOutput) para obtener más detalles."
          ]
        }
      ],
      "source": [
        "ndf = df.copy()\n",
        "ndf"
      ]
    },
    {
      "cell_type": "markdown",
      "metadata": {
        "id": "yjYu-zzdCoDx"
      },
      "source": [
        "Suelte las columnas donde falta al menos un elemento."
      ]
    },
    {
      "cell_type": "code",
      "execution_count": null,
      "metadata": {
        "colab": {
          "base_uri": "https://localhost:8080/",
          "height": 295
        },
        "id": "eNNLbhvTCZiJ",
        "outputId": "44c4af52-effe-4487-9a97-a3db0b8d499a"
      },
      "outputs": [
        {
          "ename": "",
          "evalue": "",
          "output_type": "error",
          "traceback": [
            "\u001b[1;31mNo se pudo iniciar el Kernel. \n",
            "\u001b[1;31mEl servidor de Jupyter se bloqueó. No se puede conectar. \n",
            "\u001b[1;31mCódigo de error de Jupyter: 1\n",
            "\u001b[1;31mTraceback (most recent call last):\n",
            "\u001b[1;31m  File \"/Library/Frameworks/Python.framework/Versions/2.7/lib/python2.7/runpy.py\", line 174, in _run_module_as_main\n",
            "\u001b[1;31m\n",
            "\u001b[1;31m    \"__main__\", fname, loader, pkg_name)\n",
            "\u001b[1;31m  File \"/Library/Frameworks/Python.framework/Versions/2.7/lib/python2.7/runpy.py\", line 72, in _run_code\n",
            "\u001b[1;31m    exec code in run_globals\n",
            "\u001b[1;31m  File \"/Users/dmeneses/Library/Python/2.7/lib/python/site-packages/jupyter.py\", line 10, in <module>\n",
            "\u001b[1;31m    run_module('jupyter_core')\n",
            "\u001b[1;31m  File \"/Library/Frameworks/Python.framework/Versions/2.7/lib/python2.7/runpy.py\", line 192, in run_module\n",
            "\u001b[1;31m    fname, loader, pkg_name)\n",
            "\u001b[1;31m  File \"/Library/Frameworks/Python.framework/Versions/2.7/lib/python2.7/runpy.py\", line 72, in _run_code\n",
            "\u001b[1;31m    exec code in run_globals\n",
            "\u001b[1;31m  File \"/Users/dmeneses/Library/Python/2.7/lib/python/site-packages/jupyter_core/__main__.py\", line 3, in <module>\n",
            "\u001b[1;31m    main()\n",
            "\u001b[1;31m  File \"/Users/dmeneses/Library/Python/2.7/lib/python/site-packages/jupyter_core/command.py\", line 247, in main\n",
            "\u001b[1;31m\n",
            "\u001b[1;31m    command = _jupyter_abspath(subcommand)\n",
            "\u001b[1;31m  File \"/Users/dmeneses/Library/Python/2.7/lib/python/site-packages/jupyter_core/command.py\", line 134, in _jupyter_abspath\n",
            "\u001b[1;31m    'Jupyter command `{}` not found.'.format(jupyter_subcommand)\n",
            "\u001b[1;31mException: Jupyter command `jupyter-notebook` not found. \n",
            "\u001b[1;31mVea el [registro] de Jupyter (command:jupyter.viewOutput) para obtener más detalles."
          ]
        }
      ],
      "source": [
        "ndf.dropna(axis = 1, inplace = True) # axis 1 is columns / axis 0 is rows. \n",
        "ndf"
      ]
    },
    {
      "cell_type": "code",
      "execution_count": null,
      "metadata": {
        "colab": {
          "base_uri": "https://localhost:8080/",
          "height": 295
        },
        "id": "a5lyr_eICw1O",
        "outputId": "13f2b2fb-4efe-46be-94b5-629a65d6fb93"
      },
      "outputs": [
        {
          "ename": "",
          "evalue": "",
          "output_type": "error",
          "traceback": [
            "\u001b[1;31mNo se pudo iniciar el Kernel. \n",
            "\u001b[1;31mEl servidor de Jupyter se bloqueó. No se puede conectar. \n",
            "\u001b[1;31mCódigo de error de Jupyter: 1\n",
            "\u001b[1;31mTraceback (most recent call last):\n",
            "\u001b[1;31m  File \"/Library/Frameworks/Python.framework/Versions/2.7/lib/python2.7/runpy.py\", line 174, in _run_module_as_main\n",
            "\u001b[1;31m\n",
            "\u001b[1;31m    \"__main__\", fname, loader, pkg_name)\n",
            "\u001b[1;31m  File \"/Library/Frameworks/Python.framework/Versions/2.7/lib/python2.7/runpy.py\", line 72, in _run_code\n",
            "\u001b[1;31m    exec code in run_globals\n",
            "\u001b[1;31m  File \"/Users/dmeneses/Library/Python/2.7/lib/python/site-packages/jupyter.py\", line 10, in <module>\n",
            "\u001b[1;31m    run_module('jupyter_core')\n",
            "\u001b[1;31m  File \"/Library/Frameworks/Python.framework/Versions/2.7/lib/python2.7/runpy.py\", line 192, in run_module\n",
            "\u001b[1;31m    fname, loader, pkg_name)\n",
            "\u001b[1;31m  File \"/Library/Frameworks/Python.framework/Versions/2.7/lib/python2.7/runpy.py\", line 72, in _run_code\n",
            "\u001b[1;31m    exec code in run_globals\n",
            "\u001b[1;31m  File \"/Users/dmeneses/Library/Python/2.7/lib/python/site-packages/jupyter_core/__main__.py\", line 3, in <module>\n",
            "\u001b[1;31m    main()\n",
            "\u001b[1;31m  File \"/Users/dmeneses/Library/Python/2.7/lib/python/site-packages/jupyter_core/command.py\", line 247, in main\n",
            "\u001b[1;31m\n",
            "\u001b[1;31m    command = _jupyter_abspath(subcommand)\n",
            "\u001b[1;31m  File \"/Users/dmeneses/Library/Python/2.7/lib/python/site-packages/jupyter_core/command.py\", line 134, in _jupyter_abspath\n",
            "\u001b[1;31m    'Jupyter command `{}` not found.'.format(jupyter_subcommand)\n",
            "\u001b[1;31mException: Jupyter command `jupyter-notebook` not found. \n",
            "\u001b[1;31mVea el [registro] de Jupyter (command:jupyter.viewOutput) para obtener más detalles."
          ]
        }
      ],
      "source": [
        "ndf = df.copy()\n",
        "ndf"
      ]
    },
    {
      "cell_type": "markdown",
      "metadata": {
        "id": "__egBqraC41S"
      },
      "source": [
        "Drop the rows where all elements are missing."
      ]
    },
    {
      "cell_type": "code",
      "execution_count": null,
      "metadata": {
        "colab": {
          "base_uri": "https://localhost:8080/",
          "height": 295
        },
        "id": "DYRJhRlPC8yd",
        "outputId": "afff1478-73d9-47c0-b29f-a3e35e1dfbb3"
      },
      "outputs": [
        {
          "ename": "",
          "evalue": "",
          "output_type": "error",
          "traceback": [
            "\u001b[1;31mNo se pudo iniciar el Kernel. \n",
            "\u001b[1;31mEl servidor de Jupyter se bloqueó. No se puede conectar. \n",
            "\u001b[1;31mCódigo de error de Jupyter: 1\n",
            "\u001b[1;31mTraceback (most recent call last):\n",
            "\u001b[1;31m  File \"/Library/Frameworks/Python.framework/Versions/2.7/lib/python2.7/runpy.py\", line 174, in _run_module_as_main\n",
            "\u001b[1;31m\n",
            "\u001b[1;31m    \"__main__\", fname, loader, pkg_name)\n",
            "\u001b[1;31m  File \"/Library/Frameworks/Python.framework/Versions/2.7/lib/python2.7/runpy.py\", line 72, in _run_code\n",
            "\u001b[1;31m    exec code in run_globals\n",
            "\u001b[1;31m  File \"/Users/dmeneses/Library/Python/2.7/lib/python/site-packages/jupyter.py\", line 10, in <module>\n",
            "\u001b[1;31m    run_module('jupyter_core')\n",
            "\u001b[1;31m  File \"/Library/Frameworks/Python.framework/Versions/2.7/lib/python2.7/runpy.py\", line 192, in run_module\n",
            "\u001b[1;31m    fname, loader, pkg_name)\n",
            "\u001b[1;31m  File \"/Library/Frameworks/Python.framework/Versions/2.7/lib/python2.7/runpy.py\", line 72, in _run_code\n",
            "\u001b[1;31m    exec code in run_globals\n",
            "\u001b[1;31m  File \"/Users/dmeneses/Library/Python/2.7/lib/python/site-packages/jupyter_core/__main__.py\", line 3, in <module>\n",
            "\u001b[1;31m    main()\n",
            "\u001b[1;31m  File \"/Users/dmeneses/Library/Python/2.7/lib/python/site-packages/jupyter_core/command.py\", line 247, in main\n",
            "\u001b[1;31m\n",
            "\u001b[1;31m    command = _jupyter_abspath(subcommand)\n",
            "\u001b[1;31m  File \"/Users/dmeneses/Library/Python/2.7/lib/python/site-packages/jupyter_core/command.py\", line 134, in _jupyter_abspath\n",
            "\u001b[1;31m    'Jupyter command `{}` not found.'.format(jupyter_subcommand)\n",
            "\u001b[1;31mException: Jupyter command `jupyter-notebook` not found. \n",
            "\u001b[1;31mVea el [registro] de Jupyter (command:jupyter.viewOutput) para obtener más detalles."
          ]
        }
      ],
      "source": [
        "ndf.dropna(how='all', inplace = True)\n",
        "ndf"
      ]
    },
    {
      "cell_type": "markdown",
      "metadata": {
        "id": "fO5YjZyVBESQ"
      },
      "source": [
        "Alternativamente: usamos Threshold. \n",
        "\n",
        "Mantenga solo las filas con al menos 2 valores que  **NO SEAN** `nan`\n"
      ]
    },
    {
      "cell_type": "code",
      "execution_count": null,
      "metadata": {
        "colab": {
          "base_uri": "https://localhost:8080/",
          "height": 295
        },
        "id": "BkU6Ek10EHGJ",
        "outputId": "3e25b430-1f6f-4f2b-b4f4-bbee40161822"
      },
      "outputs": [
        {
          "ename": "",
          "evalue": "",
          "output_type": "error",
          "traceback": [
            "\u001b[1;31mNo se pudo iniciar el Kernel. \n",
            "\u001b[1;31mEl servidor de Jupyter se bloqueó. No se puede conectar. \n",
            "\u001b[1;31mCódigo de error de Jupyter: 1\n",
            "\u001b[1;31mTraceback (most recent call last):\n",
            "\u001b[1;31m  File \"/Library/Frameworks/Python.framework/Versions/2.7/lib/python2.7/runpy.py\", line 174, in _run_module_as_main\n",
            "\u001b[1;31m\n",
            "\u001b[1;31m    \"__main__\", fname, loader, pkg_name)\n",
            "\u001b[1;31m  File \"/Library/Frameworks/Python.framework/Versions/2.7/lib/python2.7/runpy.py\", line 72, in _run_code\n",
            "\u001b[1;31m    exec code in run_globals\n",
            "\u001b[1;31m  File \"/Users/dmeneses/Library/Python/2.7/lib/python/site-packages/jupyter.py\", line 10, in <module>\n",
            "\u001b[1;31m    run_module('jupyter_core')\n",
            "\u001b[1;31m  File \"/Library/Frameworks/Python.framework/Versions/2.7/lib/python2.7/runpy.py\", line 192, in run_module\n",
            "\u001b[1;31m    fname, loader, pkg_name)\n",
            "\u001b[1;31m  File \"/Library/Frameworks/Python.framework/Versions/2.7/lib/python2.7/runpy.py\", line 72, in _run_code\n",
            "\u001b[1;31m    exec code in run_globals\n",
            "\u001b[1;31m  File \"/Users/dmeneses/Library/Python/2.7/lib/python/site-packages/jupyter_core/__main__.py\", line 3, in <module>\n",
            "\u001b[1;31m    main()\n",
            "\u001b[1;31m  File \"/Users/dmeneses/Library/Python/2.7/lib/python/site-packages/jupyter_core/command.py\", line 247, in main\n",
            "\u001b[1;31m\n",
            "\u001b[1;31m    command = _jupyter_abspath(subcommand)\n",
            "\u001b[1;31m  File \"/Users/dmeneses/Library/Python/2.7/lib/python/site-packages/jupyter_core/command.py\", line 134, in _jupyter_abspath\n",
            "\u001b[1;31m    'Jupyter command `{}` not found.'.format(jupyter_subcommand)\n",
            "\u001b[1;31mException: Jupyter command `jupyter-notebook` not found. \n",
            "\u001b[1;31mVea el [registro] de Jupyter (command:jupyter.viewOutput) para obtener más detalles."
          ]
        }
      ],
      "source": [
        "ndf = df.copy()\n",
        "ndf"
      ]
    },
    {
      "cell_type": "code",
      "execution_count": null,
      "metadata": {
        "colab": {
          "base_uri": "https://localhost:8080/",
          "height": 234
        },
        "id": "yEgUhF6WBC7g",
        "outputId": "5f4cba23-c77f-458a-e6c4-117c0dd9e688"
      },
      "outputs": [
        {
          "ename": "",
          "evalue": "",
          "output_type": "error",
          "traceback": [
            "\u001b[1;31mNo se pudo iniciar el Kernel. \n",
            "\u001b[1;31mEl servidor de Jupyter se bloqueó. No se puede conectar. \n",
            "\u001b[1;31mCódigo de error de Jupyter: 1\n",
            "\u001b[1;31mTraceback (most recent call last):\n",
            "\u001b[1;31m  File \"/Library/Frameworks/Python.framework/Versions/2.7/lib/python2.7/runpy.py\", line 174, in _run_module_as_main\n",
            "\u001b[1;31m\n",
            "\u001b[1;31m    \"__main__\", fname, loader, pkg_name)\n",
            "\u001b[1;31m  File \"/Library/Frameworks/Python.framework/Versions/2.7/lib/python2.7/runpy.py\", line 72, in _run_code\n",
            "\u001b[1;31m    exec code in run_globals\n",
            "\u001b[1;31m  File \"/Users/dmeneses/Library/Python/2.7/lib/python/site-packages/jupyter.py\", line 10, in <module>\n",
            "\u001b[1;31m    run_module('jupyter_core')\n",
            "\u001b[1;31m  File \"/Library/Frameworks/Python.framework/Versions/2.7/lib/python2.7/runpy.py\", line 192, in run_module\n",
            "\u001b[1;31m    fname, loader, pkg_name)\n",
            "\u001b[1;31m  File \"/Library/Frameworks/Python.framework/Versions/2.7/lib/python2.7/runpy.py\", line 72, in _run_code\n",
            "\u001b[1;31m    exec code in run_globals\n",
            "\u001b[1;31m  File \"/Users/dmeneses/Library/Python/2.7/lib/python/site-packages/jupyter_core/__main__.py\", line 3, in <module>\n",
            "\u001b[1;31m    main()\n",
            "\u001b[1;31m  File \"/Users/dmeneses/Library/Python/2.7/lib/python/site-packages/jupyter_core/command.py\", line 247, in main\n",
            "\u001b[1;31m\n",
            "\u001b[1;31m    command = _jupyter_abspath(subcommand)\n",
            "\u001b[1;31m  File \"/Users/dmeneses/Library/Python/2.7/lib/python/site-packages/jupyter_core/command.py\", line 134, in _jupyter_abspath\n",
            "\u001b[1;31m    'Jupyter command `{}` not found.'.format(jupyter_subcommand)\n",
            "\u001b[1;31mException: Jupyter command `jupyter-notebook` not found. \n",
            "\u001b[1;31mVea el [registro] de Jupyter (command:jupyter.viewOutput) para obtener más detalles."
          ]
        }
      ],
      "source": [
        "ndf.dropna(thresh=4, inplace = True) # In a row, it needs at least 4 nan values is needed, to maintain in df\n",
        "ndf # in case of column  add   axis=1 "
      ]
    },
    {
      "cell_type": "markdown",
      "metadata": {
        "id": "A5Wn2-FWG7I-"
      },
      "source": [
        "Defina en qué columnas buscar valores faltantes."
      ]
    },
    {
      "cell_type": "code",
      "execution_count": null,
      "metadata": {
        "colab": {
          "base_uri": "https://localhost:8080/",
          "height": 295
        },
        "id": "D1FRfrxeG6Zn",
        "outputId": "0efde259-4faa-43a5-aee6-f7e390149a15"
      },
      "outputs": [
        {
          "ename": "",
          "evalue": "",
          "output_type": "error",
          "traceback": [
            "\u001b[1;31mNo se pudo iniciar el Kernel. \n",
            "\u001b[1;31mEl servidor de Jupyter se bloqueó. No se puede conectar. \n",
            "\u001b[1;31mCódigo de error de Jupyter: 1\n",
            "\u001b[1;31mTraceback (most recent call last):\n",
            "\u001b[1;31m  File \"/Library/Frameworks/Python.framework/Versions/2.7/lib/python2.7/runpy.py\", line 174, in _run_module_as_main\n",
            "\u001b[1;31m\n",
            "\u001b[1;31m    \"__main__\", fname, loader, pkg_name)\n",
            "\u001b[1;31m  File \"/Library/Frameworks/Python.framework/Versions/2.7/lib/python2.7/runpy.py\", line 72, in _run_code\n",
            "\u001b[1;31m    exec code in run_globals\n",
            "\u001b[1;31m  File \"/Users/dmeneses/Library/Python/2.7/lib/python/site-packages/jupyter.py\", line 10, in <module>\n",
            "\u001b[1;31m    run_module('jupyter_core')\n",
            "\u001b[1;31m  File \"/Library/Frameworks/Python.framework/Versions/2.7/lib/python2.7/runpy.py\", line 192, in run_module\n",
            "\u001b[1;31m    fname, loader, pkg_name)\n",
            "\u001b[1;31m  File \"/Library/Frameworks/Python.framework/Versions/2.7/lib/python2.7/runpy.py\", line 72, in _run_code\n",
            "\u001b[1;31m    exec code in run_globals\n",
            "\u001b[1;31m  File \"/Users/dmeneses/Library/Python/2.7/lib/python/site-packages/jupyter_core/__main__.py\", line 3, in <module>\n",
            "\u001b[1;31m    main()\n",
            "\u001b[1;31m  File \"/Users/dmeneses/Library/Python/2.7/lib/python/site-packages/jupyter_core/command.py\", line 247, in main\n",
            "\u001b[1;31m\n",
            "\u001b[1;31m    command = _jupyter_abspath(subcommand)\n",
            "\u001b[1;31m  File \"/Users/dmeneses/Library/Python/2.7/lib/python/site-packages/jupyter_core/command.py\", line 134, in _jupyter_abspath\n",
            "\u001b[1;31m    'Jupyter command `{}` not found.'.format(jupyter_subcommand)\n",
            "\u001b[1;31mException: Jupyter command `jupyter-notebook` not found. \n",
            "\u001b[1;31mVea el [registro] de Jupyter (command:jupyter.viewOutput) para obtener más detalles."
          ]
        }
      ],
      "source": [
        "ndf = df.copy()\n",
        "ndf"
      ]
    },
    {
      "cell_type": "code",
      "execution_count": null,
      "metadata": {
        "colab": {
          "base_uri": "https://localhost:8080/",
          "height": 295
        },
        "id": "Z2CplmlWHHyf",
        "outputId": "bf87c3be-c3dc-49c1-971d-57c3b215d2e2"
      },
      "outputs": [
        {
          "ename": "",
          "evalue": "",
          "output_type": "error",
          "traceback": [
            "\u001b[1;31mNo se pudo iniciar el Kernel. \n",
            "\u001b[1;31mEl servidor de Jupyter se bloqueó. No se puede conectar. \n",
            "\u001b[1;31mCódigo de error de Jupyter: 1\n",
            "\u001b[1;31mTraceback (most recent call last):\n",
            "\u001b[1;31m  File \"/Library/Frameworks/Python.framework/Versions/2.7/lib/python2.7/runpy.py\", line 174, in _run_module_as_main\n",
            "\u001b[1;31m\n",
            "\u001b[1;31m    \"__main__\", fname, loader, pkg_name)\n",
            "\u001b[1;31m  File \"/Library/Frameworks/Python.framework/Versions/2.7/lib/python2.7/runpy.py\", line 72, in _run_code\n",
            "\u001b[1;31m    exec code in run_globals\n",
            "\u001b[1;31m  File \"/Users/dmeneses/Library/Python/2.7/lib/python/site-packages/jupyter.py\", line 10, in <module>\n",
            "\u001b[1;31m    run_module('jupyter_core')\n",
            "\u001b[1;31m  File \"/Library/Frameworks/Python.framework/Versions/2.7/lib/python2.7/runpy.py\", line 192, in run_module\n",
            "\u001b[1;31m    fname, loader, pkg_name)\n",
            "\u001b[1;31m  File \"/Library/Frameworks/Python.framework/Versions/2.7/lib/python2.7/runpy.py\", line 72, in _run_code\n",
            "\u001b[1;31m    exec code in run_globals\n",
            "\u001b[1;31m  File \"/Users/dmeneses/Library/Python/2.7/lib/python/site-packages/jupyter_core/__main__.py\", line 3, in <module>\n",
            "\u001b[1;31m    main()\n",
            "\u001b[1;31m  File \"/Users/dmeneses/Library/Python/2.7/lib/python/site-packages/jupyter_core/command.py\", line 247, in main\n",
            "\u001b[1;31m\n",
            "\u001b[1;31m    command = _jupyter_abspath(subcommand)\n",
            "\u001b[1;31m  File \"/Users/dmeneses/Library/Python/2.7/lib/python/site-packages/jupyter_core/command.py\", line 134, in _jupyter_abspath\n",
            "\u001b[1;31m    'Jupyter command `{}` not found.'.format(jupyter_subcommand)\n",
            "\u001b[1;31mException: Jupyter command `jupyter-notebook` not found. \n",
            "\u001b[1;31mVea el [registro] de Jupyter (command:jupyter.viewOutput) para obtener más detalles."
          ]
        }
      ],
      "source": [
        "ndf.dropna(thresh = 5,  #if there is not 5 nan values, the column will be eliminated \n",
        "           axis = 1, \n",
        "           inplace = True\n",
        "           ) \n",
        "ndf "
      ]
    },
    {
      "cell_type": "markdown",
      "metadata": {
        "id": "l0zfi1RjAmfE"
      },
      "source": [
        "Para saber mas: \n",
        "\n",
        "https://pandas.pydata.org/docs/reference/api/pandas.DataFrame.dropna.html"
      ]
    },
    {
      "cell_type": "markdown",
      "metadata": {
        "id": "4yVrVyYdAeca"
      },
      "source": [
        "### Solucion 2: \n",
        "\n"
      ]
    },
    {
      "cell_type": "code",
      "execution_count": null,
      "metadata": {
        "id": "DSygVPcaXUH7",
        "outputId": "42055b48-4313-4727-d5f1-18d37d0c12d8"
      },
      "outputs": [
        {
          "ename": "",
          "evalue": "",
          "output_type": "error",
          "traceback": [
            "\u001b[1;31mNo se pudo iniciar el Kernel. \n",
            "\u001b[1;31mEl servidor de Jupyter se bloqueó. No se puede conectar. \n",
            "\u001b[1;31mCódigo de error de Jupyter: 1\n",
            "\u001b[1;31mTraceback (most recent call last):\n",
            "\u001b[1;31m  File \"/Library/Frameworks/Python.framework/Versions/2.7/lib/python2.7/runpy.py\", line 174, in _run_module_as_main\n",
            "\u001b[1;31m\n",
            "\u001b[1;31m    \"__main__\", fname, loader, pkg_name)\n",
            "\u001b[1;31m  File \"/Library/Frameworks/Python.framework/Versions/2.7/lib/python2.7/runpy.py\", line 72, in _run_code\n",
            "\u001b[1;31m    exec code in run_globals\n",
            "\u001b[1;31m  File \"/Users/dmeneses/Library/Python/2.7/lib/python/site-packages/jupyter.py\", line 10, in <module>\n",
            "\u001b[1;31m    run_module('jupyter_core')\n",
            "\u001b[1;31m  File \"/Library/Frameworks/Python.framework/Versions/2.7/lib/python2.7/runpy.py\", line 192, in run_module\n",
            "\u001b[1;31m    fname, loader, pkg_name)\n",
            "\u001b[1;31m  File \"/Library/Frameworks/Python.framework/Versions/2.7/lib/python2.7/runpy.py\", line 72, in _run_code\n",
            "\u001b[1;31m    exec code in run_globals\n",
            "\u001b[1;31m  File \"/Users/dmeneses/Library/Python/2.7/lib/python/site-packages/jupyter_core/__main__.py\", line 3, in <module>\n",
            "\u001b[1;31m    main()\n",
            "\u001b[1;31m  File \"/Users/dmeneses/Library/Python/2.7/lib/python/site-packages/jupyter_core/command.py\", line 247, in main\n",
            "\u001b[1;31m\n",
            "\u001b[1;31m    command = _jupyter_abspath(subcommand)\n",
            "\u001b[1;31m  File \"/Users/dmeneses/Library/Python/2.7/lib/python/site-packages/jupyter_core/command.py\", line 134, in _jupyter_abspath\n",
            "\u001b[1;31m    'Jupyter command `{}` not found.'.format(jupyter_subcommand)\n",
            "\u001b[1;31mException: Jupyter command `jupyter-notebook` not found. \n",
            "\u001b[1;31mVea el [registro] de Jupyter (command:jupyter.viewOutput) para obtener más detalles."
          ]
        }
      ],
      "source": [
        "ndf = df.copy()"
      ]
    },
    {
      "cell_type": "code",
      "execution_count": null,
      "metadata": {
        "colab": {
          "base_uri": "https://localhost:8080/"
        },
        "id": "a1AtpG_-b4Pm",
        "outputId": "d39a007d-eb1a-42ab-ced6-d6faf00d8a90"
      },
      "outputs": [
        {
          "ename": "",
          "evalue": "",
          "output_type": "error",
          "traceback": [
            "\u001b[1;31mNo se pudo iniciar el Kernel. \n",
            "\u001b[1;31mEl servidor de Jupyter se bloqueó. No se puede conectar. \n",
            "\u001b[1;31mCódigo de error de Jupyter: 1\n",
            "\u001b[1;31mTraceback (most recent call last):\n",
            "\u001b[1;31m  File \"/Library/Frameworks/Python.framework/Versions/2.7/lib/python2.7/runpy.py\", line 174, in _run_module_as_main\n",
            "\u001b[1;31m\n",
            "\u001b[1;31m    \"__main__\", fname, loader, pkg_name)\n",
            "\u001b[1;31m  File \"/Library/Frameworks/Python.framework/Versions/2.7/lib/python2.7/runpy.py\", line 72, in _run_code\n",
            "\u001b[1;31m    exec code in run_globals\n",
            "\u001b[1;31m  File \"/Users/dmeneses/Library/Python/2.7/lib/python/site-packages/jupyter.py\", line 10, in <module>\n",
            "\u001b[1;31m    run_module('jupyter_core')\n",
            "\u001b[1;31m  File \"/Library/Frameworks/Python.framework/Versions/2.7/lib/python2.7/runpy.py\", line 192, in run_module\n",
            "\u001b[1;31m    fname, loader, pkg_name)\n",
            "\u001b[1;31m  File \"/Library/Frameworks/Python.framework/Versions/2.7/lib/python2.7/runpy.py\", line 72, in _run_code\n",
            "\u001b[1;31m    exec code in run_globals\n",
            "\u001b[1;31m  File \"/Users/dmeneses/Library/Python/2.7/lib/python/site-packages/jupyter_core/__main__.py\", line 3, in <module>\n",
            "\u001b[1;31m    main()\n",
            "\u001b[1;31m  File \"/Users/dmeneses/Library/Python/2.7/lib/python/site-packages/jupyter_core/command.py\", line 247, in main\n",
            "\u001b[1;31m\n",
            "\u001b[1;31m    command = _jupyter_abspath(subcommand)\n",
            "\u001b[1;31m  File \"/Users/dmeneses/Library/Python/2.7/lib/python/site-packages/jupyter_core/command.py\", line 134, in _jupyter_abspath\n",
            "\u001b[1;31m    'Jupyter command `{}` not found.'.format(jupyter_subcommand)\n",
            "\u001b[1;31mException: Jupyter command `jupyter-notebook` not found. \n",
            "\u001b[1;31mVea el [registro] de Jupyter (command:jupyter.viewOutput) para obtener más detalles."
          ]
        }
      ],
      "source": [
        "wm = ndf.Weight.mean()\n",
        "wm"
      ]
    },
    {
      "cell_type": "code",
      "execution_count": null,
      "metadata": {
        "colab": {
          "base_uri": "https://localhost:8080/",
          "height": 295
        },
        "id": "2-Tayd3McAuW",
        "outputId": "4a43059a-8e4e-4824-9781-8d9a54fe40e9"
      },
      "outputs": [
        {
          "ename": "",
          "evalue": "",
          "output_type": "error",
          "traceback": [
            "\u001b[1;31mNo se pudo iniciar el Kernel. \n",
            "\u001b[1;31mEl servidor de Jupyter se bloqueó. No se puede conectar. \n",
            "\u001b[1;31mCódigo de error de Jupyter: 1\n",
            "\u001b[1;31mTraceback (most recent call last):\n",
            "\u001b[1;31m  File \"/Library/Frameworks/Python.framework/Versions/2.7/lib/python2.7/runpy.py\", line 174, in _run_module_as_main\n",
            "\u001b[1;31m\n",
            "\u001b[1;31m    \"__main__\", fname, loader, pkg_name)\n",
            "\u001b[1;31m  File \"/Library/Frameworks/Python.framework/Versions/2.7/lib/python2.7/runpy.py\", line 72, in _run_code\n",
            "\u001b[1;31m    exec code in run_globals\n",
            "\u001b[1;31m  File \"/Users/dmeneses/Library/Python/2.7/lib/python/site-packages/jupyter.py\", line 10, in <module>\n",
            "\u001b[1;31m    run_module('jupyter_core')\n",
            "\u001b[1;31m  File \"/Library/Frameworks/Python.framework/Versions/2.7/lib/python2.7/runpy.py\", line 192, in run_module\n",
            "\u001b[1;31m    fname, loader, pkg_name)\n",
            "\u001b[1;31m  File \"/Library/Frameworks/Python.framework/Versions/2.7/lib/python2.7/runpy.py\", line 72, in _run_code\n",
            "\u001b[1;31m    exec code in run_globals\n",
            "\u001b[1;31m  File \"/Users/dmeneses/Library/Python/2.7/lib/python/site-packages/jupyter_core/__main__.py\", line 3, in <module>\n",
            "\u001b[1;31m    main()\n",
            "\u001b[1;31m  File \"/Users/dmeneses/Library/Python/2.7/lib/python/site-packages/jupyter_core/command.py\", line 247, in main\n",
            "\u001b[1;31m\n",
            "\u001b[1;31m    command = _jupyter_abspath(subcommand)\n",
            "\u001b[1;31m  File \"/Users/dmeneses/Library/Python/2.7/lib/python/site-packages/jupyter_core/command.py\", line 134, in _jupyter_abspath\n",
            "\u001b[1;31m    'Jupyter command `{}` not found.'.format(jupyter_subcommand)\n",
            "\u001b[1;31mException: Jupyter command `jupyter-notebook` not found. \n",
            "\u001b[1;31mVea el [registro] de Jupyter (command:jupyter.viewOutput) para obtener más detalles."
          ]
        }
      ],
      "source": [
        "ndf['Weight'].fillna(value = wm, \n",
        "                    inplace = True)\n",
        "ndf"
      ]
    },
    {
      "cell_type": "markdown",
      "metadata": {
        "id": "wDuqIKO7Q9OZ"
      },
      "source": [
        "[Datos faltantes: dos grandes problemas con la imputación media](https://www.theanalysisfactor.com/mean-imputation/)"
      ]
    },
    {
      "cell_type": "code",
      "execution_count": null,
      "metadata": {
        "colab": {
          "base_uri": "https://localhost:8080/",
          "height": 295
        },
        "id": "lValNi9Ycd-6",
        "outputId": "bfb4d797-8263-45de-ca45-a0ad8725d34a"
      },
      "outputs": [
        {
          "ename": "",
          "evalue": "",
          "output_type": "error",
          "traceback": [
            "\u001b[1;31mNo se pudo iniciar el Kernel. \n",
            "\u001b[1;31mEl servidor de Jupyter se bloqueó. No se puede conectar. \n",
            "\u001b[1;31mCódigo de error de Jupyter: 1\n",
            "\u001b[1;31mTraceback (most recent call last):\n",
            "\u001b[1;31m  File \"/Library/Frameworks/Python.framework/Versions/2.7/lib/python2.7/runpy.py\", line 174, in _run_module_as_main\n",
            "\u001b[1;31m\n",
            "\u001b[1;31m    \"__main__\", fname, loader, pkg_name)\n",
            "\u001b[1;31m  File \"/Library/Frameworks/Python.framework/Versions/2.7/lib/python2.7/runpy.py\", line 72, in _run_code\n",
            "\u001b[1;31m    exec code in run_globals\n",
            "\u001b[1;31m  File \"/Users/dmeneses/Library/Python/2.7/lib/python/site-packages/jupyter.py\", line 10, in <module>\n",
            "\u001b[1;31m    run_module('jupyter_core')\n",
            "\u001b[1;31m  File \"/Library/Frameworks/Python.framework/Versions/2.7/lib/python2.7/runpy.py\", line 192, in run_module\n",
            "\u001b[1;31m    fname, loader, pkg_name)\n",
            "\u001b[1;31m  File \"/Library/Frameworks/Python.framework/Versions/2.7/lib/python2.7/runpy.py\", line 72, in _run_code\n",
            "\u001b[1;31m    exec code in run_globals\n",
            "\u001b[1;31m  File \"/Users/dmeneses/Library/Python/2.7/lib/python/site-packages/jupyter_core/__main__.py\", line 3, in <module>\n",
            "\u001b[1;31m    main()\n",
            "\u001b[1;31m  File \"/Users/dmeneses/Library/Python/2.7/lib/python/site-packages/jupyter_core/command.py\", line 247, in main\n",
            "\u001b[1;31m\n",
            "\u001b[1;31m    command = _jupyter_abspath(subcommand)\n",
            "\u001b[1;31m  File \"/Users/dmeneses/Library/Python/2.7/lib/python/site-packages/jupyter_core/command.py\", line 134, in _jupyter_abspath\n",
            "\u001b[1;31m    'Jupyter command `{}` not found.'.format(jupyter_subcommand)\n",
            "\u001b[1;31mException: Jupyter command `jupyter-notebook` not found. \n",
            "\u001b[1;31mVea el [registro] de Jupyter (command:jupyter.viewOutput) para obtener más detalles."
          ]
        }
      ],
      "source": [
        "ndf['Length'].fillna(value = ndf.Length.median(), \n",
        "                    inplace = True)\n",
        "ndf"
      ]
    },
    {
      "cell_type": "code",
      "execution_count": null,
      "metadata": {
        "colab": {
          "base_uri": "https://localhost:8080/"
        },
        "id": "EK3Mk2SMenth",
        "outputId": "2b3b3b47-84af-4879-e698-8f9eac57bfa8"
      },
      "outputs": [
        {
          "ename": "",
          "evalue": "",
          "output_type": "error",
          "traceback": [
            "\u001b[1;31mNo se pudo iniciar el Kernel. \n",
            "\u001b[1;31mEl servidor de Jupyter se bloqueó. No se puede conectar. \n",
            "\u001b[1;31mCódigo de error de Jupyter: 1\n",
            "\u001b[1;31mTraceback (most recent call last):\n",
            "\u001b[1;31m  File \"/Library/Frameworks/Python.framework/Versions/2.7/lib/python2.7/runpy.py\", line 174, in _run_module_as_main\n",
            "\u001b[1;31m\n",
            "\u001b[1;31m    \"__main__\", fname, loader, pkg_name)\n",
            "\u001b[1;31m  File \"/Library/Frameworks/Python.framework/Versions/2.7/lib/python2.7/runpy.py\", line 72, in _run_code\n",
            "\u001b[1;31m    exec code in run_globals\n",
            "\u001b[1;31m  File \"/Users/dmeneses/Library/Python/2.7/lib/python/site-packages/jupyter.py\", line 10, in <module>\n",
            "\u001b[1;31m    run_module('jupyter_core')\n",
            "\u001b[1;31m  File \"/Library/Frameworks/Python.framework/Versions/2.7/lib/python2.7/runpy.py\", line 192, in run_module\n",
            "\u001b[1;31m    fname, loader, pkg_name)\n",
            "\u001b[1;31m  File \"/Library/Frameworks/Python.framework/Versions/2.7/lib/python2.7/runpy.py\", line 72, in _run_code\n",
            "\u001b[1;31m    exec code in run_globals\n",
            "\u001b[1;31m  File \"/Users/dmeneses/Library/Python/2.7/lib/python/site-packages/jupyter_core/__main__.py\", line 3, in <module>\n",
            "\u001b[1;31m    main()\n",
            "\u001b[1;31m  File \"/Users/dmeneses/Library/Python/2.7/lib/python/site-packages/jupyter_core/command.py\", line 247, in main\n",
            "\u001b[1;31m\n",
            "\u001b[1;31m    command = _jupyter_abspath(subcommand)\n",
            "\u001b[1;31m  File \"/Users/dmeneses/Library/Python/2.7/lib/python/site-packages/jupyter_core/command.py\", line 134, in _jupyter_abspath\n",
            "\u001b[1;31m    'Jupyter command `{}` not found.'.format(jupyter_subcommand)\n",
            "\u001b[1;31mException: Jupyter command `jupyter-notebook` not found. \n",
            "\u001b[1;31mVea el [registro] de Jupyter (command:jupyter.viewOutput) para obtener más detalles."
          ]
        }
      ],
      "source": [
        "mm  = ndf.Origin.mode()\n",
        "mm"
      ]
    },
    {
      "cell_type": "code",
      "execution_count": null,
      "metadata": {
        "colab": {
          "base_uri": "https://localhost:8080/",
          "height": 185
        },
        "id": "FgssXUnwOf8s",
        "outputId": "5ae301e4-9979-4fe0-c40c-519d9d0d8410"
      },
      "outputs": [
        {
          "ename": "",
          "evalue": "",
          "output_type": "error",
          "traceback": [
            "\u001b[1;31mNo se pudo iniciar el Kernel. \n",
            "\u001b[1;31mEl servidor de Jupyter se bloqueó. No se puede conectar. \n",
            "\u001b[1;31mCódigo de error de Jupyter: 1\n",
            "\u001b[1;31mTraceback (most recent call last):\n",
            "\u001b[1;31m  File \"/Library/Frameworks/Python.framework/Versions/2.7/lib/python2.7/runpy.py\", line 174, in _run_module_as_main\n",
            "\u001b[1;31m\n",
            "\u001b[1;31m    \"__main__\", fname, loader, pkg_name)\n",
            "\u001b[1;31m  File \"/Library/Frameworks/Python.framework/Versions/2.7/lib/python2.7/runpy.py\", line 72, in _run_code\n",
            "\u001b[1;31m    exec code in run_globals\n",
            "\u001b[1;31m  File \"/Users/dmeneses/Library/Python/2.7/lib/python/site-packages/jupyter.py\", line 10, in <module>\n",
            "\u001b[1;31m    run_module('jupyter_core')\n",
            "\u001b[1;31m  File \"/Library/Frameworks/Python.framework/Versions/2.7/lib/python2.7/runpy.py\", line 192, in run_module\n",
            "\u001b[1;31m    fname, loader, pkg_name)\n",
            "\u001b[1;31m  File \"/Library/Frameworks/Python.framework/Versions/2.7/lib/python2.7/runpy.py\", line 72, in _run_code\n",
            "\u001b[1;31m    exec code in run_globals\n",
            "\u001b[1;31m  File \"/Users/dmeneses/Library/Python/2.7/lib/python/site-packages/jupyter_core/__main__.py\", line 3, in <module>\n",
            "\u001b[1;31m    main()\n",
            "\u001b[1;31m  File \"/Users/dmeneses/Library/Python/2.7/lib/python/site-packages/jupyter_core/command.py\", line 247, in main\n",
            "\u001b[1;31m\n",
            "\u001b[1;31m    command = _jupyter_abspath(subcommand)\n",
            "\u001b[1;31m  File \"/Users/dmeneses/Library/Python/2.7/lib/python/site-packages/jupyter_core/command.py\", line 134, in _jupyter_abspath\n",
            "\u001b[1;31m    'Jupyter command `{}` not found.'.format(jupyter_subcommand)\n",
            "\u001b[1;31mException: Jupyter command `jupyter-notebook` not found. \n",
            "\u001b[1;31mVea el [registro] de Jupyter (command:jupyter.viewOutput) para obtener más detalles."
          ]
        }
      ],
      "source": [
        "mm[1]"
      ]
    },
    {
      "cell_type": "code",
      "execution_count": null,
      "metadata": {
        "colab": {
          "base_uri": "https://localhost:8080/",
          "height": 295
        },
        "id": "wb6bCCyNeaBB",
        "outputId": "3ee637e5-d042-4f9f-f1ca-6463869c1c22"
      },
      "outputs": [
        {
          "ename": "",
          "evalue": "",
          "output_type": "error",
          "traceback": [
            "\u001b[1;31mNo se pudo iniciar el Kernel. \n",
            "\u001b[1;31mEl servidor de Jupyter se bloqueó. No se puede conectar. \n",
            "\u001b[1;31mCódigo de error de Jupyter: 1\n",
            "\u001b[1;31mTraceback (most recent call last):\n",
            "\u001b[1;31m  File \"/Library/Frameworks/Python.framework/Versions/2.7/lib/python2.7/runpy.py\", line 174, in _run_module_as_main\n",
            "\u001b[1;31m\n",
            "\u001b[1;31m    \"__main__\", fname, loader, pkg_name)\n",
            "\u001b[1;31m  File \"/Library/Frameworks/Python.framework/Versions/2.7/lib/python2.7/runpy.py\", line 72, in _run_code\n",
            "\u001b[1;31m    exec code in run_globals\n",
            "\u001b[1;31m  File \"/Users/dmeneses/Library/Python/2.7/lib/python/site-packages/jupyter.py\", line 10, in <module>\n",
            "\u001b[1;31m    run_module('jupyter_core')\n",
            "\u001b[1;31m  File \"/Library/Frameworks/Python.framework/Versions/2.7/lib/python2.7/runpy.py\", line 192, in run_module\n",
            "\u001b[1;31m    fname, loader, pkg_name)\n",
            "\u001b[1;31m  File \"/Library/Frameworks/Python.framework/Versions/2.7/lib/python2.7/runpy.py\", line 72, in _run_code\n",
            "\u001b[1;31m    exec code in run_globals\n",
            "\u001b[1;31m  File \"/Users/dmeneses/Library/Python/2.7/lib/python/site-packages/jupyter_core/__main__.py\", line 3, in <module>\n",
            "\u001b[1;31m    main()\n",
            "\u001b[1;31m  File \"/Users/dmeneses/Library/Python/2.7/lib/python/site-packages/jupyter_core/command.py\", line 247, in main\n",
            "\u001b[1;31m\n",
            "\u001b[1;31m    command = _jupyter_abspath(subcommand)\n",
            "\u001b[1;31m  File \"/Users/dmeneses/Library/Python/2.7/lib/python/site-packages/jupyter_core/command.py\", line 134, in _jupyter_abspath\n",
            "\u001b[1;31m    'Jupyter command `{}` not found.'.format(jupyter_subcommand)\n",
            "\u001b[1;31mException: Jupyter command `jupyter-notebook` not found. \n",
            "\u001b[1;31mVea el [registro] de Jupyter (command:jupyter.viewOutput) para obtener más detalles."
          ]
        }
      ],
      "source": [
        "ndf['Origin'].fillna(value = mm[1], #'NoPais', \n",
        "                    inplace = True)\n",
        "ndf"
      ]
    },
    {
      "cell_type": "code",
      "execution_count": null,
      "metadata": {
        "colab": {
          "base_uri": "https://localhost:8080/"
        },
        "id": "kGs1fmilewCT",
        "outputId": "45603930-0ca7-46e8-88e9-06ce63b93716"
      },
      "outputs": [
        {
          "ename": "",
          "evalue": "",
          "output_type": "error",
          "traceback": [
            "\u001b[1;31mNo se pudo iniciar el Kernel. \n",
            "\u001b[1;31mEl servidor de Jupyter se bloqueó. No se puede conectar. \n",
            "\u001b[1;31mCódigo de error de Jupyter: 1\n",
            "\u001b[1;31mTraceback (most recent call last):\n",
            "\u001b[1;31m  File \"/Library/Frameworks/Python.framework/Versions/2.7/lib/python2.7/runpy.py\", line 174, in _run_module_as_main\n",
            "\u001b[1;31m\n",
            "\u001b[1;31m    \"__main__\", fname, loader, pkg_name)\n",
            "\u001b[1;31m  File \"/Library/Frameworks/Python.framework/Versions/2.7/lib/python2.7/runpy.py\", line 72, in _run_code\n",
            "\u001b[1;31m    exec code in run_globals\n",
            "\u001b[1;31m  File \"/Users/dmeneses/Library/Python/2.7/lib/python/site-packages/jupyter.py\", line 10, in <module>\n",
            "\u001b[1;31m    run_module('jupyter_core')\n",
            "\u001b[1;31m  File \"/Library/Frameworks/Python.framework/Versions/2.7/lib/python2.7/runpy.py\", line 192, in run_module\n",
            "\u001b[1;31m    fname, loader, pkg_name)\n",
            "\u001b[1;31m  File \"/Library/Frameworks/Python.framework/Versions/2.7/lib/python2.7/runpy.py\", line 72, in _run_code\n",
            "\u001b[1;31m    exec code in run_globals\n",
            "\u001b[1;31m  File \"/Users/dmeneses/Library/Python/2.7/lib/python/site-packages/jupyter_core/__main__.py\", line 3, in <module>\n",
            "\u001b[1;31m    main()\n",
            "\u001b[1;31m  File \"/Users/dmeneses/Library/Python/2.7/lib/python/site-packages/jupyter_core/command.py\", line 247, in main\n",
            "\u001b[1;31m\n",
            "\u001b[1;31m    command = _jupyter_abspath(subcommand)\n",
            "\u001b[1;31m  File \"/Users/dmeneses/Library/Python/2.7/lib/python/site-packages/jupyter_core/command.py\", line 134, in _jupyter_abspath\n",
            "\u001b[1;31m    'Jupyter command `{}` not found.'.format(jupyter_subcommand)\n",
            "\u001b[1;31mException: Jupyter command `jupyter-notebook` not found. \n",
            "\u001b[1;31mVea el [registro] de Jupyter (command:jupyter.viewOutput) para obtener más detalles."
          ]
        }
      ],
      "source": [
        "ndf.isnull().values.any()"
      ]
    },
    {
      "cell_type": "code",
      "execution_count": null,
      "metadata": {
        "colab": {
          "base_uri": "https://localhost:8080/",
          "height": 295
        },
        "id": "sJl1S1AHXscC",
        "outputId": "ea65591f-57b3-482d-f1b6-87ed18f7cceb"
      },
      "outputs": [
        {
          "ename": "",
          "evalue": "",
          "output_type": "error",
          "traceback": [
            "\u001b[1;31mNo se pudo iniciar el Kernel. \n",
            "\u001b[1;31mEl servidor de Jupyter se bloqueó. No se puede conectar. \n",
            "\u001b[1;31mCódigo de error de Jupyter: 1\n",
            "\u001b[1;31mTraceback (most recent call last):\n",
            "\u001b[1;31m  File \"/Library/Frameworks/Python.framework/Versions/2.7/lib/python2.7/runpy.py\", line 174, in _run_module_as_main\n",
            "\u001b[1;31m\n",
            "\u001b[1;31m    \"__main__\", fname, loader, pkg_name)\n",
            "\u001b[1;31m  File \"/Library/Frameworks/Python.framework/Versions/2.7/lib/python2.7/runpy.py\", line 72, in _run_code\n",
            "\u001b[1;31m    exec code in run_globals\n",
            "\u001b[1;31m  File \"/Users/dmeneses/Library/Python/2.7/lib/python/site-packages/jupyter.py\", line 10, in <module>\n",
            "\u001b[1;31m    run_module('jupyter_core')\n",
            "\u001b[1;31m  File \"/Library/Frameworks/Python.framework/Versions/2.7/lib/python2.7/runpy.py\", line 192, in run_module\n",
            "\u001b[1;31m    fname, loader, pkg_name)\n",
            "\u001b[1;31m  File \"/Library/Frameworks/Python.framework/Versions/2.7/lib/python2.7/runpy.py\", line 72, in _run_code\n",
            "\u001b[1;31m    exec code in run_globals\n",
            "\u001b[1;31m  File \"/Users/dmeneses/Library/Python/2.7/lib/python/site-packages/jupyter_core/__main__.py\", line 3, in <module>\n",
            "\u001b[1;31m    main()\n",
            "\u001b[1;31m  File \"/Users/dmeneses/Library/Python/2.7/lib/python/site-packages/jupyter_core/command.py\", line 247, in main\n",
            "\u001b[1;31m\n",
            "\u001b[1;31m    command = _jupyter_abspath(subcommand)\n",
            "\u001b[1;31m  File \"/Users/dmeneses/Library/Python/2.7/lib/python/site-packages/jupyter_core/command.py\", line 134, in _jupyter_abspath\n",
            "\u001b[1;31m    'Jupyter command `{}` not found.'.format(jupyter_subcommand)\n",
            "\u001b[1;31mException: Jupyter command `jupyter-notebook` not found. \n",
            "\u001b[1;31mVea el [registro] de Jupyter (command:jupyter.viewOutput) para obtener más detalles."
          ]
        }
      ],
      "source": [
        "ndf = df.copy()\n",
        "ndf"
      ]
    },
    {
      "cell_type": "markdown",
      "metadata": {
        "id": "a6wUafblXw1W"
      },
      "source": [
        "Impute particular columns - "
      ]
    },
    {
      "cell_type": "code",
      "execution_count": null,
      "metadata": {
        "colab": {
          "base_uri": "https://localhost:8080/",
          "height": 234
        },
        "id": "bW3MrkWfX0aj",
        "outputId": "bf757119-bcc0-4e4a-eb04-114ee4d4ff5a"
      },
      "outputs": [
        {
          "ename": "",
          "evalue": "",
          "output_type": "error",
          "traceback": [
            "\u001b[1;31mNo se pudo iniciar el Kernel. \n",
            "\u001b[1;31mEl servidor de Jupyter se bloqueó. No se puede conectar. \n",
            "\u001b[1;31mCódigo de error de Jupyter: 1\n",
            "\u001b[1;31mTraceback (most recent call last):\n",
            "\u001b[1;31m  File \"/Library/Frameworks/Python.framework/Versions/2.7/lib/python2.7/runpy.py\", line 174, in _run_module_as_main\n",
            "\u001b[1;31m\n",
            "\u001b[1;31m    \"__main__\", fname, loader, pkg_name)\n",
            "\u001b[1;31m  File \"/Library/Frameworks/Python.framework/Versions/2.7/lib/python2.7/runpy.py\", line 72, in _run_code\n",
            "\u001b[1;31m    exec code in run_globals\n",
            "\u001b[1;31m  File \"/Users/dmeneses/Library/Python/2.7/lib/python/site-packages/jupyter.py\", line 10, in <module>\n",
            "\u001b[1;31m    run_module('jupyter_core')\n",
            "\u001b[1;31m  File \"/Library/Frameworks/Python.framework/Versions/2.7/lib/python2.7/runpy.py\", line 192, in run_module\n",
            "\u001b[1;31m    fname, loader, pkg_name)\n",
            "\u001b[1;31m  File \"/Library/Frameworks/Python.framework/Versions/2.7/lib/python2.7/runpy.py\", line 72, in _run_code\n",
            "\u001b[1;31m    exec code in run_globals\n",
            "\u001b[1;31m  File \"/Users/dmeneses/Library/Python/2.7/lib/python/site-packages/jupyter_core/__main__.py\", line 3, in <module>\n",
            "\u001b[1;31m    main()\n",
            "\u001b[1;31m  File \"/Users/dmeneses/Library/Python/2.7/lib/python/site-packages/jupyter_core/command.py\", line 247, in main\n",
            "\u001b[1;31m\n",
            "\u001b[1;31m    command = _jupyter_abspath(subcommand)\n",
            "\u001b[1;31m  File \"/Users/dmeneses/Library/Python/2.7/lib/python/site-packages/jupyter_core/command.py\", line 134, in _jupyter_abspath\n",
            "\u001b[1;31m    'Jupyter command `{}` not found.'.format(jupyter_subcommand)\n",
            "\u001b[1;31mException: Jupyter command `jupyter-notebook` not found. \n",
            "\u001b[1;31mVea el [registro] de Jupyter (command:jupyter.viewOutput) para obtener más detalles."
          ]
        }
      ],
      "source": [
        "ndf.dropna(subset=['Origin', 'Length'], inplace = True)\n",
        "ndf"
      ]
    },
    {
      "cell_type": "code",
      "execution_count": null,
      "metadata": {
        "colab": {
          "base_uri": "https://localhost:8080/",
          "height": 295
        },
        "id": "uRcPRyxGYEww",
        "outputId": "c1494e81-e551-497a-db23-0a1b04c086ff"
      },
      "outputs": [
        {
          "ename": "",
          "evalue": "",
          "output_type": "error",
          "traceback": [
            "\u001b[1;31mNo se pudo iniciar el Kernel. \n",
            "\u001b[1;31mEl servidor de Jupyter se bloqueó. No se puede conectar. \n",
            "\u001b[1;31mCódigo de error de Jupyter: 1\n",
            "\u001b[1;31mTraceback (most recent call last):\n",
            "\u001b[1;31m  File \"/Library/Frameworks/Python.framework/Versions/2.7/lib/python2.7/runpy.py\", line 174, in _run_module_as_main\n",
            "\u001b[1;31m\n",
            "\u001b[1;31m    \"__main__\", fname, loader, pkg_name)\n",
            "\u001b[1;31m  File \"/Library/Frameworks/Python.framework/Versions/2.7/lib/python2.7/runpy.py\", line 72, in _run_code\n",
            "\u001b[1;31m    exec code in run_globals\n",
            "\u001b[1;31m  File \"/Users/dmeneses/Library/Python/2.7/lib/python/site-packages/jupyter.py\", line 10, in <module>\n",
            "\u001b[1;31m    run_module('jupyter_core')\n",
            "\u001b[1;31m  File \"/Library/Frameworks/Python.framework/Versions/2.7/lib/python2.7/runpy.py\", line 192, in run_module\n",
            "\u001b[1;31m    fname, loader, pkg_name)\n",
            "\u001b[1;31m  File \"/Library/Frameworks/Python.framework/Versions/2.7/lib/python2.7/runpy.py\", line 72, in _run_code\n",
            "\u001b[1;31m    exec code in run_globals\n",
            "\u001b[1;31m  File \"/Users/dmeneses/Library/Python/2.7/lib/python/site-packages/jupyter_core/__main__.py\", line 3, in <module>\n",
            "\u001b[1;31m    main()\n",
            "\u001b[1;31m  File \"/Users/dmeneses/Library/Python/2.7/lib/python/site-packages/jupyter_core/command.py\", line 247, in main\n",
            "\u001b[1;31m\n",
            "\u001b[1;31m    command = _jupyter_abspath(subcommand)\n",
            "\u001b[1;31m  File \"/Users/dmeneses/Library/Python/2.7/lib/python/site-packages/jupyter_core/command.py\", line 134, in _jupyter_abspath\n",
            "\u001b[1;31m    'Jupyter command `{}` not found.'.format(jupyter_subcommand)\n",
            "\u001b[1;31mException: Jupyter command `jupyter-notebook` not found. \n",
            "\u001b[1;31mVea el [registro] de Jupyter (command:jupyter.viewOutput) para obtener más detalles."
          ]
        }
      ],
      "source": [
        "ndf = df.copy()\n",
        "ndf"
      ]
    },
    {
      "cell_type": "markdown",
      "metadata": {
        "id": "Kzg6taAKYjiH"
      },
      "source": [
        "Fill values in each column with favorite strategy: "
      ]
    },
    {
      "cell_type": "code",
      "execution_count": null,
      "metadata": {
        "colab": {
          "base_uri": "https://localhost:8080/",
          "height": 169
        },
        "id": "Ufp1EYbeY-tc",
        "outputId": "804c761c-fc90-4661-ae22-8a51e965d558"
      },
      "outputs": [
        {
          "ename": "",
          "evalue": "",
          "output_type": "error",
          "traceback": [
            "\u001b[1;31mNo se pudo iniciar el Kernel. \n",
            "\u001b[1;31mEl servidor de Jupyter se bloqueó. No se puede conectar. \n",
            "\u001b[1;31mCódigo de error de Jupyter: 1\n",
            "\u001b[1;31mTraceback (most recent call last):\n",
            "\u001b[1;31m  File \"/Library/Frameworks/Python.framework/Versions/2.7/lib/python2.7/runpy.py\", line 174, in _run_module_as_main\n",
            "\u001b[1;31m\n",
            "\u001b[1;31m    \"__main__\", fname, loader, pkg_name)\n",
            "\u001b[1;31m  File \"/Library/Frameworks/Python.framework/Versions/2.7/lib/python2.7/runpy.py\", line 72, in _run_code\n",
            "\u001b[1;31m    exec code in run_globals\n",
            "\u001b[1;31m  File \"/Users/dmeneses/Library/Python/2.7/lib/python/site-packages/jupyter.py\", line 10, in <module>\n",
            "\u001b[1;31m    run_module('jupyter_core')\n",
            "\u001b[1;31m  File \"/Library/Frameworks/Python.framework/Versions/2.7/lib/python2.7/runpy.py\", line 192, in run_module\n",
            "\u001b[1;31m    fname, loader, pkg_name)\n",
            "\u001b[1;31m  File \"/Library/Frameworks/Python.framework/Versions/2.7/lib/python2.7/runpy.py\", line 72, in _run_code\n",
            "\u001b[1;31m    exec code in run_globals\n",
            "\u001b[1;31m  File \"/Users/dmeneses/Library/Python/2.7/lib/python/site-packages/jupyter_core/__main__.py\", line 3, in <module>\n",
            "\u001b[1;31m    main()\n",
            "\u001b[1;31m  File \"/Users/dmeneses/Library/Python/2.7/lib/python/site-packages/jupyter_core/command.py\", line 247, in main\n",
            "\u001b[1;31m\n",
            "\u001b[1;31m    command = _jupyter_abspath(subcommand)\n",
            "\u001b[1;31m  File \"/Users/dmeneses/Library/Python/2.7/lib/python/site-packages/jupyter_core/command.py\", line 134, in _jupyter_abspath\n",
            "\u001b[1;31m    'Jupyter command `{}` not found.'.format(jupyter_subcommand)\n",
            "\u001b[1;31mException: Jupyter command `jupyter-notebook` not found. \n",
            "\u001b[1;31mVea el [registro] de Jupyter (command:jupyter.viewOutput) para obtener más detalles."
          ]
        }
      ],
      "source": [
        "ndf.Origin.mode()[0]"
      ]
    },
    {
      "cell_type": "code",
      "execution_count": null,
      "metadata": {
        "id": "o45pXlnJYojU",
        "outputId": "95729b70-1c28-481e-a830-94968412932b"
      },
      "outputs": [
        {
          "ename": "",
          "evalue": "",
          "output_type": "error",
          "traceback": [
            "\u001b[1;31mNo se pudo iniciar el Kernel. \n",
            "\u001b[1;31mEl servidor de Jupyter se bloqueó. No se puede conectar. \n",
            "\u001b[1;31mCódigo de error de Jupyter: 1\n",
            "\u001b[1;31mTraceback (most recent call last):\n",
            "\u001b[1;31m  File \"/Library/Frameworks/Python.framework/Versions/2.7/lib/python2.7/runpy.py\", line 174, in _run_module_as_main\n",
            "\u001b[1;31m\n",
            "\u001b[1;31m    \"__main__\", fname, loader, pkg_name)\n",
            "\u001b[1;31m  File \"/Library/Frameworks/Python.framework/Versions/2.7/lib/python2.7/runpy.py\", line 72, in _run_code\n",
            "\u001b[1;31m    exec code in run_globals\n",
            "\u001b[1;31m  File \"/Users/dmeneses/Library/Python/2.7/lib/python/site-packages/jupyter.py\", line 10, in <module>\n",
            "\u001b[1;31m    run_module('jupyter_core')\n",
            "\u001b[1;31m  File \"/Library/Frameworks/Python.framework/Versions/2.7/lib/python2.7/runpy.py\", line 192, in run_module\n",
            "\u001b[1;31m    fname, loader, pkg_name)\n",
            "\u001b[1;31m  File \"/Library/Frameworks/Python.framework/Versions/2.7/lib/python2.7/runpy.py\", line 72, in _run_code\n",
            "\u001b[1;31m    exec code in run_globals\n",
            "\u001b[1;31m  File \"/Users/dmeneses/Library/Python/2.7/lib/python/site-packages/jupyter_core/__main__.py\", line 3, in <module>\n",
            "\u001b[1;31m    main()\n",
            "\u001b[1;31m  File \"/Users/dmeneses/Library/Python/2.7/lib/python/site-packages/jupyter_core/command.py\", line 247, in main\n",
            "\u001b[1;31m\n",
            "\u001b[1;31m    command = _jupyter_abspath(subcommand)\n",
            "\u001b[1;31m  File \"/Users/dmeneses/Library/Python/2.7/lib/python/site-packages/jupyter_core/command.py\", line 134, in _jupyter_abspath\n",
            "\u001b[1;31m    'Jupyter command `{}` not found.'.format(jupyter_subcommand)\n",
            "\u001b[1;31mException: Jupyter command `jupyter-notebook` not found. \n",
            "\u001b[1;31mVea el [registro] de Jupyter (command:jupyter.viewOutput) para obtener más detalles."
          ]
        }
      ],
      "source": [
        "favs = {'Origin': ndf.Origin.mode()[0], 'Length': ndf['Length'].mean()}"
      ]
    },
    {
      "cell_type": "code",
      "execution_count": null,
      "metadata": {
        "colab": {
          "base_uri": "https://localhost:8080/",
          "height": 295
        },
        "id": "e6xF8jGdYIa7",
        "outputId": "ef9021f1-307d-4cb6-f37d-56d9537435d4"
      },
      "outputs": [
        {
          "ename": "",
          "evalue": "",
          "output_type": "error",
          "traceback": [
            "\u001b[1;31mNo se pudo iniciar el Kernel. \n",
            "\u001b[1;31mEl servidor de Jupyter se bloqueó. No se puede conectar. \n",
            "\u001b[1;31mCódigo de error de Jupyter: 1\n",
            "\u001b[1;31mTraceback (most recent call last):\n",
            "\u001b[1;31m  File \"/Library/Frameworks/Python.framework/Versions/2.7/lib/python2.7/runpy.py\", line 174, in _run_module_as_main\n",
            "\u001b[1;31m\n",
            "\u001b[1;31m    \"__main__\", fname, loader, pkg_name)\n",
            "\u001b[1;31m  File \"/Library/Frameworks/Python.framework/Versions/2.7/lib/python2.7/runpy.py\", line 72, in _run_code\n",
            "\u001b[1;31m    exec code in run_globals\n",
            "\u001b[1;31m  File \"/Users/dmeneses/Library/Python/2.7/lib/python/site-packages/jupyter.py\", line 10, in <module>\n",
            "\u001b[1;31m    run_module('jupyter_core')\n",
            "\u001b[1;31m  File \"/Library/Frameworks/Python.framework/Versions/2.7/lib/python2.7/runpy.py\", line 192, in run_module\n",
            "\u001b[1;31m    fname, loader, pkg_name)\n",
            "\u001b[1;31m  File \"/Library/Frameworks/Python.framework/Versions/2.7/lib/python2.7/runpy.py\", line 72, in _run_code\n",
            "\u001b[1;31m    exec code in run_globals\n",
            "\u001b[1;31m  File \"/Users/dmeneses/Library/Python/2.7/lib/python/site-packages/jupyter_core/__main__.py\", line 3, in <module>\n",
            "\u001b[1;31m    main()\n",
            "\u001b[1;31m  File \"/Users/dmeneses/Library/Python/2.7/lib/python/site-packages/jupyter_core/command.py\", line 247, in main\n",
            "\u001b[1;31m\n",
            "\u001b[1;31m    command = _jupyter_abspath(subcommand)\n",
            "\u001b[1;31m  File \"/Users/dmeneses/Library/Python/2.7/lib/python/site-packages/jupyter_core/command.py\", line 134, in _jupyter_abspath\n",
            "\u001b[1;31m    'Jupyter command `{}` not found.'.format(jupyter_subcommand)\n",
            "\u001b[1;31mException: Jupyter command `jupyter-notebook` not found. \n",
            "\u001b[1;31mVea el [registro] de Jupyter (command:jupyter.viewOutput) para obtener más detalles."
          ]
        }
      ],
      "source": [
        "ndf.Origin.fillna(ndf.Origin.mode()[0], inplace=True)\n",
        "ndf.Length.fillna(ndf.Length.mean(), inplace=True)\n",
        "ndf"
      ]
    },
    {
      "cell_type": "markdown",
      "metadata": {
        "id": "Tzh2xKksPzQd"
      },
      "source": [
        "more on `fillna` method : https://pandas.pydata.org/docs/reference/api/pandas.DataFrame.fillna.html\n",
        "\n",
        "More on Imputing strategies: https://www.theanalysisfactor.com/seven-ways-to-make-up-data-common-methods-to-imputing-missing-data/"
      ]
    },
    {
      "cell_type": "markdown",
      "metadata": {
        "id": "SQ06PX_mUa4B"
      },
      "source": [
        "## ¿Cuándo es una mediana mejor en comparación con la media?"
      ]
    },
    {
      "cell_type": "code",
      "execution_count": null,
      "metadata": {
        "colab": {
          "base_uri": "https://localhost:8080/",
          "height": 261
        },
        "id": "7dK-WUW1UlFv",
        "outputId": "74ed9d6c-6c2a-4ab3-f30e-22df5819d5ef"
      },
      "outputs": [
        {
          "ename": "",
          "evalue": "",
          "output_type": "error",
          "traceback": [
            "\u001b[1;31mNo se pudo iniciar el Kernel. \n",
            "\u001b[1;31mEl servidor de Jupyter se bloqueó. No se puede conectar. \n",
            "\u001b[1;31mCódigo de error de Jupyter: 1\n",
            "\u001b[1;31mTraceback (most recent call last):\n",
            "\u001b[1;31m  File \"/Library/Frameworks/Python.framework/Versions/2.7/lib/python2.7/runpy.py\", line 174, in _run_module_as_main\n",
            "\u001b[1;31m\n",
            "\u001b[1;31m    \"__main__\", fname, loader, pkg_name)\n",
            "\u001b[1;31m  File \"/Library/Frameworks/Python.framework/Versions/2.7/lib/python2.7/runpy.py\", line 72, in _run_code\n",
            "\u001b[1;31m    exec code in run_globals\n",
            "\u001b[1;31m  File \"/Users/dmeneses/Library/Python/2.7/lib/python/site-packages/jupyter.py\", line 10, in <module>\n",
            "\u001b[1;31m    run_module('jupyter_core')\n",
            "\u001b[1;31m  File \"/Library/Frameworks/Python.framework/Versions/2.7/lib/python2.7/runpy.py\", line 192, in run_module\n",
            "\u001b[1;31m    fname, loader, pkg_name)\n",
            "\u001b[1;31m  File \"/Library/Frameworks/Python.framework/Versions/2.7/lib/python2.7/runpy.py\", line 72, in _run_code\n",
            "\u001b[1;31m    exec code in run_globals\n",
            "\u001b[1;31m  File \"/Users/dmeneses/Library/Python/2.7/lib/python/site-packages/jupyter_core/__main__.py\", line 3, in <module>\n",
            "\u001b[1;31m    main()\n",
            "\u001b[1;31m  File \"/Users/dmeneses/Library/Python/2.7/lib/python/site-packages/jupyter_core/command.py\", line 247, in main\n",
            "\u001b[1;31m\n",
            "\u001b[1;31m    command = _jupyter_abspath(subcommand)\n",
            "\u001b[1;31m  File \"/Users/dmeneses/Library/Python/2.7/lib/python/site-packages/jupyter_core/command.py\", line 134, in _jupyter_abspath\n",
            "\u001b[1;31m    'Jupyter command `{}` not found.'.format(jupyter_subcommand)\n",
            "\u001b[1;31mException: Jupyter command `jupyter-notebook` not found. \n",
            "\u001b[1;31mVea el [registro] de Jupyter (command:jupyter.viewOutput) para obtener más detalles."
          ]
        }
      ],
      "source": [
        "data = {'Salary':  [28, 30, 30, 35, 37, 40, 400]\n",
        "}\n",
        "adf = pd.DataFrame(data)\n",
        "adf"
      ]
    },
    {
      "cell_type": "code",
      "execution_count": null,
      "metadata": {
        "colab": {
          "base_uri": "https://localhost:8080/",
          "height": 291
        },
        "id": "IDw-HDT3U9fT",
        "outputId": "3ed14a36-757d-4609-ee09-39d4540fa281"
      },
      "outputs": [
        {
          "ename": "",
          "evalue": "",
          "output_type": "error",
          "traceback": [
            "\u001b[1;31mNo se pudo iniciar el Kernel. \n",
            "\u001b[1;31mEl servidor de Jupyter se bloqueó. No se puede conectar. \n",
            "\u001b[1;31mCódigo de error de Jupyter: 1\n",
            "\u001b[1;31mTraceback (most recent call last):\n",
            "\u001b[1;31m  File \"/Library/Frameworks/Python.framework/Versions/2.7/lib/python2.7/runpy.py\", line 174, in _run_module_as_main\n",
            "\u001b[1;31m\n",
            "\u001b[1;31m    \"__main__\", fname, loader, pkg_name)\n",
            "\u001b[1;31m  File \"/Library/Frameworks/Python.framework/Versions/2.7/lib/python2.7/runpy.py\", line 72, in _run_code\n",
            "\u001b[1;31m    exec code in run_globals\n",
            "\u001b[1;31m  File \"/Users/dmeneses/Library/Python/2.7/lib/python/site-packages/jupyter.py\", line 10, in <module>\n",
            "\u001b[1;31m    run_module('jupyter_core')\n",
            "\u001b[1;31m  File \"/Library/Frameworks/Python.framework/Versions/2.7/lib/python2.7/runpy.py\", line 192, in run_module\n",
            "\u001b[1;31m    fname, loader, pkg_name)\n",
            "\u001b[1;31m  File \"/Library/Frameworks/Python.framework/Versions/2.7/lib/python2.7/runpy.py\", line 72, in _run_code\n",
            "\u001b[1;31m    exec code in run_globals\n",
            "\u001b[1;31m  File \"/Users/dmeneses/Library/Python/2.7/lib/python/site-packages/jupyter_core/__main__.py\", line 3, in <module>\n",
            "\u001b[1;31m    main()\n",
            "\u001b[1;31m  File \"/Users/dmeneses/Library/Python/2.7/lib/python/site-packages/jupyter_core/command.py\", line 247, in main\n",
            "\u001b[1;31m\n",
            "\u001b[1;31m    command = _jupyter_abspath(subcommand)\n",
            "\u001b[1;31m  File \"/Users/dmeneses/Library/Python/2.7/lib/python/site-packages/jupyter_core/command.py\", line 134, in _jupyter_abspath\n",
            "\u001b[1;31m    'Jupyter command `{}` not found.'.format(jupyter_subcommand)\n",
            "\u001b[1;31mException: Jupyter command `jupyter-notebook` not found. \n",
            "\u001b[1;31mVea el [registro] de Jupyter (command:jupyter.viewOutput) para obtener más detalles."
          ]
        }
      ],
      "source": [
        "adf.describe()"
      ]
    },
    {
      "cell_type": "markdown",
      "metadata": {
        "id": "f_h9Q13FbAKV"
      },
      "source": [
        "### Para seleccionar las columnas de la base de datos, puede usar la siguiente codigos: \n",
        "\n"
      ]
    },
    {
      "cell_type": "code",
      "execution_count": null,
      "metadata": {
        "colab": {
          "base_uri": "https://localhost:8080/",
          "height": 295
        },
        "id": "2hG-7VtCZH1r",
        "outputId": "334987ca-b2ce-4bb5-ed56-113fd2edf296"
      },
      "outputs": [
        {
          "ename": "",
          "evalue": "",
          "output_type": "error",
          "traceback": [
            "\u001b[1;31mNo se pudo iniciar el Kernel. \n",
            "\u001b[1;31mEl servidor de Jupyter se bloqueó. No se puede conectar. \n",
            "\u001b[1;31mCódigo de error de Jupyter: 1\n",
            "\u001b[1;31mTraceback (most recent call last):\n",
            "\u001b[1;31m  File \"/Library/Frameworks/Python.framework/Versions/2.7/lib/python2.7/runpy.py\", line 174, in _run_module_as_main\n",
            "\u001b[1;31m\n",
            "\u001b[1;31m    \"__main__\", fname, loader, pkg_name)\n",
            "\u001b[1;31m  File \"/Library/Frameworks/Python.framework/Versions/2.7/lib/python2.7/runpy.py\", line 72, in _run_code\n",
            "\u001b[1;31m    exec code in run_globals\n",
            "\u001b[1;31m  File \"/Users/dmeneses/Library/Python/2.7/lib/python/site-packages/jupyter.py\", line 10, in <module>\n",
            "\u001b[1;31m    run_module('jupyter_core')\n",
            "\u001b[1;31m  File \"/Library/Frameworks/Python.framework/Versions/2.7/lib/python2.7/runpy.py\", line 192, in run_module\n",
            "\u001b[1;31m    fname, loader, pkg_name)\n",
            "\u001b[1;31m  File \"/Library/Frameworks/Python.framework/Versions/2.7/lib/python2.7/runpy.py\", line 72, in _run_code\n",
            "\u001b[1;31m    exec code in run_globals\n",
            "\u001b[1;31m  File \"/Users/dmeneses/Library/Python/2.7/lib/python/site-packages/jupyter_core/__main__.py\", line 3, in <module>\n",
            "\u001b[1;31m    main()\n",
            "\u001b[1;31m  File \"/Users/dmeneses/Library/Python/2.7/lib/python/site-packages/jupyter_core/command.py\", line 247, in main\n",
            "\u001b[1;31m\n",
            "\u001b[1;31m    command = _jupyter_abspath(subcommand)\n",
            "\u001b[1;31m  File \"/Users/dmeneses/Library/Python/2.7/lib/python/site-packages/jupyter_core/command.py\", line 134, in _jupyter_abspath\n",
            "\u001b[1;31m    'Jupyter command `{}` not found.'.format(jupyter_subcommand)\n",
            "\u001b[1;31mException: Jupyter command `jupyter-notebook` not found. \n",
            "\u001b[1;31mVea el [registro] de Jupyter (command:jupyter.viewOutput) para obtener más detalles."
          ]
        }
      ],
      "source": [
        "df = pd.read_csv('/content/data.csv', index_col=0)\n",
        "ndf = df.copy()\n",
        "ndf"
      ]
    },
    {
      "cell_type": "markdown",
      "metadata": {
        "id": "kBIJJ9HpZ1H0"
      },
      "source": [
        "** Syntaxis ** de loc & iloc\n",
        "\n",
        "* loc : If you use, `loc`, use the `names`\n",
        "\n",
        "> df.`loc` [ row-start:row-end,  column-start:column_end]  \n",
        "\n",
        "\n",
        "\n",
        "* iloc : If you use, `loc`, use the `indices`\n",
        "\n",
        "> df.`iloc` [row-start:row-end, column-start:columnEnd]  "
      ]
    },
    {
      "cell_type": "code",
      "execution_count": null,
      "metadata": {
        "colab": {
          "base_uri": "https://localhost:8080/"
        },
        "id": "Qj4lJSbub57y",
        "outputId": "b19ef46e-3c2f-4187-db0a-57b951e9db06"
      },
      "outputs": [
        {
          "ename": "",
          "evalue": "",
          "output_type": "error",
          "traceback": [
            "\u001b[1;31mNo se pudo iniciar el Kernel. \n",
            "\u001b[1;31mEl servidor de Jupyter se bloqueó. No se puede conectar. \n",
            "\u001b[1;31mCódigo de error de Jupyter: 1\n",
            "\u001b[1;31mTraceback (most recent call last):\n",
            "\u001b[1;31m  File \"/Library/Frameworks/Python.framework/Versions/2.7/lib/python2.7/runpy.py\", line 174, in _run_module_as_main\n",
            "\u001b[1;31m\n",
            "\u001b[1;31m    \"__main__\", fname, loader, pkg_name)\n",
            "\u001b[1;31m  File \"/Library/Frameworks/Python.framework/Versions/2.7/lib/python2.7/runpy.py\", line 72, in _run_code\n",
            "\u001b[1;31m    exec code in run_globals\n",
            "\u001b[1;31m  File \"/Users/dmeneses/Library/Python/2.7/lib/python/site-packages/jupyter.py\", line 10, in <module>\n",
            "\u001b[1;31m    run_module('jupyter_core')\n",
            "\u001b[1;31m  File \"/Library/Frameworks/Python.framework/Versions/2.7/lib/python2.7/runpy.py\", line 192, in run_module\n",
            "\u001b[1;31m    fname, loader, pkg_name)\n",
            "\u001b[1;31m  File \"/Library/Frameworks/Python.framework/Versions/2.7/lib/python2.7/runpy.py\", line 72, in _run_code\n",
            "\u001b[1;31m    exec code in run_globals\n",
            "\u001b[1;31m  File \"/Users/dmeneses/Library/Python/2.7/lib/python/site-packages/jupyter_core/__main__.py\", line 3, in <module>\n",
            "\u001b[1;31m    main()\n",
            "\u001b[1;31m  File \"/Users/dmeneses/Library/Python/2.7/lib/python/site-packages/jupyter_core/command.py\", line 247, in main\n",
            "\u001b[1;31m\n",
            "\u001b[1;31m    command = _jupyter_abspath(subcommand)\n",
            "\u001b[1;31m  File \"/Users/dmeneses/Library/Python/2.7/lib/python/site-packages/jupyter_core/command.py\", line 134, in _jupyter_abspath\n",
            "\u001b[1;31m    'Jupyter command `{}` not found.'.format(jupyter_subcommand)\n",
            "\u001b[1;31mException: Jupyter command `jupyter-notebook` not found. \n",
            "\u001b[1;31mVea el [registro] de Jupyter (command:jupyter.viewOutput) para obtener más detalles."
          ]
        }
      ],
      "source": [
        "ndf.columns"
      ]
    },
    {
      "cell_type": "code",
      "execution_count": null,
      "metadata": {
        "colab": {
          "base_uri": "https://localhost:8080/"
        },
        "id": "Ava0RdT1b9_m",
        "outputId": "f401e226-0a6d-4c5a-c999-71ac9a4ef68f"
      },
      "outputs": [
        {
          "ename": "",
          "evalue": "",
          "output_type": "error",
          "traceback": [
            "\u001b[1;31mNo se pudo iniciar el Kernel. \n",
            "\u001b[1;31mEl servidor de Jupyter se bloqueó. No se puede conectar. \n",
            "\u001b[1;31mCódigo de error de Jupyter: 1\n",
            "\u001b[1;31mTraceback (most recent call last):\n",
            "\u001b[1;31m  File \"/Library/Frameworks/Python.framework/Versions/2.7/lib/python2.7/runpy.py\", line 174, in _run_module_as_main\n",
            "\u001b[1;31m\n",
            "\u001b[1;31m    \"__main__\", fname, loader, pkg_name)\n",
            "\u001b[1;31m  File \"/Library/Frameworks/Python.framework/Versions/2.7/lib/python2.7/runpy.py\", line 72, in _run_code\n",
            "\u001b[1;31m    exec code in run_globals\n",
            "\u001b[1;31m  File \"/Users/dmeneses/Library/Python/2.7/lib/python/site-packages/jupyter.py\", line 10, in <module>\n",
            "\u001b[1;31m    run_module('jupyter_core')\n",
            "\u001b[1;31m  File \"/Library/Frameworks/Python.framework/Versions/2.7/lib/python2.7/runpy.py\", line 192, in run_module\n",
            "\u001b[1;31m    fname, loader, pkg_name)\n",
            "\u001b[1;31m  File \"/Library/Frameworks/Python.framework/Versions/2.7/lib/python2.7/runpy.py\", line 72, in _run_code\n",
            "\u001b[1;31m    exec code in run_globals\n",
            "\u001b[1;31m  File \"/Users/dmeneses/Library/Python/2.7/lib/python/site-packages/jupyter_core/__main__.py\", line 3, in <module>\n",
            "\u001b[1;31m    main()\n",
            "\u001b[1;31m  File \"/Users/dmeneses/Library/Python/2.7/lib/python/site-packages/jupyter_core/command.py\", line 247, in main\n",
            "\u001b[1;31m\n",
            "\u001b[1;31m    command = _jupyter_abspath(subcommand)\n",
            "\u001b[1;31m  File \"/Users/dmeneses/Library/Python/2.7/lib/python/site-packages/jupyter_core/command.py\", line 134, in _jupyter_abspath\n",
            "\u001b[1;31m    'Jupyter command `{}` not found.'.format(jupyter_subcommand)\n",
            "\u001b[1;31mException: Jupyter command `jupyter-notebook` not found. \n",
            "\u001b[1;31mVea el [registro] de Jupyter (command:jupyter.viewOutput) para obtener más detalles."
          ]
        }
      ],
      "source": [
        "ndf.columns.sort_values()"
      ]
    },
    {
      "cell_type": "code",
      "execution_count": null,
      "metadata": {
        "colab": {
          "base_uri": "https://localhost:8080/",
          "height": 234
        },
        "id": "L9nhEa2CZJkQ",
        "outputId": "49f14b0a-d030-48a6-c362-559905e62cbb"
      },
      "outputs": [
        {
          "ename": "",
          "evalue": "",
          "output_type": "error",
          "traceback": [
            "\u001b[1;31mNo se pudo iniciar el Kernel. \n",
            "\u001b[1;31mEl servidor de Jupyter se bloqueó. No se puede conectar. \n",
            "\u001b[1;31mCódigo de error de Jupyter: 1\n",
            "\u001b[1;31mTraceback (most recent call last):\n",
            "\u001b[1;31m  File \"/Library/Frameworks/Python.framework/Versions/2.7/lib/python2.7/runpy.py\", line 174, in _run_module_as_main\n",
            "\u001b[1;31m\n",
            "\u001b[1;31m    \"__main__\", fname, loader, pkg_name)\n",
            "\u001b[1;31m  File \"/Library/Frameworks/Python.framework/Versions/2.7/lib/python2.7/runpy.py\", line 72, in _run_code\n",
            "\u001b[1;31m    exec code in run_globals\n",
            "\u001b[1;31m  File \"/Users/dmeneses/Library/Python/2.7/lib/python/site-packages/jupyter.py\", line 10, in <module>\n",
            "\u001b[1;31m    run_module('jupyter_core')\n",
            "\u001b[1;31m  File \"/Library/Frameworks/Python.framework/Versions/2.7/lib/python2.7/runpy.py\", line 192, in run_module\n",
            "\u001b[1;31m    fname, loader, pkg_name)\n",
            "\u001b[1;31m  File \"/Library/Frameworks/Python.framework/Versions/2.7/lib/python2.7/runpy.py\", line 72, in _run_code\n",
            "\u001b[1;31m    exec code in run_globals\n",
            "\u001b[1;31m  File \"/Users/dmeneses/Library/Python/2.7/lib/python/site-packages/jupyter_core/__main__.py\", line 3, in <module>\n",
            "\u001b[1;31m    main()\n",
            "\u001b[1;31m  File \"/Users/dmeneses/Library/Python/2.7/lib/python/site-packages/jupyter_core/command.py\", line 247, in main\n",
            "\u001b[1;31m\n",
            "\u001b[1;31m    command = _jupyter_abspath(subcommand)\n",
            "\u001b[1;31m  File \"/Users/dmeneses/Library/Python/2.7/lib/python/site-packages/jupyter_core/command.py\", line 134, in _jupyter_abspath\n",
            "\u001b[1;31m    'Jupyter command `{}` not found.'.format(jupyter_subcommand)\n",
            "\u001b[1;31mException: Jupyter command `jupyter-notebook` not found. \n",
            "\u001b[1;31mVea el [registro] de Jupyter (command:jupyter.viewOutput) para obtener más detalles."
          ]
        }
      ],
      "source": [
        "ndf.loc[2:5 , 'Company':'Origin']  # rows 2 to 5, columns  'Company' to 'Origin'"
      ]
    },
    {
      "cell_type": "code",
      "execution_count": null,
      "metadata": {
        "id": "tJZjKFClbeGp",
        "outputId": "4bdd8a80-06b8-4811-d2c1-c2758189d217"
      },
      "outputs": [
        {
          "ename": "",
          "evalue": "",
          "output_type": "error",
          "traceback": [
            "\u001b[1;31mNo se pudo iniciar el Kernel. \n",
            "\u001b[1;31mEl servidor de Jupyter se bloqueó. No se puede conectar. \n",
            "\u001b[1;31mCódigo de error de Jupyter: 1\n",
            "\u001b[1;31mTraceback (most recent call last):\n",
            "\u001b[1;31m  File \"/Library/Frameworks/Python.framework/Versions/2.7/lib/python2.7/runpy.py\", line 174, in _run_module_as_main\n",
            "\u001b[1;31m\n",
            "\u001b[1;31m    \"__main__\", fname, loader, pkg_name)\n",
            "\u001b[1;31m  File \"/Library/Frameworks/Python.framework/Versions/2.7/lib/python2.7/runpy.py\", line 72, in _run_code\n",
            "\u001b[1;31m    exec code in run_globals\n",
            "\u001b[1;31m  File \"/Users/dmeneses/Library/Python/2.7/lib/python/site-packages/jupyter.py\", line 10, in <module>\n",
            "\u001b[1;31m    run_module('jupyter_core')\n",
            "\u001b[1;31m  File \"/Library/Frameworks/Python.framework/Versions/2.7/lib/python2.7/runpy.py\", line 192, in run_module\n",
            "\u001b[1;31m    fname, loader, pkg_name)\n",
            "\u001b[1;31m  File \"/Library/Frameworks/Python.framework/Versions/2.7/lib/python2.7/runpy.py\", line 72, in _run_code\n",
            "\u001b[1;31m    exec code in run_globals\n",
            "\u001b[1;31m  File \"/Users/dmeneses/Library/Python/2.7/lib/python/site-packages/jupyter_core/__main__.py\", line 3, in <module>\n",
            "\u001b[1;31m    main()\n",
            "\u001b[1;31m  File \"/Users/dmeneses/Library/Python/2.7/lib/python/site-packages/jupyter_core/command.py\", line 247, in main\n",
            "\u001b[1;31m\n",
            "\u001b[1;31m    command = _jupyter_abspath(subcommand)\n",
            "\u001b[1;31m  File \"/Users/dmeneses/Library/Python/2.7/lib/python/site-packages/jupyter_core/command.py\", line 134, in _jupyter_abspath\n",
            "\u001b[1;31m    'Jupyter command `{}` not found.'.format(jupyter_subcommand)\n",
            "\u001b[1;31mException: Jupyter command `jupyter-notebook` not found. \n",
            "\u001b[1;31mVea el [registro] de Jupyter (command:jupyter.viewOutput) para obtener más detalles."
          ]
        }
      ],
      "source": [
        "favs = ['Stars', 'Weight', 'Origin']"
      ]
    },
    {
      "cell_type": "code",
      "execution_count": null,
      "metadata": {
        "colab": {
          "base_uri": "https://localhost:8080/",
          "height": 234
        },
        "id": "qMEO9uiKayHi",
        "outputId": "98aae247-0283-4c35-f0bf-637cf621b774"
      },
      "outputs": [
        {
          "ename": "",
          "evalue": "",
          "output_type": "error",
          "traceback": [
            "\u001b[1;31mNo se pudo iniciar el Kernel. \n",
            "\u001b[1;31mEl servidor de Jupyter se bloqueó. No se puede conectar. \n",
            "\u001b[1;31mCódigo de error de Jupyter: 1\n",
            "\u001b[1;31mTraceback (most recent call last):\n",
            "\u001b[1;31m  File \"/Library/Frameworks/Python.framework/Versions/2.7/lib/python2.7/runpy.py\", line 174, in _run_module_as_main\n",
            "\u001b[1;31m\n",
            "\u001b[1;31m    \"__main__\", fname, loader, pkg_name)\n",
            "\u001b[1;31m  File \"/Library/Frameworks/Python.framework/Versions/2.7/lib/python2.7/runpy.py\", line 72, in _run_code\n",
            "\u001b[1;31m    exec code in run_globals\n",
            "\u001b[1;31m  File \"/Users/dmeneses/Library/Python/2.7/lib/python/site-packages/jupyter.py\", line 10, in <module>\n",
            "\u001b[1;31m    run_module('jupyter_core')\n",
            "\u001b[1;31m  File \"/Library/Frameworks/Python.framework/Versions/2.7/lib/python2.7/runpy.py\", line 192, in run_module\n",
            "\u001b[1;31m    fname, loader, pkg_name)\n",
            "\u001b[1;31m  File \"/Library/Frameworks/Python.framework/Versions/2.7/lib/python2.7/runpy.py\", line 72, in _run_code\n",
            "\u001b[1;31m    exec code in run_globals\n",
            "\u001b[1;31m  File \"/Users/dmeneses/Library/Python/2.7/lib/python/site-packages/jupyter_core/__main__.py\", line 3, in <module>\n",
            "\u001b[1;31m    main()\n",
            "\u001b[1;31m  File \"/Users/dmeneses/Library/Python/2.7/lib/python/site-packages/jupyter_core/command.py\", line 247, in main\n",
            "\u001b[1;31m\n",
            "\u001b[1;31m    command = _jupyter_abspath(subcommand)\n",
            "\u001b[1;31m  File \"/Users/dmeneses/Library/Python/2.7/lib/python/site-packages/jupyter_core/command.py\", line 134, in _jupyter_abspath\n",
            "\u001b[1;31m    'Jupyter command `{}` not found.'.format(jupyter_subcommand)\n",
            "\u001b[1;31mException: Jupyter command `jupyter-notebook` not found. \n",
            "\u001b[1;31mVea el [registro] de Jupyter (command:jupyter.viewOutput) para obtener más detalles."
          ]
        }
      ],
      "source": [
        "ndf.loc[2:5 , favs]"
      ]
    },
    {
      "cell_type": "code",
      "execution_count": null,
      "metadata": {
        "colab": {
          "base_uri": "https://localhost:8080/",
          "height": 203
        },
        "id": "CyW66Ig0a6xx",
        "outputId": "b2c85bfc-2748-44bd-ace5-b95352012f01"
      },
      "outputs": [
        {
          "ename": "",
          "evalue": "",
          "output_type": "error",
          "traceback": [
            "\u001b[1;31mNo se pudo iniciar el Kernel. \n",
            "\u001b[1;31mEl servidor de Jupyter se bloqueó. No se puede conectar. \n",
            "\u001b[1;31mCódigo de error de Jupyter: 1\n",
            "\u001b[1;31mTraceback (most recent call last):\n",
            "\u001b[1;31m  File \"/Library/Frameworks/Python.framework/Versions/2.7/lib/python2.7/runpy.py\", line 174, in _run_module_as_main\n",
            "\u001b[1;31m\n",
            "\u001b[1;31m    \"__main__\", fname, loader, pkg_name)\n",
            "\u001b[1;31m  File \"/Library/Frameworks/Python.framework/Versions/2.7/lib/python2.7/runpy.py\", line 72, in _run_code\n",
            "\u001b[1;31m    exec code in run_globals\n",
            "\u001b[1;31m  File \"/Users/dmeneses/Library/Python/2.7/lib/python/site-packages/jupyter.py\", line 10, in <module>\n",
            "\u001b[1;31m    run_module('jupyter_core')\n",
            "\u001b[1;31m  File \"/Library/Frameworks/Python.framework/Versions/2.7/lib/python2.7/runpy.py\", line 192, in run_module\n",
            "\u001b[1;31m    fname, loader, pkg_name)\n",
            "\u001b[1;31m  File \"/Library/Frameworks/Python.framework/Versions/2.7/lib/python2.7/runpy.py\", line 72, in _run_code\n",
            "\u001b[1;31m    exec code in run_globals\n",
            "\u001b[1;31m  File \"/Users/dmeneses/Library/Python/2.7/lib/python/site-packages/jupyter_core/__main__.py\", line 3, in <module>\n",
            "\u001b[1;31m    main()\n",
            "\u001b[1;31m  File \"/Users/dmeneses/Library/Python/2.7/lib/python/site-packages/jupyter_core/command.py\", line 247, in main\n",
            "\u001b[1;31m\n",
            "\u001b[1;31m    command = _jupyter_abspath(subcommand)\n",
            "\u001b[1;31m  File \"/Users/dmeneses/Library/Python/2.7/lib/python/site-packages/jupyter_core/command.py\", line 134, in _jupyter_abspath\n",
            "\u001b[1;31m    'Jupyter command `{}` not found.'.format(jupyter_subcommand)\n",
            "\u001b[1;31mException: Jupyter command `jupyter-notebook` not found. \n",
            "\u001b[1;31mVea el [registro] de Jupyter (command:jupyter.viewOutput) para obtener más detalles."
          ]
        }
      ],
      "source": [
        "ndf.iloc[2:5, [1,2, 3]] # iloc  - so, indices"
      ]
    },
    {
      "cell_type": "code",
      "execution_count": null,
      "metadata": {
        "colab": {
          "base_uri": "https://localhost:8080/"
        },
        "id": "1SzWmEoFcM6t",
        "outputId": "d8e1b5b9-a179-4c4c-89d5-0fecf1afa0f2"
      },
      "outputs": [
        {
          "ename": "",
          "evalue": "",
          "output_type": "error",
          "traceback": [
            "\u001b[1;31mNo se pudo iniciar el Kernel. \n",
            "\u001b[1;31mEl servidor de Jupyter se bloqueó. No se puede conectar. \n",
            "\u001b[1;31mCódigo de error de Jupyter: 1\n",
            "\u001b[1;31mTraceback (most recent call last):\n",
            "\u001b[1;31m  File \"/Library/Frameworks/Python.framework/Versions/2.7/lib/python2.7/runpy.py\", line 174, in _run_module_as_main\n",
            "\u001b[1;31m\n",
            "\u001b[1;31m    \"__main__\", fname, loader, pkg_name)\n",
            "\u001b[1;31m  File \"/Library/Frameworks/Python.framework/Versions/2.7/lib/python2.7/runpy.py\", line 72, in _run_code\n",
            "\u001b[1;31m    exec code in run_globals\n",
            "\u001b[1;31m  File \"/Users/dmeneses/Library/Python/2.7/lib/python/site-packages/jupyter.py\", line 10, in <module>\n",
            "\u001b[1;31m    run_module('jupyter_core')\n",
            "\u001b[1;31m  File \"/Library/Frameworks/Python.framework/Versions/2.7/lib/python2.7/runpy.py\", line 192, in run_module\n",
            "\u001b[1;31m    fname, loader, pkg_name)\n",
            "\u001b[1;31m  File \"/Library/Frameworks/Python.framework/Versions/2.7/lib/python2.7/runpy.py\", line 72, in _run_code\n",
            "\u001b[1;31m    exec code in run_globals\n",
            "\u001b[1;31m  File \"/Users/dmeneses/Library/Python/2.7/lib/python/site-packages/jupyter_core/__main__.py\", line 3, in <module>\n",
            "\u001b[1;31m    main()\n",
            "\u001b[1;31m  File \"/Users/dmeneses/Library/Python/2.7/lib/python/site-packages/jupyter_core/command.py\", line 247, in main\n",
            "\u001b[1;31m\n",
            "\u001b[1;31m    command = _jupyter_abspath(subcommand)\n",
            "\u001b[1;31m  File \"/Users/dmeneses/Library/Python/2.7/lib/python/site-packages/jupyter_core/command.py\", line 134, in _jupyter_abspath\n",
            "\u001b[1;31m    'Jupyter command `{}` not found.'.format(jupyter_subcommand)\n",
            "\u001b[1;31mException: Jupyter command `jupyter-notebook` not found. \n",
            "\u001b[1;31mVea el [registro] de Jupyter (command:jupyter.viewOutput) para obtener más detalles."
          ]
        }
      ],
      "source": [
        "ndf.columns"
      ]
    },
    {
      "cell_type": "code",
      "execution_count": null,
      "metadata": {
        "colab": {
          "base_uri": "https://localhost:8080/"
        },
        "id": "oub49H-2cw6r",
        "outputId": "f02935c4-046e-4d6e-db2d-7340eb667982"
      },
      "outputs": [
        {
          "ename": "",
          "evalue": "",
          "output_type": "error",
          "traceback": [
            "\u001b[1;31mNo se pudo iniciar el Kernel. \n",
            "\u001b[1;31mEl servidor de Jupyter se bloqueó. No se puede conectar. \n",
            "\u001b[1;31mCódigo de error de Jupyter: 1\n",
            "\u001b[1;31mTraceback (most recent call last):\n",
            "\u001b[1;31m  File \"/Library/Frameworks/Python.framework/Versions/2.7/lib/python2.7/runpy.py\", line 174, in _run_module_as_main\n",
            "\u001b[1;31m\n",
            "\u001b[1;31m    \"__main__\", fname, loader, pkg_name)\n",
            "\u001b[1;31m  File \"/Library/Frameworks/Python.framework/Versions/2.7/lib/python2.7/runpy.py\", line 72, in _run_code\n",
            "\u001b[1;31m    exec code in run_globals\n",
            "\u001b[1;31m  File \"/Users/dmeneses/Library/Python/2.7/lib/python/site-packages/jupyter.py\", line 10, in <module>\n",
            "\u001b[1;31m    run_module('jupyter_core')\n",
            "\u001b[1;31m  File \"/Library/Frameworks/Python.framework/Versions/2.7/lib/python2.7/runpy.py\", line 192, in run_module\n",
            "\u001b[1;31m    fname, loader, pkg_name)\n",
            "\u001b[1;31m  File \"/Library/Frameworks/Python.framework/Versions/2.7/lib/python2.7/runpy.py\", line 72, in _run_code\n",
            "\u001b[1;31m    exec code in run_globals\n",
            "\u001b[1;31m  File \"/Users/dmeneses/Library/Python/2.7/lib/python/site-packages/jupyter_core/__main__.py\", line 3, in <module>\n",
            "\u001b[1;31m    main()\n",
            "\u001b[1;31m  File \"/Users/dmeneses/Library/Python/2.7/lib/python/site-packages/jupyter_core/command.py\", line 247, in main\n",
            "\u001b[1;31m\n",
            "\u001b[1;31m    command = _jupyter_abspath(subcommand)\n",
            "\u001b[1;31m  File \"/Users/dmeneses/Library/Python/2.7/lib/python/site-packages/jupyter_core/command.py\", line 134, in _jupyter_abspath\n",
            "\u001b[1;31m    'Jupyter command `{}` not found.'.format(jupyter_subcommand)\n",
            "\u001b[1;31mException: Jupyter command `jupyter-notebook` not found. \n",
            "\u001b[1;31mVea el [registro] de Jupyter (command:jupyter.viewOutput) para obtener más detalles."
          ]
        }
      ],
      "source": [
        "for i in ndf.columns:\n",
        "  print(i)"
      ]
    },
    {
      "cell_type": "code",
      "execution_count": null,
      "metadata": {
        "colab": {
          "base_uri": "https://localhost:8080/",
          "height": 234
        },
        "id": "u77v9QQBdU7c",
        "outputId": "24f26007-7b50-4c1c-9094-99bead28811e"
      },
      "outputs": [
        {
          "ename": "",
          "evalue": "",
          "output_type": "error",
          "traceback": [
            "\u001b[1;31mNo se pudo iniciar el Kernel. \n",
            "\u001b[1;31mEl servidor de Jupyter se bloqueó. No se puede conectar. \n",
            "\u001b[1;31mCódigo de error de Jupyter: 1\n",
            "\u001b[1;31mTraceback (most recent call last):\n",
            "\u001b[1;31m  File \"/Library/Frameworks/Python.framework/Versions/2.7/lib/python2.7/runpy.py\", line 174, in _run_module_as_main\n",
            "\u001b[1;31m\n",
            "\u001b[1;31m    \"__main__\", fname, loader, pkg_name)\n",
            "\u001b[1;31m  File \"/Library/Frameworks/Python.framework/Versions/2.7/lib/python2.7/runpy.py\", line 72, in _run_code\n",
            "\u001b[1;31m    exec code in run_globals\n",
            "\u001b[1;31m  File \"/Users/dmeneses/Library/Python/2.7/lib/python/site-packages/jupyter.py\", line 10, in <module>\n",
            "\u001b[1;31m    run_module('jupyter_core')\n",
            "\u001b[1;31m  File \"/Library/Frameworks/Python.framework/Versions/2.7/lib/python2.7/runpy.py\", line 192, in run_module\n",
            "\u001b[1;31m    fname, loader, pkg_name)\n",
            "\u001b[1;31m  File \"/Library/Frameworks/Python.framework/Versions/2.7/lib/python2.7/runpy.py\", line 72, in _run_code\n",
            "\u001b[1;31m    exec code in run_globals\n",
            "\u001b[1;31m  File \"/Users/dmeneses/Library/Python/2.7/lib/python/site-packages/jupyter_core/__main__.py\", line 3, in <module>\n",
            "\u001b[1;31m    main()\n",
            "\u001b[1;31m  File \"/Users/dmeneses/Library/Python/2.7/lib/python/site-packages/jupyter_core/command.py\", line 247, in main\n",
            "\u001b[1;31m\n",
            "\u001b[1;31m    command = _jupyter_abspath(subcommand)\n",
            "\u001b[1;31m  File \"/Users/dmeneses/Library/Python/2.7/lib/python/site-packages/jupyter_core/command.py\", line 134, in _jupyter_abspath\n",
            "\u001b[1;31m    'Jupyter command `{}` not found.'.format(jupyter_subcommand)\n",
            "\u001b[1;31mException: Jupyter command `jupyter-notebook` not found. \n",
            "\u001b[1;31mVea el [registro] de Jupyter (command:jupyter.viewOutput) para obtener más detalles."
          ]
        }
      ],
      "source": [
        "ndf.head(4)"
      ]
    },
    {
      "cell_type": "code",
      "execution_count": null,
      "metadata": {
        "colab": {
          "base_uri": "https://localhost:8080/"
        },
        "id": "K2lytCc9dhb6",
        "outputId": "b96aa3a5-e935-48c3-992c-0bade1c1ca03"
      },
      "outputs": [
        {
          "ename": "",
          "evalue": "",
          "output_type": "error",
          "traceback": [
            "\u001b[1;31mNo se pudo iniciar el Kernel. \n",
            "\u001b[1;31mEl servidor de Jupyter se bloqueó. No se puede conectar. \n",
            "\u001b[1;31mCódigo de error de Jupyter: 1\n",
            "\u001b[1;31mTraceback (most recent call last):\n",
            "\u001b[1;31m  File \"/Library/Frameworks/Python.framework/Versions/2.7/lib/python2.7/runpy.py\", line 174, in _run_module_as_main\n",
            "\u001b[1;31m\n",
            "\u001b[1;31m    \"__main__\", fname, loader, pkg_name)\n",
            "\u001b[1;31m  File \"/Library/Frameworks/Python.framework/Versions/2.7/lib/python2.7/runpy.py\", line 72, in _run_code\n",
            "\u001b[1;31m    exec code in run_globals\n",
            "\u001b[1;31m  File \"/Users/dmeneses/Library/Python/2.7/lib/python/site-packages/jupyter.py\", line 10, in <module>\n",
            "\u001b[1;31m    run_module('jupyter_core')\n",
            "\u001b[1;31m  File \"/Library/Frameworks/Python.framework/Versions/2.7/lib/python2.7/runpy.py\", line 192, in run_module\n",
            "\u001b[1;31m    fname, loader, pkg_name)\n",
            "\u001b[1;31m  File \"/Library/Frameworks/Python.framework/Versions/2.7/lib/python2.7/runpy.py\", line 72, in _run_code\n",
            "\u001b[1;31m    exec code in run_globals\n",
            "\u001b[1;31m  File \"/Users/dmeneses/Library/Python/2.7/lib/python/site-packages/jupyter_core/__main__.py\", line 3, in <module>\n",
            "\u001b[1;31m    main()\n",
            "\u001b[1;31m  File \"/Users/dmeneses/Library/Python/2.7/lib/python/site-packages/jupyter_core/command.py\", line 247, in main\n",
            "\u001b[1;31m\n",
            "\u001b[1;31m    command = _jupyter_abspath(subcommand)\n",
            "\u001b[1;31m  File \"/Users/dmeneses/Library/Python/2.7/lib/python/site-packages/jupyter_core/command.py\", line 134, in _jupyter_abspath\n",
            "\u001b[1;31m    'Jupyter command `{}` not found.'.format(jupyter_subcommand)\n",
            "\u001b[1;31mException: Jupyter command `jupyter-notebook` not found. \n",
            "\u001b[1;31mVea el [registro] de Jupyter (command:jupyter.viewOutput) para obtener más detalles."
          ]
        }
      ],
      "source": [
        "ndf.Company.unique()"
      ]
    },
    {
      "cell_type": "code",
      "execution_count": null,
      "metadata": {
        "colab": {
          "base_uri": "https://localhost:8080/"
        },
        "id": "K0e8CVMBeTnF",
        "outputId": "0af01ba9-8846-4efd-eb97-6127ab62c565"
      },
      "outputs": [
        {
          "ename": "",
          "evalue": "",
          "output_type": "error",
          "traceback": [
            "\u001b[1;31mNo se pudo iniciar el Kernel. \n",
            "\u001b[1;31mEl servidor de Jupyter se bloqueó. No se puede conectar. \n",
            "\u001b[1;31mCódigo de error de Jupyter: 1\n",
            "\u001b[1;31mTraceback (most recent call last):\n",
            "\u001b[1;31m  File \"/Library/Frameworks/Python.framework/Versions/2.7/lib/python2.7/runpy.py\", line 174, in _run_module_as_main\n",
            "\u001b[1;31m\n",
            "\u001b[1;31m    \"__main__\", fname, loader, pkg_name)\n",
            "\u001b[1;31m  File \"/Library/Frameworks/Python.framework/Versions/2.7/lib/python2.7/runpy.py\", line 72, in _run_code\n",
            "\u001b[1;31m    exec code in run_globals\n",
            "\u001b[1;31m  File \"/Users/dmeneses/Library/Python/2.7/lib/python/site-packages/jupyter.py\", line 10, in <module>\n",
            "\u001b[1;31m    run_module('jupyter_core')\n",
            "\u001b[1;31m  File \"/Library/Frameworks/Python.framework/Versions/2.7/lib/python2.7/runpy.py\", line 192, in run_module\n",
            "\u001b[1;31m    fname, loader, pkg_name)\n",
            "\u001b[1;31m  File \"/Library/Frameworks/Python.framework/Versions/2.7/lib/python2.7/runpy.py\", line 72, in _run_code\n",
            "\u001b[1;31m    exec code in run_globals\n",
            "\u001b[1;31m  File \"/Users/dmeneses/Library/Python/2.7/lib/python/site-packages/jupyter_core/__main__.py\", line 3, in <module>\n",
            "\u001b[1;31m    main()\n",
            "\u001b[1;31m  File \"/Users/dmeneses/Library/Python/2.7/lib/python/site-packages/jupyter_core/command.py\", line 247, in main\n",
            "\u001b[1;31m\n",
            "\u001b[1;31m    command = _jupyter_abspath(subcommand)\n",
            "\u001b[1;31m  File \"/Users/dmeneses/Library/Python/2.7/lib/python/site-packages/jupyter_core/command.py\", line 134, in _jupyter_abspath\n",
            "\u001b[1;31m    'Jupyter command `{}` not found.'.format(jupyter_subcommand)\n",
            "\u001b[1;31mException: Jupyter command `jupyter-notebook` not found. \n",
            "\u001b[1;31mVea el [registro] de Jupyter (command:jupyter.viewOutput) para obtener más detalles."
          ]
        }
      ],
      "source": [
        "df.groupby(['Company', 'Origin']).size()"
      ]
    },
    {
      "cell_type": "code",
      "execution_count": null,
      "metadata": {
        "colab": {
          "base_uri": "https://localhost:8080/"
        },
        "id": "5UFyQ-AVe9Hl",
        "outputId": "83cd0b65-15a5-4d0b-9d3b-a26fe1ee84eb"
      },
      "outputs": [
        {
          "ename": "",
          "evalue": "",
          "output_type": "error",
          "traceback": [
            "\u001b[1;31mNo se pudo iniciar el Kernel. \n",
            "\u001b[1;31mEl servidor de Jupyter se bloqueó. No se puede conectar. \n",
            "\u001b[1;31mCódigo de error de Jupyter: 1\n",
            "\u001b[1;31mTraceback (most recent call last):\n",
            "\u001b[1;31m  File \"/Library/Frameworks/Python.framework/Versions/2.7/lib/python2.7/runpy.py\", line 174, in _run_module_as_main\n",
            "\u001b[1;31m\n",
            "\u001b[1;31m    \"__main__\", fname, loader, pkg_name)\n",
            "\u001b[1;31m  File \"/Library/Frameworks/Python.framework/Versions/2.7/lib/python2.7/runpy.py\", line 72, in _run_code\n",
            "\u001b[1;31m    exec code in run_globals\n",
            "\u001b[1;31m  File \"/Users/dmeneses/Library/Python/2.7/lib/python/site-packages/jupyter.py\", line 10, in <module>\n",
            "\u001b[1;31m    run_module('jupyter_core')\n",
            "\u001b[1;31m  File \"/Library/Frameworks/Python.framework/Versions/2.7/lib/python2.7/runpy.py\", line 192, in run_module\n",
            "\u001b[1;31m    fname, loader, pkg_name)\n",
            "\u001b[1;31m  File \"/Library/Frameworks/Python.framework/Versions/2.7/lib/python2.7/runpy.py\", line 72, in _run_code\n",
            "\u001b[1;31m    exec code in run_globals\n",
            "\u001b[1;31m  File \"/Users/dmeneses/Library/Python/2.7/lib/python/site-packages/jupyter_core/__main__.py\", line 3, in <module>\n",
            "\u001b[1;31m    main()\n",
            "\u001b[1;31m  File \"/Users/dmeneses/Library/Python/2.7/lib/python/site-packages/jupyter_core/command.py\", line 247, in main\n",
            "\u001b[1;31m\n",
            "\u001b[1;31m    command = _jupyter_abspath(subcommand)\n",
            "\u001b[1;31m  File \"/Users/dmeneses/Library/Python/2.7/lib/python/site-packages/jupyter_core/command.py\", line 134, in _jupyter_abspath\n",
            "\u001b[1;31m    'Jupyter command `{}` not found.'.format(jupyter_subcommand)\n",
            "\u001b[1;31mException: Jupyter command `jupyter-notebook` not found. \n",
            "\u001b[1;31mVea el [registro] de Jupyter (command:jupyter.viewOutput) para obtener más detalles."
          ]
        }
      ],
      "source": [
        "df[['Company', 'Origin']].value_counts()"
      ]
    },
    {
      "cell_type": "markdown",
      "metadata": {
        "id": "8KAvVO6Edf7b"
      },
      "source": [
        "### Eliminar columns / Cambiar nombre de las columns"
      ]
    },
    {
      "cell_type": "code",
      "execution_count": null,
      "metadata": {
        "colab": {
          "base_uri": "https://localhost:8080/",
          "height": 295
        },
        "id": "4Nms3kwpdeYr",
        "outputId": "36c81a5f-b8a7-4097-b794-020cc0f3ca01"
      },
      "outputs": [
        {
          "ename": "",
          "evalue": "",
          "output_type": "error",
          "traceback": [
            "\u001b[1;31mNo se pudo iniciar el Kernel. \n",
            "\u001b[1;31mEl servidor de Jupyter se bloqueó. No se puede conectar. \n",
            "\u001b[1;31mCódigo de error de Jupyter: 1\n",
            "\u001b[1;31mTraceback (most recent call last):\n",
            "\u001b[1;31m  File \"/Library/Frameworks/Python.framework/Versions/2.7/lib/python2.7/runpy.py\", line 174, in _run_module_as_main\n",
            "\u001b[1;31m\n",
            "\u001b[1;31m    \"__main__\", fname, loader, pkg_name)\n",
            "\u001b[1;31m  File \"/Library/Frameworks/Python.framework/Versions/2.7/lib/python2.7/runpy.py\", line 72, in _run_code\n",
            "\u001b[1;31m    exec code in run_globals\n",
            "\u001b[1;31m  File \"/Users/dmeneses/Library/Python/2.7/lib/python/site-packages/jupyter.py\", line 10, in <module>\n",
            "\u001b[1;31m    run_module('jupyter_core')\n",
            "\u001b[1;31m  File \"/Library/Frameworks/Python.framework/Versions/2.7/lib/python2.7/runpy.py\", line 192, in run_module\n",
            "\u001b[1;31m    fname, loader, pkg_name)\n",
            "\u001b[1;31m  File \"/Library/Frameworks/Python.framework/Versions/2.7/lib/python2.7/runpy.py\", line 72, in _run_code\n",
            "\u001b[1;31m    exec code in run_globals\n",
            "\u001b[1;31m  File \"/Users/dmeneses/Library/Python/2.7/lib/python/site-packages/jupyter_core/__main__.py\", line 3, in <module>\n",
            "\u001b[1;31m    main()\n",
            "\u001b[1;31m  File \"/Users/dmeneses/Library/Python/2.7/lib/python/site-packages/jupyter_core/command.py\", line 247, in main\n",
            "\u001b[1;31m\n",
            "\u001b[1;31m    command = _jupyter_abspath(subcommand)\n",
            "\u001b[1;31m  File \"/Users/dmeneses/Library/Python/2.7/lib/python/site-packages/jupyter_core/command.py\", line 134, in _jupyter_abspath\n",
            "\u001b[1;31m    'Jupyter command `{}` not found.'.format(jupyter_subcommand)\n",
            "\u001b[1;31mException: Jupyter command `jupyter-notebook` not found. \n",
            "\u001b[1;31mVea el [registro] de Jupyter (command:jupyter.viewOutput) para obtener más detalles."
          ]
        }
      ],
      "source": [
        "ndf"
      ]
    },
    {
      "cell_type": "code",
      "execution_count": null,
      "metadata": {
        "colab": {
          "base_uri": "https://localhost:8080/",
          "height": 295
        },
        "id": "M4XTkEGodmUk",
        "outputId": "c08ee34a-8bf5-485f-9f96-f355008f066f"
      },
      "outputs": [
        {
          "ename": "",
          "evalue": "",
          "output_type": "error",
          "traceback": [
            "\u001b[1;31mNo se pudo iniciar el Kernel. \n",
            "\u001b[1;31mEl servidor de Jupyter se bloqueó. No se puede conectar. \n",
            "\u001b[1;31mCódigo de error de Jupyter: 1\n",
            "\u001b[1;31mTraceback (most recent call last):\n",
            "\u001b[1;31m  File \"/Library/Frameworks/Python.framework/Versions/2.7/lib/python2.7/runpy.py\", line 174, in _run_module_as_main\n",
            "\u001b[1;31m\n",
            "\u001b[1;31m    \"__main__\", fname, loader, pkg_name)\n",
            "\u001b[1;31m  File \"/Library/Frameworks/Python.framework/Versions/2.7/lib/python2.7/runpy.py\", line 72, in _run_code\n",
            "\u001b[1;31m    exec code in run_globals\n",
            "\u001b[1;31m  File \"/Users/dmeneses/Library/Python/2.7/lib/python/site-packages/jupyter.py\", line 10, in <module>\n",
            "\u001b[1;31m    run_module('jupyter_core')\n",
            "\u001b[1;31m  File \"/Library/Frameworks/Python.framework/Versions/2.7/lib/python2.7/runpy.py\", line 192, in run_module\n",
            "\u001b[1;31m    fname, loader, pkg_name)\n",
            "\u001b[1;31m  File \"/Library/Frameworks/Python.framework/Versions/2.7/lib/python2.7/runpy.py\", line 72, in _run_code\n",
            "\u001b[1;31m    exec code in run_globals\n",
            "\u001b[1;31m  File \"/Users/dmeneses/Library/Python/2.7/lib/python/site-packages/jupyter_core/__main__.py\", line 3, in <module>\n",
            "\u001b[1;31m    main()\n",
            "\u001b[1;31m  File \"/Users/dmeneses/Library/Python/2.7/lib/python/site-packages/jupyter_core/command.py\", line 247, in main\n",
            "\u001b[1;31m\n",
            "\u001b[1;31m    command = _jupyter_abspath(subcommand)\n",
            "\u001b[1;31m  File \"/Users/dmeneses/Library/Python/2.7/lib/python/site-packages/jupyter_core/command.py\", line 134, in _jupyter_abspath\n",
            "\u001b[1;31m    'Jupyter command `{}` not found.'.format(jupyter_subcommand)\n",
            "\u001b[1;31mException: Jupyter command `jupyter-notebook` not found. \n",
            "\u001b[1;31mVea el [registro] de Jupyter (command:jupyter.viewOutput) para obtener más detalles."
          ]
        }
      ],
      "source": [
        "ndf2 = ndf.drop(['Stars', 'Origin',], axis = 1)\n",
        "ndf2"
      ]
    },
    {
      "cell_type": "code",
      "execution_count": null,
      "metadata": {
        "colab": {
          "base_uri": "https://localhost:8080/",
          "height": 295
        },
        "id": "Y6z80VZidw13",
        "outputId": "83829dbe-7322-490b-bac4-c6f1e4c9fd6d"
      },
      "outputs": [
        {
          "ename": "",
          "evalue": "",
          "output_type": "error",
          "traceback": [
            "\u001b[1;31mNo se pudo iniciar el Kernel. \n",
            "\u001b[1;31mEl servidor de Jupyter se bloqueó. No se puede conectar. \n",
            "\u001b[1;31mCódigo de error de Jupyter: 1\n",
            "\u001b[1;31mTraceback (most recent call last):\n",
            "\u001b[1;31m  File \"/Library/Frameworks/Python.framework/Versions/2.7/lib/python2.7/runpy.py\", line 174, in _run_module_as_main\n",
            "\u001b[1;31m\n",
            "\u001b[1;31m    \"__main__\", fname, loader, pkg_name)\n",
            "\u001b[1;31m  File \"/Library/Frameworks/Python.framework/Versions/2.7/lib/python2.7/runpy.py\", line 72, in _run_code\n",
            "\u001b[1;31m    exec code in run_globals\n",
            "\u001b[1;31m  File \"/Users/dmeneses/Library/Python/2.7/lib/python/site-packages/jupyter.py\", line 10, in <module>\n",
            "\u001b[1;31m    run_module('jupyter_core')\n",
            "\u001b[1;31m  File \"/Library/Frameworks/Python.framework/Versions/2.7/lib/python2.7/runpy.py\", line 192, in run_module\n",
            "\u001b[1;31m    fname, loader, pkg_name)\n",
            "\u001b[1;31m  File \"/Library/Frameworks/Python.framework/Versions/2.7/lib/python2.7/runpy.py\", line 72, in _run_code\n",
            "\u001b[1;31m    exec code in run_globals\n",
            "\u001b[1;31m  File \"/Users/dmeneses/Library/Python/2.7/lib/python/site-packages/jupyter_core/__main__.py\", line 3, in <module>\n",
            "\u001b[1;31m    main()\n",
            "\u001b[1;31m  File \"/Users/dmeneses/Library/Python/2.7/lib/python/site-packages/jupyter_core/command.py\", line 247, in main\n",
            "\u001b[1;31m\n",
            "\u001b[1;31m    command = _jupyter_abspath(subcommand)\n",
            "\u001b[1;31m  File \"/Users/dmeneses/Library/Python/2.7/lib/python/site-packages/jupyter_core/command.py\", line 134, in _jupyter_abspath\n",
            "\u001b[1;31m    'Jupyter command `{}` not found.'.format(jupyter_subcommand)\n",
            "\u001b[1;31mException: Jupyter command `jupyter-notebook` not found. \n",
            "\u001b[1;31mVea el [registro] de Jupyter (command:jupyter.viewOutput) para obtener más detalles."
          ]
        }
      ],
      "source": [
        "ndf2.rename(columns = {'Company' : 'Empresa', 'Weight': 'Peso'}, inplace = True)\n",
        "ndf2"
      ]
    },
    {
      "cell_type": "markdown",
      "metadata": {
        "id": "r_KFTeDh5eHg"
      },
      "source": [
        "## Datos perdidos - Tener en cuenta"
      ]
    },
    {
      "cell_type": "markdown",
      "metadata": {
        "id": "_8cWsu5Q5xbX"
      },
      "source": [
        "* Excluya las filas o características. \n",
        "* Cumpliméntelas con un valor estimado."
      ]
    },
    {
      "cell_type": "markdown",
      "metadata": {
        "id": "ph2iFrhW5VRh"
      },
      "source": [
        "Errores de datos\tUtilice recursos lógicos para descubrir errores manuales y corríjalos. O, excluya las características.\n"
      ]
    },
    {
      "cell_type": "markdown",
      "metadata": {
        "id": "25z2JgNF5Wx6"
      },
      "source": [
        "Incoherencias de codificación\tDecida un esquema de codificación simple y convierta y sustituya los valores.\n"
      ]
    },
    {
      "cell_type": "markdown",
      "metadata": {
        "id": "qvHNH_E25Yf1"
      },
      "source": [
        "Metadatos perdidos o erróneos\tExamine manualmente los campos sospechosos y compruebe el significado correcto."
      ]
    },
    {
      "cell_type": "markdown",
      "metadata": {
        "id": "Pz0nRTw62Y-B"
      },
      "source": [
        "# Crear un informe de limpieza de datos\n",
        "\n",
        "\n",
        "Registrar sus actividades de limpieza de datos es esencial para registrar las modificaciones de los datos. \n",
        "\n",
        "Los futuros proyectos de minería de datos se beneficiarán de los detalles del trabajo disponible.\n",
        "\n",
        "\n",
        "Es una excelente idea considerar las siguientes cuestiones cuando genere el informe:\n",
        "\n",
        "\n",
        "* ¿Qué tipos de ruido se han producido en los datos?\n",
        "* ¿Qué métodos utiliza para eliminar el ruido? \n",
        "    \n",
        "    > ¿Qué técnicas han demostrado ser eficaces?\n",
        "\n",
        "* ¿Existen casos o atributos que no se pueden recuperar? \n",
        "> Asegúrese de registrar los datos que se han excluido por causas del ruido."
      ]
    },
    {
      "cell_type": "code",
      "execution_count": null,
      "metadata": {
        "id": "kGd2pbKI2XMK",
        "outputId": "7a4eec9d-0443-4220-ef27-71c22ccff759"
      },
      "outputs": [
        {
          "ename": "",
          "evalue": "",
          "output_type": "error",
          "traceback": [
            "\u001b[1;31mNo se pudo iniciar el Kernel. \n",
            "\u001b[1;31mEl servidor de Jupyter se bloqueó. No se puede conectar. \n",
            "\u001b[1;31mCódigo de error de Jupyter: 1\n",
            "\u001b[1;31mTraceback (most recent call last):\n",
            "\u001b[1;31m  File \"/Library/Frameworks/Python.framework/Versions/2.7/lib/python2.7/runpy.py\", line 174, in _run_module_as_main\n",
            "\u001b[1;31m\n",
            "\u001b[1;31m    \"__main__\", fname, loader, pkg_name)\n",
            "\u001b[1;31m  File \"/Library/Frameworks/Python.framework/Versions/2.7/lib/python2.7/runpy.py\", line 72, in _run_code\n",
            "\u001b[1;31m    exec code in run_globals\n",
            "\u001b[1;31m  File \"/Users/dmeneses/Library/Python/2.7/lib/python/site-packages/jupyter.py\", line 10, in <module>\n",
            "\u001b[1;31m    run_module('jupyter_core')\n",
            "\u001b[1;31m  File \"/Library/Frameworks/Python.framework/Versions/2.7/lib/python2.7/runpy.py\", line 192, in run_module\n",
            "\u001b[1;31m    fname, loader, pkg_name)\n",
            "\u001b[1;31m  File \"/Library/Frameworks/Python.framework/Versions/2.7/lib/python2.7/runpy.py\", line 72, in _run_code\n",
            "\u001b[1;31m    exec code in run_globals\n",
            "\u001b[1;31m  File \"/Users/dmeneses/Library/Python/2.7/lib/python/site-packages/jupyter_core/__main__.py\", line 3, in <module>\n",
            "\u001b[1;31m    main()\n",
            "\u001b[1;31m  File \"/Users/dmeneses/Library/Python/2.7/lib/python/site-packages/jupyter_core/command.py\", line 247, in main\n",
            "\u001b[1;31m\n",
            "\u001b[1;31m    command = _jupyter_abspath(subcommand)\n",
            "\u001b[1;31m  File \"/Users/dmeneses/Library/Python/2.7/lib/python/site-packages/jupyter_core/command.py\", line 134, in _jupyter_abspath\n",
            "\u001b[1;31m    'Jupyter command `{}` not found.'.format(jupyter_subcommand)\n",
            "\u001b[1;31mException: Jupyter command `jupyter-notebook` not found. \n",
            "\u001b[1;31mVea el [registro] de Jupyter (command:jupyter.viewOutput) para obtener más detalles."
          ]
        }
      ],
      "source": []
    }
  ],
  "metadata": {
    "colab": {
      "provenance": []
    },
    "kernelspec": {
      "display_name": "Python 2.7.18 64-bit",
      "language": "python",
      "name": "python3"
    },
    "language_info": {
      "name": "python",
      "version": "2.7.18"
    },
    "vscode": {
      "interpreter": {
        "hash": "0ef3be7f0c0b8459529ee79533840b5b73ae5f82458da6e33134bc1d9f61d8b6"
      }
    }
  },
  "nbformat": 4,
  "nbformat_minor": 0
}